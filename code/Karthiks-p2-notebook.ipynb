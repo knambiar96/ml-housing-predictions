{
 "cells": [
  {
   "cell_type": "code",
   "execution_count": 328,
   "id": "2b4f097c-554f-4363-9ba7-a83a4af81389",
   "metadata": {},
   "outputs": [],
   "source": [
    "import numpy as np\n",
    "import pandas as pd\n",
    "import matplotlib.pyplot as plt\n",
    "import seaborn as sns\n",
    "from sklearn.linear_model import LinearRegression\n",
    "from sklearn.impute import SimpleImputer\n",
    "from sklearn.compose import make_column_transformer\n",
    "from category_encoders.one_hot import OneHotEncoder\n",
    "from sklearn.model_selection import train_test_split\n",
    "from sklearn.pipeline import Pipeline\n",
    "from sklearn.preprocessing import StandardScaler\n",
    "from sklearn.feature_selection import RFE\n",
    "from sklearn.metrics import r2_score\n",
    "from sklearn.metrics import mean_squared_error\n",
    "from sklearn.linear_model import RidgeCV\n",
    "from sklearn.linear_model import LassoCV\n",
    "from sklearn.model_selection import GridSearchCV\n",
    "from sklearn.pipeline import make_pipeline\n",
    "from sklearn.preprocessing import PolynomialFeatures\n",
    "from sklearn.model_selection import cross_val_score\n",
    "from sklearn.compose import TransformedTargetRegressor\n",
    "from sklearn.compose import make_column_selector\n",
    "from sklearn.metrics import make_scorer\n",
    "from sklearn.linear_model import Lasso\n",
    "from sklearn.linear_model import Ridge"
   ]
  },
  {
   "cell_type": "code",
   "execution_count": 2,
   "id": "8ec8e513-63d5-4131-ba6f-89a42e2008ff",
   "metadata": {},
   "outputs": [],
   "source": [
    "ames_train = pd.read_csv('../datasets/train.csv')\n",
    "ames_test = pd.read_csv('../datasets/test.csv')"
   ]
  },
  {
   "cell_type": "code",
   "execution_count": 3,
   "id": "82fcfa40-b3ba-45ca-a5da-b08c281f0bcb",
   "metadata": {},
   "outputs": [
    {
     "data": {
      "text/html": [
       "<div>\n",
       "<style scoped>\n",
       "    .dataframe tbody tr th:only-of-type {\n",
       "        vertical-align: middle;\n",
       "    }\n",
       "\n",
       "    .dataframe tbody tr th {\n",
       "        vertical-align: top;\n",
       "    }\n",
       "\n",
       "    .dataframe thead th {\n",
       "        text-align: right;\n",
       "    }\n",
       "</style>\n",
       "<table border=\"1\" class=\"dataframe\">\n",
       "  <thead>\n",
       "    <tr style=\"text-align: right;\">\n",
       "      <th></th>\n",
       "      <th>Id</th>\n",
       "      <th>PID</th>\n",
       "      <th>MS SubClass</th>\n",
       "      <th>MS Zoning</th>\n",
       "      <th>Lot Frontage</th>\n",
       "      <th>Lot Area</th>\n",
       "      <th>Street</th>\n",
       "      <th>Alley</th>\n",
       "      <th>Lot Shape</th>\n",
       "      <th>Land Contour</th>\n",
       "      <th>...</th>\n",
       "      <th>Screen Porch</th>\n",
       "      <th>Pool Area</th>\n",
       "      <th>Pool QC</th>\n",
       "      <th>Fence</th>\n",
       "      <th>Misc Feature</th>\n",
       "      <th>Misc Val</th>\n",
       "      <th>Mo Sold</th>\n",
       "      <th>Yr Sold</th>\n",
       "      <th>Sale Type</th>\n",
       "      <th>SalePrice</th>\n",
       "    </tr>\n",
       "  </thead>\n",
       "  <tbody>\n",
       "    <tr>\n",
       "      <th>0</th>\n",
       "      <td>109</td>\n",
       "      <td>533352170</td>\n",
       "      <td>60</td>\n",
       "      <td>RL</td>\n",
       "      <td>NaN</td>\n",
       "      <td>13517</td>\n",
       "      <td>Pave</td>\n",
       "      <td>NaN</td>\n",
       "      <td>IR1</td>\n",
       "      <td>Lvl</td>\n",
       "      <td>...</td>\n",
       "      <td>0</td>\n",
       "      <td>0</td>\n",
       "      <td>NaN</td>\n",
       "      <td>NaN</td>\n",
       "      <td>NaN</td>\n",
       "      <td>0</td>\n",
       "      <td>3</td>\n",
       "      <td>2010</td>\n",
       "      <td>WD</td>\n",
       "      <td>130500</td>\n",
       "    </tr>\n",
       "    <tr>\n",
       "      <th>1</th>\n",
       "      <td>544</td>\n",
       "      <td>531379050</td>\n",
       "      <td>60</td>\n",
       "      <td>RL</td>\n",
       "      <td>43.0</td>\n",
       "      <td>11492</td>\n",
       "      <td>Pave</td>\n",
       "      <td>NaN</td>\n",
       "      <td>IR1</td>\n",
       "      <td>Lvl</td>\n",
       "      <td>...</td>\n",
       "      <td>0</td>\n",
       "      <td>0</td>\n",
       "      <td>NaN</td>\n",
       "      <td>NaN</td>\n",
       "      <td>NaN</td>\n",
       "      <td>0</td>\n",
       "      <td>4</td>\n",
       "      <td>2009</td>\n",
       "      <td>WD</td>\n",
       "      <td>220000</td>\n",
       "    </tr>\n",
       "    <tr>\n",
       "      <th>2</th>\n",
       "      <td>153</td>\n",
       "      <td>535304180</td>\n",
       "      <td>20</td>\n",
       "      <td>RL</td>\n",
       "      <td>68.0</td>\n",
       "      <td>7922</td>\n",
       "      <td>Pave</td>\n",
       "      <td>NaN</td>\n",
       "      <td>Reg</td>\n",
       "      <td>Lvl</td>\n",
       "      <td>...</td>\n",
       "      <td>0</td>\n",
       "      <td>0</td>\n",
       "      <td>NaN</td>\n",
       "      <td>NaN</td>\n",
       "      <td>NaN</td>\n",
       "      <td>0</td>\n",
       "      <td>1</td>\n",
       "      <td>2010</td>\n",
       "      <td>WD</td>\n",
       "      <td>109000</td>\n",
       "    </tr>\n",
       "    <tr>\n",
       "      <th>3</th>\n",
       "      <td>318</td>\n",
       "      <td>916386060</td>\n",
       "      <td>60</td>\n",
       "      <td>RL</td>\n",
       "      <td>73.0</td>\n",
       "      <td>9802</td>\n",
       "      <td>Pave</td>\n",
       "      <td>NaN</td>\n",
       "      <td>Reg</td>\n",
       "      <td>Lvl</td>\n",
       "      <td>...</td>\n",
       "      <td>0</td>\n",
       "      <td>0</td>\n",
       "      <td>NaN</td>\n",
       "      <td>NaN</td>\n",
       "      <td>NaN</td>\n",
       "      <td>0</td>\n",
       "      <td>4</td>\n",
       "      <td>2010</td>\n",
       "      <td>WD</td>\n",
       "      <td>174000</td>\n",
       "    </tr>\n",
       "    <tr>\n",
       "      <th>4</th>\n",
       "      <td>255</td>\n",
       "      <td>906425045</td>\n",
       "      <td>50</td>\n",
       "      <td>RL</td>\n",
       "      <td>82.0</td>\n",
       "      <td>14235</td>\n",
       "      <td>Pave</td>\n",
       "      <td>NaN</td>\n",
       "      <td>IR1</td>\n",
       "      <td>Lvl</td>\n",
       "      <td>...</td>\n",
       "      <td>0</td>\n",
       "      <td>0</td>\n",
       "      <td>NaN</td>\n",
       "      <td>NaN</td>\n",
       "      <td>NaN</td>\n",
       "      <td>0</td>\n",
       "      <td>3</td>\n",
       "      <td>2010</td>\n",
       "      <td>WD</td>\n",
       "      <td>138500</td>\n",
       "    </tr>\n",
       "    <tr>\n",
       "      <th>...</th>\n",
       "      <td>...</td>\n",
       "      <td>...</td>\n",
       "      <td>...</td>\n",
       "      <td>...</td>\n",
       "      <td>...</td>\n",
       "      <td>...</td>\n",
       "      <td>...</td>\n",
       "      <td>...</td>\n",
       "      <td>...</td>\n",
       "      <td>...</td>\n",
       "      <td>...</td>\n",
       "      <td>...</td>\n",
       "      <td>...</td>\n",
       "      <td>...</td>\n",
       "      <td>...</td>\n",
       "      <td>...</td>\n",
       "      <td>...</td>\n",
       "      <td>...</td>\n",
       "      <td>...</td>\n",
       "      <td>...</td>\n",
       "      <td>...</td>\n",
       "    </tr>\n",
       "    <tr>\n",
       "      <th>2046</th>\n",
       "      <td>1587</td>\n",
       "      <td>921126030</td>\n",
       "      <td>20</td>\n",
       "      <td>RL</td>\n",
       "      <td>79.0</td>\n",
       "      <td>11449</td>\n",
       "      <td>Pave</td>\n",
       "      <td>NaN</td>\n",
       "      <td>IR1</td>\n",
       "      <td>HLS</td>\n",
       "      <td>...</td>\n",
       "      <td>0</td>\n",
       "      <td>0</td>\n",
       "      <td>NaN</td>\n",
       "      <td>NaN</td>\n",
       "      <td>NaN</td>\n",
       "      <td>0</td>\n",
       "      <td>1</td>\n",
       "      <td>2008</td>\n",
       "      <td>WD</td>\n",
       "      <td>298751</td>\n",
       "    </tr>\n",
       "    <tr>\n",
       "      <th>2047</th>\n",
       "      <td>785</td>\n",
       "      <td>905377130</td>\n",
       "      <td>30</td>\n",
       "      <td>RL</td>\n",
       "      <td>NaN</td>\n",
       "      <td>12342</td>\n",
       "      <td>Pave</td>\n",
       "      <td>NaN</td>\n",
       "      <td>IR1</td>\n",
       "      <td>Lvl</td>\n",
       "      <td>...</td>\n",
       "      <td>0</td>\n",
       "      <td>0</td>\n",
       "      <td>NaN</td>\n",
       "      <td>NaN</td>\n",
       "      <td>NaN</td>\n",
       "      <td>0</td>\n",
       "      <td>3</td>\n",
       "      <td>2009</td>\n",
       "      <td>WD</td>\n",
       "      <td>82500</td>\n",
       "    </tr>\n",
       "    <tr>\n",
       "      <th>2048</th>\n",
       "      <td>916</td>\n",
       "      <td>909253010</td>\n",
       "      <td>50</td>\n",
       "      <td>RL</td>\n",
       "      <td>57.0</td>\n",
       "      <td>7558</td>\n",
       "      <td>Pave</td>\n",
       "      <td>NaN</td>\n",
       "      <td>Reg</td>\n",
       "      <td>Bnk</td>\n",
       "      <td>...</td>\n",
       "      <td>0</td>\n",
       "      <td>0</td>\n",
       "      <td>NaN</td>\n",
       "      <td>NaN</td>\n",
       "      <td>NaN</td>\n",
       "      <td>0</td>\n",
       "      <td>3</td>\n",
       "      <td>2009</td>\n",
       "      <td>WD</td>\n",
       "      <td>177000</td>\n",
       "    </tr>\n",
       "    <tr>\n",
       "      <th>2049</th>\n",
       "      <td>639</td>\n",
       "      <td>535179160</td>\n",
       "      <td>20</td>\n",
       "      <td>RL</td>\n",
       "      <td>80.0</td>\n",
       "      <td>10400</td>\n",
       "      <td>Pave</td>\n",
       "      <td>NaN</td>\n",
       "      <td>Reg</td>\n",
       "      <td>Lvl</td>\n",
       "      <td>...</td>\n",
       "      <td>0</td>\n",
       "      <td>0</td>\n",
       "      <td>NaN</td>\n",
       "      <td>NaN</td>\n",
       "      <td>NaN</td>\n",
       "      <td>0</td>\n",
       "      <td>11</td>\n",
       "      <td>2009</td>\n",
       "      <td>WD</td>\n",
       "      <td>144000</td>\n",
       "    </tr>\n",
       "    <tr>\n",
       "      <th>2050</th>\n",
       "      <td>10</td>\n",
       "      <td>527162130</td>\n",
       "      <td>60</td>\n",
       "      <td>RL</td>\n",
       "      <td>60.0</td>\n",
       "      <td>7500</td>\n",
       "      <td>Pave</td>\n",
       "      <td>NaN</td>\n",
       "      <td>Reg</td>\n",
       "      <td>Lvl</td>\n",
       "      <td>...</td>\n",
       "      <td>0</td>\n",
       "      <td>0</td>\n",
       "      <td>NaN</td>\n",
       "      <td>NaN</td>\n",
       "      <td>NaN</td>\n",
       "      <td>0</td>\n",
       "      <td>6</td>\n",
       "      <td>2010</td>\n",
       "      <td>WD</td>\n",
       "      <td>189000</td>\n",
       "    </tr>\n",
       "  </tbody>\n",
       "</table>\n",
       "<p>2051 rows × 81 columns</p>\n",
       "</div>"
      ],
      "text/plain": [
       "        Id        PID  MS SubClass MS Zoning  Lot Frontage  Lot Area Street  \\\n",
       "0      109  533352170           60        RL           NaN     13517   Pave   \n",
       "1      544  531379050           60        RL          43.0     11492   Pave   \n",
       "2      153  535304180           20        RL          68.0      7922   Pave   \n",
       "3      318  916386060           60        RL          73.0      9802   Pave   \n",
       "4      255  906425045           50        RL          82.0     14235   Pave   \n",
       "...    ...        ...          ...       ...           ...       ...    ...   \n",
       "2046  1587  921126030           20        RL          79.0     11449   Pave   \n",
       "2047   785  905377130           30        RL           NaN     12342   Pave   \n",
       "2048   916  909253010           50        RL          57.0      7558   Pave   \n",
       "2049   639  535179160           20        RL          80.0     10400   Pave   \n",
       "2050    10  527162130           60        RL          60.0      7500   Pave   \n",
       "\n",
       "     Alley Lot Shape Land Contour  ... Screen Porch Pool Area Pool QC Fence  \\\n",
       "0      NaN       IR1          Lvl  ...            0         0     NaN   NaN   \n",
       "1      NaN       IR1          Lvl  ...            0         0     NaN   NaN   \n",
       "2      NaN       Reg          Lvl  ...            0         0     NaN   NaN   \n",
       "3      NaN       Reg          Lvl  ...            0         0     NaN   NaN   \n",
       "4      NaN       IR1          Lvl  ...            0         0     NaN   NaN   \n",
       "...    ...       ...          ...  ...          ...       ...     ...   ...   \n",
       "2046   NaN       IR1          HLS  ...            0         0     NaN   NaN   \n",
       "2047   NaN       IR1          Lvl  ...            0         0     NaN   NaN   \n",
       "2048   NaN       Reg          Bnk  ...            0         0     NaN   NaN   \n",
       "2049   NaN       Reg          Lvl  ...            0         0     NaN   NaN   \n",
       "2050   NaN       Reg          Lvl  ...            0         0     NaN   NaN   \n",
       "\n",
       "     Misc Feature Misc Val Mo Sold Yr Sold  Sale Type  SalePrice  \n",
       "0             NaN        0       3    2010        WD      130500  \n",
       "1             NaN        0       4    2009        WD      220000  \n",
       "2             NaN        0       1    2010        WD      109000  \n",
       "3             NaN        0       4    2010        WD      174000  \n",
       "4             NaN        0       3    2010        WD      138500  \n",
       "...           ...      ...     ...     ...        ...        ...  \n",
       "2046          NaN        0       1    2008        WD      298751  \n",
       "2047          NaN        0       3    2009        WD       82500  \n",
       "2048          NaN        0       3    2009        WD      177000  \n",
       "2049          NaN        0      11    2009        WD      144000  \n",
       "2050          NaN        0       6    2010        WD      189000  \n",
       "\n",
       "[2051 rows x 81 columns]"
      ]
     },
     "execution_count": 3,
     "metadata": {},
     "output_type": "execute_result"
    }
   ],
   "source": [
    "ames_train"
   ]
  },
  {
   "cell_type": "markdown",
   "id": "d99aaf22-3ec8-4e33-bb8c-90259848b1ff",
   "metadata": {},
   "source": [
    "To start off with, let's change the column names to a more python-friendly style"
   ]
  },
  {
   "cell_type": "code",
   "execution_count": 4,
   "id": "9bd2a4ee-5ffb-4fdc-a341-46c781c20476",
   "metadata": {},
   "outputs": [],
   "source": [
    "ames_train.columns = ames_train.columns.str.lower().str.replace(' ','_')\n",
    "ames_test.columns = ames_test.columns.str.lower().str.replace(' ','_')"
   ]
  },
  {
   "cell_type": "markdown",
   "id": "4e6248a2-8a2f-4c60-9084-37e0f678b375",
   "metadata": {},
   "source": [
    "Let's then see what nulls there are"
   ]
  },
  {
   "cell_type": "code",
   "execution_count": 5,
   "id": "7a4a6afe-853c-4b99-bbcc-b196c691ee82",
   "metadata": {},
   "outputs": [
    {
     "data": {
      "text/plain": [
       "pool_qc           2042\n",
       "misc_feature      1986\n",
       "alley             1911\n",
       "fence             1651\n",
       "fireplace_qu      1000\n",
       "lot_frontage       330\n",
       "garage_finish      114\n",
       "garage_qual        114\n",
       "garage_yr_blt      114\n",
       "garage_cond        114\n",
       "garage_type        113\n",
       "bsmt_exposure       58\n",
       "bsmtfin_type_2      56\n",
       "bsmtfin_type_1      55\n",
       "bsmt_cond           55\n",
       "bsmt_qual           55\n",
       "mas_vnr_area        22\n",
       "mas_vnr_type        22\n",
       "bsmt_half_bath       2\n",
       "bsmt_full_bath       2\n",
       "garage_area          1\n",
       "total_bsmt_sf        1\n",
       "bsmt_unf_sf          1\n",
       "bsmtfin_sf_2         1\n",
       "bsmtfin_sf_1         1\n",
       "garage_cars          1\n",
       "dtype: int64"
      ]
     },
     "execution_count": 5,
     "metadata": {},
     "output_type": "execute_result"
    }
   ],
   "source": [
    "ames_train.isnull().sum().sort_values(ascending=False).loc[lambda x: x>0]"
   ]
  },
  {
   "cell_type": "markdown",
   "id": "99f499ba-4928-46c9-80a4-688d32191dee",
   "metadata": {},
   "source": [
    "Based on the data dictionary, pool_qc, misc_feature, alley, fence, fireplace_qu, garage_finish, garage_qual, garage_yr_blt, garage_cond, garage_type, bsmt_exposure, bsmtfin_type_2, 1, cond, qual are all encodings of 'Said feature is not present in this house' ex: 'alley' having a value of nan refers to not having alley access from the property. But some of the features, like mas_vnr_area have a 'none' value already encoded, and an extra nan not mentioned in the dictionary (see below for proof)\n",
    "\n",
    "Therefore, the variables that need a real imputation or removal strategy instead of a method for handling nans as 'none' are: \n",
    "'lot_frontage', 'mas_vnr_area', 'mas_vnr_type', 'bsmt_half_bath', 'bsmt_full_bath', 'garage_area', 'total_bsmt_sf', 'bsmt_unf_sf', 'bsmtfin_sf_2', 'bsmtfin_sf_1', 'garage_cars'"
   ]
  },
  {
   "cell_type": "code",
   "execution_count": 6,
   "id": "cce330d7-dd39-4d8a-bbfb-ec95c4a98d09",
   "metadata": {},
   "outputs": [
    {
     "data": {
      "text/plain": [
       "array(['BrkFace', 'None', nan, 'Stone', 'BrkCmn'], dtype=object)"
      ]
     },
     "execution_count": 6,
     "metadata": {},
     "output_type": "execute_result"
    }
   ],
   "source": [
    "ames_train['mas_vnr_type'].unique()"
   ]
  },
  {
   "cell_type": "code",
   "execution_count": 7,
   "id": "7d8aa81b-63c9-402d-8ad6-21c31aabb71d",
   "metadata": {},
   "outputs": [
    {
     "data": {
      "text/plain": [
       "array([ nan,  43.,  68.,  73.,  82., 137.,  35.,  70.,  21.,  64., 120.,\n",
       "        24.,  74.,  93.,  34.,  80.,  71.,  72., 109.,  40., 103., 100.,\n",
       "        92.,  65.,  75.,  60.,  30.,  79.,  41., 105., 107.,  81.,  36.,\n",
       "        63.,  32.,  94.,  44.,  50.,  48.,  67.,  88.,  83.,  53.,  58.,\n",
       "        57.,  52.,  87., 134.,  56.,  54., 140.,  78.,  85.,  90.,  96.,\n",
       "        62.,  49.,  59., 155.,  91.,  61.,  86., 128.,  77.,  42.,  89.,\n",
       "        51.,  69.,  55., 112.,  76., 125.,  98., 113., 102.,  22., 122.,\n",
       "        84., 119., 118.,  66.,  95., 108., 195., 106.,  39., 110., 130.,\n",
       "        97.,  45.,  37., 123.,  38., 129., 115.,  47., 114., 104.,  46.,\n",
       "       121., 124., 313., 141., 101.,  99., 160., 174.,  26., 144., 138.,\n",
       "       111.,  25.,  33., 200., 150., 117., 153., 116., 135.])"
      ]
     },
     "execution_count": 7,
     "metadata": {},
     "output_type": "execute_result"
    }
   ],
   "source": [
    "ames_train['lot_frontage'].unique()"
   ]
  },
  {
   "cell_type": "markdown",
   "id": "0b7e7113-98b2-415d-8fe1-22bbfaf215ca",
   "metadata": {},
   "source": [
    "ID, PID, are useless for regression/inference, and useless as an index, so we'll just remove those rows"
   ]
  },
  {
   "cell_type": "code",
   "execution_count": 8,
   "id": "0820bd99-16ad-4864-bc6c-640774096af1",
   "metadata": {},
   "outputs": [],
   "source": [
    "ames_train.drop(columns=['id','pid'], inplace=True)\n",
    "ames_test.drop(columns=['id','pid'],inplace=True)"
   ]
  },
  {
   "cell_type": "code",
   "execution_count": 9,
   "id": "faea0563-11fe-4fc6-954b-e6f3fed7f65c",
   "metadata": {},
   "outputs": [
    {
     "data": {
      "text/plain": [
       "array([ 2.,  1.,  3.,  0.,  4.,  5., nan])"
      ]
     },
     "execution_count": 9,
     "metadata": {},
     "output_type": "execute_result"
    }
   ],
   "source": [
    "ames_train['garage_cars'].unique()"
   ]
  },
  {
   "cell_type": "code",
   "execution_count": 10,
   "id": "6f18d0b9-a305-41f8-b1fc-9ef29ce04c22",
   "metadata": {},
   "outputs": [
    {
     "data": {
      "text/plain": [
       "(1327   NaN\n",
       " Name: bsmtfin_sf_1, dtype: float64,\n",
       " 1712   NaN\n",
       " Name: garage_cars, dtype: float64)"
      ]
     },
     "execution_count": 10,
     "metadata": {},
     "output_type": "execute_result"
    }
   ],
   "source": [
    "ames_train['bsmtfin_sf_1'].loc[lambda x: np.isnan(x)], ames_train['garage_cars'].loc[lambda x: np.isnan(x)]"
   ]
  },
  {
   "cell_type": "code",
   "execution_count": 11,
   "id": "0fbf1b16-fce2-411d-b743-b9db0bb536c8",
   "metadata": {},
   "outputs": [
    {
     "data": {
      "text/plain": [
       "<AxesSubplot:xlabel='garage_qual', ylabel='garage_area'>"
      ]
     },
     "execution_count": 11,
     "metadata": {},
     "output_type": "execute_result"
    },
    {
     "data": {
      "image/png": "[encoded data removed]",
      "text/plain": [
       "<Figure size 432x288 with 1 Axes>"
      ]
     },
     "metadata": {
      "needs_background": "light"
     },
     "output_type": "display_data"
    }
   ],
   "source": [
    "sns.barplot(x=ames_train['garage_qual'],y=ames_train['garage_area'])"
   ]
  },
  {
   "cell_type": "markdown",
   "id": "2518cf6c-f178-43f4-822d-eca66b760034",
   "metadata": {},
   "source": [
    "Looking at this plot, and with the arrangement of poor to fair to typical to good to excellent, it looks like garage quality is a subjective measure that's highly correlated with garage size- and we want to avoid multicollinearity when creating models. To that effect, we can change garage_qual to simply being something along the lines of 'Is there a garage, yes or no', and keep the garage area. We want to do with the other garage factors- multiplying these variables by using OHE would greatly inflate the feature space without clear benefits- and perhaps lead to overfitting. The following graphs should be taken in that manner"
   ]
  },
  {
   "cell_type": "code",
   "execution_count": 12,
   "id": "9679238f-b6f8-4def-8f76-50333f071479",
   "metadata": {},
   "outputs": [
    {
     "data": {
      "text/plain": [
       "<AxesSubplot:xlabel='garage_finish', ylabel='garage_area'>"
      ]
     },
     "execution_count": 12,
     "metadata": {},
     "output_type": "execute_result"
    },
    {
     "data": {
      "image/png": "[encoded data removed]",
      "text/plain": [
       "<Figure size 432x288 with 1 Axes>"
      ]
     },
     "metadata": {
      "needs_background": "light"
     },
     "output_type": "display_data"
    }
   ],
   "source": [
    "sns.barplot(x=ames_train['garage_finish'],y=ames_train['garage_area'])"
   ]
  },
  {
   "cell_type": "code",
   "execution_count": 602,
   "id": "abd36f28-b903-4211-9a5f-2b0dc8ef0aeb",
   "metadata": {},
   "outputs": [
    {
     "data": {
      "image/png": "[encoded data removed]",
      "text/plain": [
       "<Figure size 432x288 with 1 Axes>"
      ]
     },
     "metadata": {
      "needs_background": "light"
     },
     "output_type": "display_data"
    }
   ],
   "source": [
    "sns.barplot(x=ames_train2['Garage Cond'],y=ames_train['garage_area'])\n",
    "plt.title('Comparison of condition of the garage and its condition (Po=Poor,Fa Fair, TA passable, Gd Good,Ex Excellent)')\n",
    "plt.savefig('garage.png')"
   ]
  },
  {
   "cell_type": "code",
   "execution_count": 14,
   "id": "2dd79ebb-a9ac-457d-b452-9fd1ce4ed6c4",
   "metadata": {},
   "outputs": [
    {
     "data": {
      "text/plain": [
       "<AxesSubplot:xlabel='garage_type', ylabel='garage_area'>"
      ]
     },
     "execution_count": 14,
     "metadata": {},
     "output_type": "execute_result"
    },
    {
     "data": {
      "image/png": "[encoded data removed]",
      "text/plain": [
       "<Figure size 432x288 with 1 Axes>"
      ]
     },
     "metadata": {
      "needs_background": "light"
     },
     "output_type": "display_data"
    }
   ],
   "source": [
    "sns.barplot(x=ames_train['garage_type'],y=ames_train['garage_area'])"
   ]
  },
  {
   "cell_type": "markdown",
   "id": "561677b5-2a36-40d4-b84c-5e5bdc6feb33",
   "metadata": {},
   "source": [
    "There's no real ordering pattern to the type, so we'll keep it"
   ]
  },
  {
   "cell_type": "code",
   "execution_count": 15,
   "id": "3250e0bd-96da-4ca8-8809-9f217dc3930a",
   "metadata": {},
   "outputs": [
    {
     "data": {
      "text/plain": [
       "<AxesSubplot:xlabel='garage_yr_blt', ylabel='garage_area'>"
      ]
     },
     "execution_count": 15,
     "metadata": {},
     "output_type": "execute_result"
    },
    {
     "data": {
      "image/png": "[encoded data removed]",
      "text/plain": [
       "<Figure size 432x288 with 1 Axes>"
      ]
     },
     "metadata": {
      "needs_background": "light"
     },
     "output_type": "display_data"
    }
   ],
   "source": [
    "sns.scatterplot(x=ames_train['garage_yr_blt'],y=ames_train['garage_area'])"
   ]
  },
  {
   "cell_type": "code",
   "execution_count": 16,
   "id": "7244b163-96fd-4229-80cf-9acb06f35f01",
   "metadata": {},
   "outputs": [
    {
     "data": {
      "text/plain": [
       "array([[1.        , 0.55206888],\n",
       "       [0.55206888, 1.        ]])"
      ]
     },
     "execution_count": 16,
     "metadata": {},
     "output_type": "execute_result"
    }
   ],
   "source": [
    "temp_ames = ames_train.dropna(axis=0, subset=['garage_yr_blt','garage_area'])\n",
    "np.corrcoef(temp_ames['garage_yr_blt'],temp_ames['garage_area'])"
   ]
  },
  {
   "cell_type": "markdown",
   "id": "bf616ce4-6e08-4331-9c21-e338f0bdded8",
   "metadata": {},
   "source": [
    "There's a R**2 of .55, and a rogue yr_blt. We'll keep it in for now, prospectively, and remove the rogue time-traveling garage"
   ]
  },
  {
   "cell_type": "code",
   "execution_count": 17,
   "id": "6d6926b1-b9f5-4600-8fc0-e8bbd020d9cb",
   "metadata": {},
   "outputs": [],
   "source": [
    "ames_train.drop(columns=['garage_qual','garage_finish','garage_cond',], inplace=True)\n",
    "ames_test.drop(columns=['garage_qual','garage_finish','garage_cond',], inplace=True)"
   ]
  },
  {
   "cell_type": "code",
   "execution_count": 18,
   "id": "71a3df47-9941-4511-b8f6-a321327cbfcf",
   "metadata": {},
   "outputs": [
    {
     "data": {
      "text/plain": [
       "(2050, 76)"
      ]
     },
     "execution_count": 18,
     "metadata": {},
     "output_type": "execute_result"
    }
   ],
   "source": [
    "ames_train[(ames_train['garage_yr_blt']<2022) | ames_train['garage_yr_blt'].isnull()].shape\n"
   ]
  },
  {
   "cell_type": "code",
   "execution_count": 19,
   "id": "59454f08-9516-4bbf-8263-3fbf13687213",
   "metadata": {},
   "outputs": [],
   "source": [
    "ames_train = ames_train[(ames_train['garage_yr_blt']<2022) | ames_train['garage_yr_blt'].isnull()]"
   ]
  },
  {
   "cell_type": "markdown",
   "id": "1556d088-7a60-4427-8ced-480605045d42",
   "metadata": {},
   "source": [
    "similarly, for pools:"
   ]
  },
  {
   "cell_type": "code",
   "execution_count": 20,
   "id": "8f03e3c1-df16-46c2-92a0-ff1c1d1f053e",
   "metadata": {},
   "outputs": [
    {
     "name": "stderr",
     "output_type": "stream",
     "text": [
      "C:\\ProgramData\\Anaconda3\\lib\\site-packages\\seaborn\\_decorators.py:36: FutureWarning: Pass the following variables as keyword args: x, y. From version 0.12, the only valid positional argument will be `data`, and passing other arguments without an explicit keyword will result in an error or misinterpretation.\n",
      "  warnings.warn(\n"
     ]
    },
    {
     "data": {
      "text/plain": [
       "<AxesSubplot:xlabel='pool_qc', ylabel='pool_area'>"
      ]
     },
     "execution_count": 20,
     "metadata": {},
     "output_type": "execute_result"
    },
    {
     "data": {
      "image/png": "[encoded data removed]",
      "text/plain": [
       "<Figure size 432x288 with 1 Axes>"
      ]
     },
     "metadata": {
      "needs_background": "light"
     },
     "output_type": "display_data"
    }
   ],
   "source": [
    "sns.barplot(ames_train['pool_qc'],ames_train['pool_area'])"
   ]
  },
  {
   "cell_type": "markdown",
   "id": "24eca254-0d4e-444a-a457-09f3e0b004bf",
   "metadata": {},
   "source": [
    "Perhaps surprisingly, pool quality and pool size do not seem to be related- so we'll fill in the information about no pool, and continue from there"
   ]
  },
  {
   "cell_type": "code",
   "execution_count": 21,
   "id": "47f382c3-1365-46f3-865b-68ae0c96c61c",
   "metadata": {},
   "outputs": [
    {
     "name": "stderr",
     "output_type": "stream",
     "text": [
      "C:\\ProgramData\\Anaconda3\\lib\\site-packages\\pandas\\core\\indexing.py:1884: SettingWithCopyWarning: \n",
      "A value is trying to be set on a copy of a slice from a DataFrame.\n",
      "Try using .loc[row_indexer,col_indexer] = value instead\n",
      "\n",
      "See the caveats in the documentation: https://pandas.pydata.org/pandas-docs/stable/user_guide/indexing.html#returning-a-view-versus-a-copy\n",
      "  self._setitem_single_column(loc, val, pi)\n"
     ]
    }
   ],
   "source": [
    "ames_train.loc[:,['pool_qc','misc_feature','alley','fence','fireplace_qu','garage_type','bsmt_exposure',\n",
    "                  'bsmtfin_type_2','bsmtfin_type_1','bsmt_cond','bsmt_qual']]= ames_train.loc[:,['pool_qc','misc_feature','alley','fence','fireplace_qu','garage_type',\n",
    "                                                                                                 'bsmt_exposure','bsmtfin_type_2','bsmtfin_type_1','bsmt_cond','bsmt_qual']].fillna('NA')"
   ]
  },
  {
   "cell_type": "markdown",
   "id": "15fce3e4-7364-4b2b-a31d-ebe7cda3bcf1",
   "metadata": {},
   "source": [
    "'On the primacy of 'Location, location, location''"
   ]
  },
  {
   "cell_type": "code",
   "execution_count": 22,
   "id": "62445f3b-4aff-4be4-9916-e9da9e1c2c61",
   "metadata": {},
   "outputs": [
    {
     "data": {
      "text/plain": [
       "lot_frontage      330\n",
       "garage_yr_blt     114\n",
       "mas_vnr_type       21\n",
       "mas_vnr_area       21\n",
       "bsmt_full_bath      2\n",
       "bsmt_half_bath      2\n",
       "total_bsmt_sf       1\n",
       "bsmt_unf_sf         1\n",
       "bsmtfin_sf_2        1\n",
       "bsmtfin_sf_1        1\n",
       "garage_cars         1\n",
       "garage_area         1\n",
       "dtype: int64"
      ]
     },
     "execution_count": 22,
     "metadata": {},
     "output_type": "execute_result"
    }
   ],
   "source": [
    "ames_train.isnull().sum().sort_values(ascending=False).loc[lambda x: x>0]"
   ]
  },
  {
   "cell_type": "code",
   "execution_count": 23,
   "id": "cdb69228-5f0f-4a29-ad62-00346cc74893",
   "metadata": {},
   "outputs": [],
   "source": [
    "ames_test.loc[:,['pool_qc','misc_feature','alley','fence','fireplace_qu','garage_type','bsmt_exposure',\n",
    "                  'bsmtfin_type_2','bsmtfin_type_1','bsmt_cond','bsmt_qual']]= ames_test.loc[:,['pool_qc','misc_feature','alley','fence','fireplace_qu','garage_type',\n",
    "                                                                                                 'bsmt_exposure','bsmtfin_type_2','bsmtfin_type_1','bsmt_cond','bsmt_qual']].fillna('NA')"
   ]
  },
  {
   "cell_type": "code",
   "execution_count": 24,
   "id": "456f0a70-c46e-49d9-8d8a-1064ef3ba1f3",
   "metadata": {},
   "outputs": [
    {
     "data": {
      "text/plain": [
       "lot_frontage      330\n",
       "garage_yr_blt     114\n",
       "mas_vnr_type       21\n",
       "mas_vnr_area       21\n",
       "bsmt_full_bath      2\n",
       "bsmt_half_bath      2\n",
       "total_bsmt_sf       1\n",
       "bsmt_unf_sf         1\n",
       "bsmtfin_sf_2        1\n",
       "bsmtfin_sf_1        1\n",
       "garage_cars         1\n",
       "garage_area         1\n",
       "dtype: int64"
      ]
     },
     "execution_count": 24,
     "metadata": {},
     "output_type": "execute_result"
    }
   ],
   "source": [
    "ames_train.isnull().sum().sort_values(ascending=False).loc[lambda x: x>0]"
   ]
  },
  {
   "cell_type": "code",
   "execution_count": 25,
   "id": "a0e86b7e-86e8-40f1-b6c7-8d51f6d9549f",
   "metadata": {},
   "outputs": [
    {
     "name": "stderr",
     "output_type": "stream",
     "text": [
      "C:\\ProgramData\\Anaconda3\\lib\\site-packages\\pandas\\core\\generic.py:6392: SettingWithCopyWarning: \n",
      "A value is trying to be set on a copy of a slice from a DataFrame\n",
      "\n",
      "See the caveats in the documentation: https://pandas.pydata.org/pandas-docs/stable/user_guide/indexing.html#returning-a-view-versus-a-copy\n",
      "  return self._update_inplace(result)\n"
     ]
    }
   ],
   "source": [
    "ames_train['mas_vnr_type'].fillna('None',inplace=True)\n",
    "ames_test['mas_vnr_type'].fillna('None',inplace=True)"
   ]
  },
  {
   "cell_type": "code",
   "execution_count": 26,
   "id": "af800a59-1ca1-47f9-a6cf-be57a388a629",
   "metadata": {},
   "outputs": [],
   "source": [
    "ames_train['mas_vnr_area'].fillna(0,inplace=True)\n",
    "ames_test['mas_vnr_area'].fillna(0,inplace=True)"
   ]
  },
  {
   "cell_type": "code",
   "execution_count": 27,
   "id": "a3c0e642-caa3-4a91-bd30-92f57faf2066",
   "metadata": {},
   "outputs": [
    {
     "name": "stderr",
     "output_type": "stream",
     "text": [
      "C:\\ProgramData\\Anaconda3\\lib\\site-packages\\seaborn\\_decorators.py:36: FutureWarning: Pass the following variables as keyword args: x, y. From version 0.12, the only valid positional argument will be `data`, and passing other arguments without an explicit keyword will result in an error or misinterpretation.\n",
      "  warnings.warn(\n"
     ]
    },
    {
     "data": {
      "text/plain": [
       "<AxesSubplot:xlabel='year_built', ylabel='garage_yr_blt'>"
      ]
     },
     "execution_count": 27,
     "metadata": {},
     "output_type": "execute_result"
    },
    {
     "data": {
      "image/png": "[encoded data removed]",
      "text/plain": [
       "<Figure size 432x288 with 1 Axes>"
      ]
     },
     "metadata": {
      "needs_background": "light"
     },
     "output_type": "display_data"
    }
   ],
   "source": [
    "tem_pames =ames_train.dropna(axis=0, subset=['garage_yr_blt','year_built'])\n",
    "sns.scatterplot(tem_pames['year_built'],tem_pames['garage_yr_blt'])"
   ]
  },
  {
   "cell_type": "markdown",
   "id": "92d52cd5-7f99-4a28-8e80-5d01f24e69ed",
   "metadata": {},
   "source": [
    "On further thought, it seems that there's no fair way to impute the year built data when we actually know what the data is, it's just inexpressible in this format. At best, putting it as the mean of the data with a simple imputer would somewhat neutralize its impact on that condition, but it might be better to just drop it. The rest can be simple imputed"
   ]
  },
  {
   "cell_type": "code",
   "execution_count": 28,
   "id": "a2fe2933-40a7-48ca-bd18-c6b1b9771fbc",
   "metadata": {},
   "outputs": [
    {
     "name": "stderr",
     "output_type": "stream",
     "text": [
      "C:\\ProgramData\\Anaconda3\\lib\\site-packages\\pandas\\core\\frame.py:4906: SettingWithCopyWarning: \n",
      "A value is trying to be set on a copy of a slice from a DataFrame\n",
      "\n",
      "See the caveats in the documentation: https://pandas.pydata.org/pandas-docs/stable/user_guide/indexing.html#returning-a-view-versus-a-copy\n",
      "  return super().drop(\n"
     ]
    }
   ],
   "source": [
    "ames_train.drop(columns=['garage_yr_blt'],inplace=True)\n",
    "ames_test.drop(columns=['garage_yr_blt'],inplace=True)"
   ]
  },
  {
   "cell_type": "markdown",
   "id": "daf0493a-1e5a-46fb-b02b-42c8116fe788",
   "metadata": {},
   "source": [
    "For linearity reasons, total_bsmt_sf = bsmt_unf_sf+bsmtfin_sf_2+bsmtfin_sf_1, so we should remove one column to make sure we're not duplicating data. In this case, let's remove bsmt_unf_sf"
   ]
  },
  {
   "cell_type": "code",
   "execution_count": 29,
   "id": "97c0c11f-fbde-43c6-86ce-0837e01226ae",
   "metadata": {},
   "outputs": [],
   "source": [
    "ames_train.drop(columns=['bsmt_unf_sf'],inplace=True)\n",
    "ames_test.drop(columns=['bsmt_unf_sf'],inplace=True)"
   ]
  },
  {
   "cell_type": "markdown",
   "id": "2f2d8b90-fdd8-4215-814d-1c46fb407b15",
   "metadata": {},
   "source": [
    "If you use a **SimpleImputer**, you will convert all your columns into objects, which makes one-hot-encoding much more difficult. Since we can remove linear problems by using a lasso/ridge framework before using a linear model, we need not worry about issues of dropping a column, so the category_encoders OneHotEncoder will work better. Then, you can drop the other NAs that aren't lot_frontage"
   ]
  },
  {
   "cell_type": "code",
   "execution_count": 46,
   "id": "db985f5c-4e66-4b21-b373-dd4c73539e79",
   "metadata": {},
   "outputs": [
    {
     "name": "stderr",
     "output_type": "stream",
     "text": [
      "C:\\ProgramData\\Anaconda3\\lib\\site-packages\\pandas\\util\\_decorators.py:311: SettingWithCopyWarning: \n",
      "A value is trying to be set on a copy of a slice from a DataFrame\n",
      "\n",
      "See the caveats in the documentation: https://pandas.pydata.org/pandas-docs/stable/user_guide/indexing.html#returning-a-view-versus-a-copy\n",
      "  return func(*args, **kwargs)\n"
     ]
    }
   ],
   "source": [
    "ames_train['lot_frontage'].fillna(ames_train['lot_frontage'].mean(),inplace=True)\n",
    "ames_test['lot_frontage'].fillna(ames_train['lot_frontage'].mean(),inplace=True)\n",
    "ames_train.dropna(inplace=True)\n"
   ]
  },
  {
   "cell_type": "code",
   "execution_count": 49,
   "id": "ac9ac6cd-f8ca-4679-b491-69726a86a5fd",
   "metadata": {},
   "outputs": [
    {
     "data": {
      "text/plain": [
       "Series([], dtype: int64)"
      ]
     },
     "execution_count": 49,
     "metadata": {},
     "output_type": "execute_result"
    }
   ],
   "source": [
    "ames_train.isnull().sum().sort_values(ascending=False).loc[lambda x: x>0]"
   ]
  },
  {
   "cell_type": "markdown",
   "id": "7db80072-4890-4996-aac0-0986a1b7647b",
   "metadata": {},
   "source": [
    "ms_subclass is not something with actual numerical data, but a description of what the house type is"
   ]
  },
  {
   "cell_type": "code",
   "execution_count": 89,
   "id": "b10985dc-19f5-42ea-8a45-c201a34d4077",
   "metadata": {},
   "outputs": [
    {
     "name": "stderr",
     "output_type": "stream",
     "text": [
      "C:\\Users\\Karthik\\AppData\\Local\\Temp/ipykernel_15064/2781934380.py:1: SettingWithCopyWarning: \n",
      "A value is trying to be set on a copy of a slice from a DataFrame.\n",
      "Try using .loc[row_indexer,col_indexer] = value instead\n",
      "\n",
      "See the caveats in the documentation: https://pandas.pydata.org/pandas-docs/stable/user_guide/indexing.html#returning-a-view-versus-a-copy\n",
      "  ames_train['ms_subclass'] = ames_train['ms_subclass'].astype(str)\n"
     ]
    }
   ],
   "source": [
    "ames_train['ms_subclass'] = ames_train['ms_subclass'].astype(str)"
   ]
  },
  {
   "cell_type": "code",
   "execution_count": 90,
   "id": "88cae668-eb9d-498b-b203-49399a65ba64",
   "metadata": {},
   "outputs": [],
   "source": [
    "X = ames_train.drop(columns='saleprice')\n",
    "y = ames_train['saleprice']\n",
    "X_train, X_val, y_train, y_val = train_test_split(X,y,random_state=815)"
   ]
  },
  {
   "cell_type": "code",
   "execution_count": null,
   "id": "18a22c52-46e6-4153-ad05-e9700decea53",
   "metadata": {},
   "outputs": [],
   "source": []
  },
  {
   "cell_type": "code",
   "execution_count": 92,
   "id": "34d0b24d-35f6-4daa-b1d6-f296db515d49",
   "metadata": {},
   "outputs": [
    {
     "data": {
      "text/plain": [
       "Index(['ms_subclass', 'ms_zoning', 'lot_frontage', 'lot_area', 'street',\n",
       "       'alley', 'lot_shape', 'land_contour', 'utilities', 'lot_config',\n",
       "       'land_slope', 'neighborhood', 'condition_1', 'condition_2', 'bldg_type',\n",
       "       'house_style', 'overall_qual', 'overall_cond', 'year_built',\n",
       "       'year_remod/add', 'roof_style', 'roof_matl', 'exterior_1st',\n",
       "       'exterior_2nd', 'mas_vnr_type', 'mas_vnr_area', 'exter_qual',\n",
       "       'exter_cond', 'foundation', 'bsmt_qual', 'bsmt_cond', 'bsmt_exposure',\n",
       "       'bsmtfin_type_1', 'bsmtfin_sf_1', 'bsmtfin_type_2', 'bsmtfin_sf_2',\n",
       "       'total_bsmt_sf', 'heating', 'heating_qc', 'central_air', 'electrical',\n",
       "       '1st_flr_sf', '2nd_flr_sf', 'low_qual_fin_sf', 'gr_liv_area',\n",
       "       'bsmt_full_bath', 'bsmt_half_bath', 'full_bath', 'half_bath',\n",
       "       'bedroom_abvgr', 'kitchen_abvgr', 'kitchen_qual', 'totrms_abvgrd',\n",
       "       'functional', 'fireplaces', 'fireplace_qu', 'garage_type',\n",
       "       'garage_cars', 'garage_area', 'paved_drive', 'wood_deck_sf',\n",
       "       'open_porch_sf', 'enclosed_porch', '3ssn_porch', 'screen_porch',\n",
       "       'pool_area', 'pool_qc', 'fence', 'misc_feature', 'misc_val', 'mo_sold',\n",
       "       'yr_sold', 'sale_type'],\n",
       "      dtype='object')"
      ]
     },
     "execution_count": 92,
     "metadata": {},
     "output_type": "execute_result"
    }
   ],
   "source": [
    "X_train.columns"
   ]
  },
  {
   "cell_type": "code",
   "execution_count": null,
   "id": "ac60274c-caa5-41f0-a5e0-4c82c64b806b",
   "metadata": {},
   "outputs": [],
   "source": []
  },
  {
   "cell_type": "code",
   "execution_count": 74,
   "id": "1be441cc-bab3-49d3-b1dc-a9c121af74a0",
   "metadata": {},
   "outputs": [
    {
     "data": {
      "text/plain": [
       "<matplotlib.lines.Line2D at 0x17bcd2914c0>"
      ]
     },
     "execution_count": 74,
     "metadata": {},
     "output_type": "execute_result"
    },
    {
     "data": {
      "image/png": "[encoded data removed]",
      "text/plain": [
       "<Figure size 432x288 with 1 Axes>"
      ]
     },
     "metadata": {
      "needs_background": "light"
     },
     "output_type": "display_data"
    }
   ],
   "source": [
    "sns.histplot(X_train,x='lot_area')\n",
    "plt.axvline(X_train['lot_area'].median(),color='r')\n"
   ]
  },
  {
   "cell_type": "code",
   "execution_count": 76,
   "id": "34cce717-d30c-45ab-9fba-d53feb04cec6",
   "metadata": {},
   "outputs": [
    {
     "data": {
      "text/plain": [
       "<matplotlib.lines.Line2D at 0x17bce6b3d60>"
      ]
     },
     "execution_count": 76,
     "metadata": {},
     "output_type": "execute_result"
    },
    {
     "data": {
      "image/png": "[encoded data removed]",
      "text/plain": [
       "<Figure size 432x288 with 1 Axes>"
      ]
     },
     "metadata": {
      "needs_background": "light"
     },
     "output_type": "display_data"
    }
   ],
   "source": [
    "sns.histplot(np.log(X_train['lot_area']))\n",
    "plt.axvline(np.log(X_train['lot_area']).median(),color='r')\n"
   ]
  },
  {
   "cell_type": "code",
   "execution_count": 73,
   "id": "7b3c9ada-8c77-450e-9aaf-6e8f9324e39c",
   "metadata": {},
   "outputs": [
    {
     "data": {
      "text/plain": [
       "<matplotlib.lines.Line2D at 0x17bcd116070>"
      ]
     },
     "execution_count": 73,
     "metadata": {},
     "output_type": "execute_result"
    },
    {
     "data": {
      "image/png": "[encoded data removed]",
      "text/plain": [
       "<Figure size 432x288 with 1 Axes>"
      ]
     },
     "metadata": {
      "needs_background": "light"
     },
     "output_type": "display_data"
    }
   ],
   "source": [
    "sns.histplot(X_train['gr_liv_area'])\n",
    "plt.axvline(X_train['gr_liv_area'].median(),color='r')"
   ]
  },
  {
   "cell_type": "code",
   "execution_count": 72,
   "id": "504c9877-6b0e-42d1-9d17-4d1b105ac9b2",
   "metadata": {},
   "outputs": [
    {
     "data": {
      "text/plain": [
       "<matplotlib.lines.Line2D at 0x17bcd028f40>"
      ]
     },
     "execution_count": 72,
     "metadata": {},
     "output_type": "execute_result"
    },
    {
     "data": {
      "image/png": "[encoded data removed]",
      "text/plain": [
       "<Figure size 432x288 with 1 Axes>"
      ]
     },
     "metadata": {
      "needs_background": "light"
     },
     "output_type": "display_data"
    }
   ],
   "source": [
    "sns.histplot(np.log(X_train['gr_liv_area']))\n",
    "plt.axvline(np.log(X_train['gr_liv_area'].median()),color='r')\n",
    "#plt.axvline(X_train['gr_liv_area'].mean(),color='k')"
   ]
  },
  {
   "cell_type": "code",
   "execution_count": 603,
   "id": "9cb9d1b8-96dd-4cef-aaf7-fd9a1289d8cd",
   "metadata": {},
   "outputs": [
    {
     "data": {
      "image/png": "[encoded data removed]",
      "text/plain": [
       "<Figure size 432x288 with 1 Axes>"
      ]
     },
     "metadata": {
      "needs_background": "light"
     },
     "output_type": "display_data"
    }
   ],
   "source": [
    "sns.histplot(y_train)\n",
    "plt.axvline(y_train.median(),color='r')\n",
    "plt.title('Sale Price distribution of houses in Ames')\n",
    "plt.savefig('sales.png')"
   ]
  },
  {
   "cell_type": "code",
   "execution_count": 71,
   "id": "69c61661-661a-4214-a9f7-23091370cb76",
   "metadata": {},
   "outputs": [
    {
     "data": {
      "text/plain": [
       "<matplotlib.lines.Line2D at 0x17bcd1bd2b0>"
      ]
     },
     "execution_count": 71,
     "metadata": {},
     "output_type": "execute_result"
    },
    {
     "data": {
      "image/png": "[encoded data removed]",
      "text/plain": [
       "<Figure size 432x288 with 1 Axes>"
      ]
     },
     "metadata": {
      "needs_background": "light"
     },
     "output_type": "display_data"
    }
   ],
   "source": [
    "sns.histplot(np.log(y_train))\n",
    "plt.axvline(np.log(y_train).median(),color='r')"
   ]
  },
  {
   "cell_type": "code",
   "execution_count": 81,
   "id": "eff210c2-d8f4-48ca-9c96-7b49aebdf3e8",
   "metadata": {},
   "outputs": [
    {
     "name": "stderr",
     "output_type": "stream",
     "text": [
      "C:\\ProgramData\\Anaconda3\\lib\\site-packages\\seaborn\\_decorators.py:36: FutureWarning: Pass the following variables as keyword args: x, y. From version 0.12, the only valid positional argument will be `data`, and passing other arguments without an explicit keyword will result in an error or misinterpretation.\n",
      "  warnings.warn(\n"
     ]
    },
    {
     "data": {
      "text/plain": [
       "<AxesSubplot:xlabel='gr_liv_area', ylabel='saleprice'>"
      ]
     },
     "execution_count": 81,
     "metadata": {},
     "output_type": "execute_result"
    },
    {
     "data": {
      "image/png": "[encoded data removed]",
      "text/plain": [
       "<Figure size 432x288 with 1 Axes>"
      ]
     },
     "metadata": {
      "needs_background": "light"
     },
     "output_type": "display_data"
    }
   ],
   "source": [
    "sns.scatterplot(X_train['gr_liv_area'],y_train)"
   ]
  },
  {
   "cell_type": "code",
   "execution_count": 604,
   "id": "10a9f5e3-b4af-4ffc-8410-ada09b42682f",
   "metadata": {},
   "outputs": [
    {
     "name": "stderr",
     "output_type": "stream",
     "text": [
      "C:\\ProgramData\\Anaconda3\\lib\\site-packages\\seaborn\\_decorators.py:36: FutureWarning: Pass the following variables as keyword args: x, y. From version 0.12, the only valid positional argument will be `data`, and passing other arguments without an explicit keyword will result in an error or misinterpretation.\n",
      "  warnings.warn(\n"
     ]
    },
    {
     "data": {
      "image/png": "[encoded data removed]",
      "text/plain": [
       "<Figure size 432x288 with 1 Axes>"
      ]
     },
     "metadata": {
      "needs_background": "light"
     },
     "output_type": "display_data"
    }
   ],
   "source": [
    "sns.scatterplot(np.log(X_train['gr_liv_area']),np.log(y_train))\n",
    "plt.title('Living Area versus sales price of property, log-log')\n",
    "plt.savefig('liver.png')"
   ]
  },
  {
   "cell_type": "markdown",
   "id": "a379f9fe-cfe3-483f-b196-aa14223a0997",
   "metadata": {},
   "source": [
    "Lots of basic parts of economics suggest that a log model is best for modeling incomes, areas, etc. As this graph shows, the data tends to not be perfectly normal- aand if you compare a simple living area to salesprice- taking the log of both sides removes the 'fan-shape' residuals. To fix this, we'll take the log of the 2 X values mentioned and use a ttr transform on the saleprice"
   ]
  },
  {
   "cell_type": "code",
   "execution_count": 144,
   "id": "3a9ba37a-adae-496a-87e8-58a7558599f1",
   "metadata": {},
   "outputs": [],
   "source": [
    "X_train['gr_liv_area'] = np.log(X_train['gr_liv_area'])"
   ]
  },
  {
   "cell_type": "code",
   "execution_count": 145,
   "id": "9f1a74d8-358f-442c-b537-efb5ae710e63",
   "metadata": {},
   "outputs": [],
   "source": [
    "X_val['gr_liv_area'] = np.log(X_val['gr_liv_area'])\n",
    "ames_test['gr_liv_area'] = np.log(ames_test['gr_liv_area'])"
   ]
  },
  {
   "cell_type": "code",
   "execution_count": 153,
   "id": "a659e80b-a174-451d-a2b2-cd51b88c23ee",
   "metadata": {},
   "outputs": [],
   "source": [
    "X_train['lot_area'] = np.log(X_train['lot_area'])\n",
    "X_val['lot_area'] = np.log(X_val['lot_area'])\n",
    "ames_test['lot_area'] = np.log(ames_test['lot_area'])"
   ]
  },
  {
   "cell_type": "code",
   "execution_count": 215,
   "id": "ce03275b-3892-4a60-9878-c11cd8fa94ae",
   "metadata": {},
   "outputs": [],
   "source": [
    "ohe = OneHotEncoder()"
   ]
  },
  {
   "cell_type": "code",
   "execution_count": 216,
   "id": "23bee4cf-093b-4ea6-919d-0dceceb55ea7",
   "metadata": {},
   "outputs": [],
   "source": [
    "ss =StandardScaler()"
   ]
  },
  {
   "cell_type": "code",
   "execution_count": 217,
   "id": "3122862f-72ff-4e9f-90b5-38ac4b875560",
   "metadata": {},
   "outputs": [],
   "source": [
    "rfe = RFE(LinearRegression(),n_features_to_select=.4)"
   ]
  },
  {
   "cell_type": "code",
   "execution_count": 218,
   "id": "367c9621-d05d-4f16-bc2e-d874efab54ed",
   "metadata": {},
   "outputs": [],
   "source": [
    "lr = LinearRegression()\n",
    "tt = TransformedTargetRegressor(regressor=LinearRegression(),func=np.log, inverse_func = np.exp)"
   ]
  },
  {
   "cell_type": "code",
   "execution_count": 177,
   "id": "ec3ae63b-96f5-46c4-abfc-458c7968ed8a",
   "metadata": {},
   "outputs": [],
   "source": [
    "pipe = make_pipeline(ohe,ss,rfe,lr)"
   ]
  },
  {
   "cell_type": "code",
   "execution_count": 236,
   "id": "45144735-1776-47f1-974e-15b391624ed7",
   "metadata": {},
   "outputs": [
    {
     "ename": "KeyError",
     "evalue": "'ms_subclass'",
     "output_type": "error",
     "traceback": [
      "\u001b[1;31m---------------------------------------------------------------------------\u001b[0m",
      "\u001b[1;31mKeyError\u001b[0m                                  Traceback (most recent call last)",
      "\u001b[1;32mC:\\ProgramData\\Anaconda3\\lib\\site-packages\\pandas\\core\\indexes\\base.py\u001b[0m in \u001b[0;36mget_loc\u001b[1;34m(self, key, method, tolerance)\u001b[0m\n\u001b[0;32m   3360\u001b[0m             \u001b[1;32mtry\u001b[0m\u001b[1;33m:\u001b[0m\u001b[1;33m\u001b[0m\u001b[1;33m\u001b[0m\u001b[0m\n\u001b[1;32m-> 3361\u001b[1;33m                 \u001b[1;32mreturn\u001b[0m \u001b[0mself\u001b[0m\u001b[1;33m.\u001b[0m\u001b[0m_engine\u001b[0m\u001b[1;33m.\u001b[0m\u001b[0mget_loc\u001b[0m\u001b[1;33m(\u001b[0m\u001b[0mcasted_key\u001b[0m\u001b[1;33m)\u001b[0m\u001b[1;33m\u001b[0m\u001b[1;33m\u001b[0m\u001b[0m\n\u001b[0m\u001b[0;32m   3362\u001b[0m             \u001b[1;32mexcept\u001b[0m \u001b[0mKeyError\u001b[0m \u001b[1;32mas\u001b[0m \u001b[0merr\u001b[0m\u001b[1;33m:\u001b[0m\u001b[1;33m\u001b[0m\u001b[1;33m\u001b[0m\u001b[0m\n",
      "\u001b[1;32mC:\\ProgramData\\Anaconda3\\lib\\site-packages\\pandas\\_libs\\index.pyx\u001b[0m in \u001b[0;36mpandas._libs.index.IndexEngine.get_loc\u001b[1;34m()\u001b[0m\n",
      "\u001b[1;32mC:\\ProgramData\\Anaconda3\\lib\\site-packages\\pandas\\_libs\\index.pyx\u001b[0m in \u001b[0;36mpandas._libs.index.IndexEngine.get_loc\u001b[1;34m()\u001b[0m\n",
      "\u001b[1;32mpandas\\_libs\\hashtable_class_helper.pxi\u001b[0m in \u001b[0;36mpandas._libs.hashtable.PyObjectHashTable.get_item\u001b[1;34m()\u001b[0m\n",
      "\u001b[1;32mpandas\\_libs\\hashtable_class_helper.pxi\u001b[0m in \u001b[0;36mpandas._libs.hashtable.PyObjectHashTable.get_item\u001b[1;34m()\u001b[0m\n",
      "\u001b[1;31mKeyError\u001b[0m: 'ms_subclass'",
      "\nThe above exception was the direct cause of the following exception:\n",
      "\u001b[1;31mKeyError\u001b[0m                                  Traceback (most recent call last)",
      "\u001b[1;32m~\\AppData\\Local\\Temp/ipykernel_15064/3565212875.py\u001b[0m in \u001b[0;36m<module>\u001b[1;34m\u001b[0m\n\u001b[1;32m----> 1\u001b[1;33m \u001b[0mpipe\u001b[0m\u001b[1;33m.\u001b[0m\u001b[0mfit\u001b[0m\u001b[1;33m(\u001b[0m\u001b[0mX_train\u001b[0m\u001b[1;33m,\u001b[0m\u001b[0my_train\u001b[0m\u001b[1;33m)\u001b[0m\u001b[1;33m\u001b[0m\u001b[1;33m\u001b[0m\u001b[0m\n\u001b[0m",
      "\u001b[1;32m~\\AppData\\Roaming\\Python\\Python39\\site-packages\\sklearn\\pipeline.py\u001b[0m in \u001b[0;36mfit\u001b[1;34m(self, X, y, **fit_params)\u001b[0m\n\u001b[0;32m    388\u001b[0m         \"\"\"\n\u001b[0;32m    389\u001b[0m         \u001b[0mfit_params_steps\u001b[0m \u001b[1;33m=\u001b[0m \u001b[0mself\u001b[0m\u001b[1;33m.\u001b[0m\u001b[0m_check_fit_params\u001b[0m\u001b[1;33m(\u001b[0m\u001b[1;33m**\u001b[0m\u001b[0mfit_params\u001b[0m\u001b[1;33m)\u001b[0m\u001b[1;33m\u001b[0m\u001b[1;33m\u001b[0m\u001b[0m\n\u001b[1;32m--> 390\u001b[1;33m         \u001b[0mXt\u001b[0m \u001b[1;33m=\u001b[0m \u001b[0mself\u001b[0m\u001b[1;33m.\u001b[0m\u001b[0m_fit\u001b[0m\u001b[1;33m(\u001b[0m\u001b[0mX\u001b[0m\u001b[1;33m,\u001b[0m \u001b[0my\u001b[0m\u001b[1;33m,\u001b[0m \u001b[1;33m**\u001b[0m\u001b[0mfit_params_steps\u001b[0m\u001b[1;33m)\u001b[0m\u001b[1;33m\u001b[0m\u001b[1;33m\u001b[0m\u001b[0m\n\u001b[0m\u001b[0;32m    391\u001b[0m         \u001b[1;32mwith\u001b[0m \u001b[0m_print_elapsed_time\u001b[0m\u001b[1;33m(\u001b[0m\u001b[1;34m\"Pipeline\"\u001b[0m\u001b[1;33m,\u001b[0m \u001b[0mself\u001b[0m\u001b[1;33m.\u001b[0m\u001b[0m_log_message\u001b[0m\u001b[1;33m(\u001b[0m\u001b[0mlen\u001b[0m\u001b[1;33m(\u001b[0m\u001b[0mself\u001b[0m\u001b[1;33m.\u001b[0m\u001b[0msteps\u001b[0m\u001b[1;33m)\u001b[0m \u001b[1;33m-\u001b[0m \u001b[1;36m1\u001b[0m\u001b[1;33m)\u001b[0m\u001b[1;33m)\u001b[0m\u001b[1;33m:\u001b[0m\u001b[1;33m\u001b[0m\u001b[1;33m\u001b[0m\u001b[0m\n\u001b[0;32m    392\u001b[0m             \u001b[1;32mif\u001b[0m \u001b[0mself\u001b[0m\u001b[1;33m.\u001b[0m\u001b[0m_final_estimator\u001b[0m \u001b[1;33m!=\u001b[0m \u001b[1;34m\"passthrough\"\u001b[0m\u001b[1;33m:\u001b[0m\u001b[1;33m\u001b[0m\u001b[1;33m\u001b[0m\u001b[0m\n",
      "\u001b[1;32m~\\AppData\\Roaming\\Python\\Python39\\site-packages\\sklearn\\pipeline.py\u001b[0m in \u001b[0;36m_fit\u001b[1;34m(self, X, y, **fit_params_steps)\u001b[0m\n\u001b[0;32m    346\u001b[0m                 \u001b[0mcloned_transformer\u001b[0m \u001b[1;33m=\u001b[0m \u001b[0mclone\u001b[0m\u001b[1;33m(\u001b[0m\u001b[0mtransformer\u001b[0m\u001b[1;33m)\u001b[0m\u001b[1;33m\u001b[0m\u001b[1;33m\u001b[0m\u001b[0m\n\u001b[0;32m    347\u001b[0m             \u001b[1;31m# Fit or load from cache the current transformer\u001b[0m\u001b[1;33m\u001b[0m\u001b[1;33m\u001b[0m\u001b[0m\n\u001b[1;32m--> 348\u001b[1;33m             X, fitted_transformer = fit_transform_one_cached(\n\u001b[0m\u001b[0;32m    349\u001b[0m                 \u001b[0mcloned_transformer\u001b[0m\u001b[1;33m,\u001b[0m\u001b[1;33m\u001b[0m\u001b[1;33m\u001b[0m\u001b[0m\n\u001b[0;32m    350\u001b[0m                 \u001b[0mX\u001b[0m\u001b[1;33m,\u001b[0m\u001b[1;33m\u001b[0m\u001b[1;33m\u001b[0m\u001b[0m\n",
      "\u001b[1;32mC:\\ProgramData\\Anaconda3\\lib\\site-packages\\joblib\\memory.py\u001b[0m in \u001b[0;36m__call__\u001b[1;34m(self, *args, **kwargs)\u001b[0m\n\u001b[0;32m    347\u001b[0m \u001b[1;33m\u001b[0m\u001b[0m\n\u001b[0;32m    348\u001b[0m     \u001b[1;32mdef\u001b[0m \u001b[0m__call__\u001b[0m\u001b[1;33m(\u001b[0m\u001b[0mself\u001b[0m\u001b[1;33m,\u001b[0m \u001b[1;33m*\u001b[0m\u001b[0margs\u001b[0m\u001b[1;33m,\u001b[0m \u001b[1;33m**\u001b[0m\u001b[0mkwargs\u001b[0m\u001b[1;33m)\u001b[0m\u001b[1;33m:\u001b[0m\u001b[1;33m\u001b[0m\u001b[1;33m\u001b[0m\u001b[0m\n\u001b[1;32m--> 349\u001b[1;33m         \u001b[1;32mreturn\u001b[0m \u001b[0mself\u001b[0m\u001b[1;33m.\u001b[0m\u001b[0mfunc\u001b[0m\u001b[1;33m(\u001b[0m\u001b[1;33m*\u001b[0m\u001b[0margs\u001b[0m\u001b[1;33m,\u001b[0m \u001b[1;33m**\u001b[0m\u001b[0mkwargs\u001b[0m\u001b[1;33m)\u001b[0m\u001b[1;33m\u001b[0m\u001b[1;33m\u001b[0m\u001b[0m\n\u001b[0m\u001b[0;32m    350\u001b[0m \u001b[1;33m\u001b[0m\u001b[0m\n\u001b[0;32m    351\u001b[0m     \u001b[1;32mdef\u001b[0m \u001b[0mcall_and_shelve\u001b[0m\u001b[1;33m(\u001b[0m\u001b[0mself\u001b[0m\u001b[1;33m,\u001b[0m \u001b[1;33m*\u001b[0m\u001b[0margs\u001b[0m\u001b[1;33m,\u001b[0m \u001b[1;33m**\u001b[0m\u001b[0mkwargs\u001b[0m\u001b[1;33m)\u001b[0m\u001b[1;33m:\u001b[0m\u001b[1;33m\u001b[0m\u001b[1;33m\u001b[0m\u001b[0m\n",
      "\u001b[1;32m~\\AppData\\Roaming\\Python\\Python39\\site-packages\\sklearn\\pipeline.py\u001b[0m in \u001b[0;36m_fit_transform_one\u001b[1;34m(transformer, X, y, weight, message_clsname, message, **fit_params)\u001b[0m\n\u001b[0;32m    891\u001b[0m     \u001b[1;32mwith\u001b[0m \u001b[0m_print_elapsed_time\u001b[0m\u001b[1;33m(\u001b[0m\u001b[0mmessage_clsname\u001b[0m\u001b[1;33m,\u001b[0m \u001b[0mmessage\u001b[0m\u001b[1;33m)\u001b[0m\u001b[1;33m:\u001b[0m\u001b[1;33m\u001b[0m\u001b[1;33m\u001b[0m\u001b[0m\n\u001b[0;32m    892\u001b[0m         \u001b[1;32mif\u001b[0m \u001b[0mhasattr\u001b[0m\u001b[1;33m(\u001b[0m\u001b[0mtransformer\u001b[0m\u001b[1;33m,\u001b[0m \u001b[1;34m\"fit_transform\"\u001b[0m\u001b[1;33m)\u001b[0m\u001b[1;33m:\u001b[0m\u001b[1;33m\u001b[0m\u001b[1;33m\u001b[0m\u001b[0m\n\u001b[1;32m--> 893\u001b[1;33m             \u001b[0mres\u001b[0m \u001b[1;33m=\u001b[0m \u001b[0mtransformer\u001b[0m\u001b[1;33m.\u001b[0m\u001b[0mfit_transform\u001b[0m\u001b[1;33m(\u001b[0m\u001b[0mX\u001b[0m\u001b[1;33m,\u001b[0m \u001b[0my\u001b[0m\u001b[1;33m,\u001b[0m \u001b[1;33m**\u001b[0m\u001b[0mfit_params\u001b[0m\u001b[1;33m)\u001b[0m\u001b[1;33m\u001b[0m\u001b[1;33m\u001b[0m\u001b[0m\n\u001b[0m\u001b[0;32m    894\u001b[0m         \u001b[1;32melse\u001b[0m\u001b[1;33m:\u001b[0m\u001b[1;33m\u001b[0m\u001b[1;33m\u001b[0m\u001b[0m\n\u001b[0;32m    895\u001b[0m             \u001b[0mres\u001b[0m \u001b[1;33m=\u001b[0m \u001b[0mtransformer\u001b[0m\u001b[1;33m.\u001b[0m\u001b[0mfit\u001b[0m\u001b[1;33m(\u001b[0m\u001b[0mX\u001b[0m\u001b[1;33m,\u001b[0m \u001b[0my\u001b[0m\u001b[1;33m,\u001b[0m \u001b[1;33m**\u001b[0m\u001b[0mfit_params\u001b[0m\u001b[1;33m)\u001b[0m\u001b[1;33m.\u001b[0m\u001b[0mtransform\u001b[0m\u001b[1;33m(\u001b[0m\u001b[0mX\u001b[0m\u001b[1;33m)\u001b[0m\u001b[1;33m\u001b[0m\u001b[1;33m\u001b[0m\u001b[0m\n",
      "\u001b[1;32m~\\AppData\\Roaming\\Python\\Python39\\site-packages\\sklearn\\base.py\u001b[0m in \u001b[0;36mfit_transform\u001b[1;34m(self, X, y, **fit_params)\u001b[0m\n\u001b[0;32m    853\u001b[0m         \u001b[1;32melse\u001b[0m\u001b[1;33m:\u001b[0m\u001b[1;33m\u001b[0m\u001b[1;33m\u001b[0m\u001b[0m\n\u001b[0;32m    854\u001b[0m             \u001b[1;31m# fit method of arity 2 (supervised transformation)\u001b[0m\u001b[1;33m\u001b[0m\u001b[1;33m\u001b[0m\u001b[0m\n\u001b[1;32m--> 855\u001b[1;33m             \u001b[1;32mreturn\u001b[0m \u001b[0mself\u001b[0m\u001b[1;33m.\u001b[0m\u001b[0mfit\u001b[0m\u001b[1;33m(\u001b[0m\u001b[0mX\u001b[0m\u001b[1;33m,\u001b[0m \u001b[0my\u001b[0m\u001b[1;33m,\u001b[0m \u001b[1;33m**\u001b[0m\u001b[0mfit_params\u001b[0m\u001b[1;33m)\u001b[0m\u001b[1;33m.\u001b[0m\u001b[0mtransform\u001b[0m\u001b[1;33m(\u001b[0m\u001b[0mX\u001b[0m\u001b[1;33m)\u001b[0m\u001b[1;33m\u001b[0m\u001b[1;33m\u001b[0m\u001b[0m\n\u001b[0m\u001b[0;32m    856\u001b[0m \u001b[1;33m\u001b[0m\u001b[0m\n\u001b[0;32m    857\u001b[0m \u001b[1;33m\u001b[0m\u001b[0m\n",
      "\u001b[1;32mC:\\ProgramData\\Anaconda3\\lib\\site-packages\\category_encoders\\one_hot.py\u001b[0m in \u001b[0;36mfit\u001b[1;34m(self, X, y, **kwargs)\u001b[0m\n\u001b[0;32m    163\u001b[0m             \u001b[0mhandle_missing\u001b[0m\u001b[1;33m=\u001b[0m\u001b[0moe_missing_strat\u001b[0m\u001b[1;33m,\u001b[0m\u001b[1;33m\u001b[0m\u001b[1;33m\u001b[0m\u001b[0m\n\u001b[0;32m    164\u001b[0m         )\n\u001b[1;32m--> 165\u001b[1;33m         \u001b[0mself\u001b[0m\u001b[1;33m.\u001b[0m\u001b[0mordinal_encoder\u001b[0m \u001b[1;33m=\u001b[0m \u001b[0mself\u001b[0m\u001b[1;33m.\u001b[0m\u001b[0mordinal_encoder\u001b[0m\u001b[1;33m.\u001b[0m\u001b[0mfit\u001b[0m\u001b[1;33m(\u001b[0m\u001b[0mX\u001b[0m\u001b[1;33m)\u001b[0m\u001b[1;33m\u001b[0m\u001b[1;33m\u001b[0m\u001b[0m\n\u001b[0m\u001b[0;32m    166\u001b[0m         \u001b[0mself\u001b[0m\u001b[1;33m.\u001b[0m\u001b[0mmapping\u001b[0m \u001b[1;33m=\u001b[0m \u001b[0mself\u001b[0m\u001b[1;33m.\u001b[0m\u001b[0mgenerate_mapping\u001b[0m\u001b[1;33m(\u001b[0m\u001b[1;33m)\u001b[0m\u001b[1;33m\u001b[0m\u001b[1;33m\u001b[0m\u001b[0m\n\u001b[0;32m    167\u001b[0m \u001b[1;33m\u001b[0m\u001b[0m\n",
      "\u001b[1;32mC:\\ProgramData\\Anaconda3\\lib\\site-packages\\category_encoders\\ordinal.py\u001b[0m in \u001b[0;36mfit\u001b[1;34m(self, X, y, **kwargs)\u001b[0m\n\u001b[0;32m    137\u001b[0m                 \u001b[1;32mraise\u001b[0m \u001b[0mValueError\u001b[0m\u001b[1;33m(\u001b[0m\u001b[1;34m'Columns to be encoded can not contain null'\u001b[0m\u001b[1;33m)\u001b[0m\u001b[1;33m\u001b[0m\u001b[1;33m\u001b[0m\u001b[0m\n\u001b[0;32m    138\u001b[0m \u001b[1;33m\u001b[0m\u001b[0m\n\u001b[1;32m--> 139\u001b[1;33m         _, categories = self.ordinal_encoding(\n\u001b[0m\u001b[0;32m    140\u001b[0m             \u001b[0mX\u001b[0m\u001b[1;33m,\u001b[0m\u001b[1;33m\u001b[0m\u001b[1;33m\u001b[0m\u001b[0m\n\u001b[0;32m    141\u001b[0m             \u001b[0mmapping\u001b[0m\u001b[1;33m=\u001b[0m\u001b[0mself\u001b[0m\u001b[1;33m.\u001b[0m\u001b[0mmapping\u001b[0m\u001b[1;33m,\u001b[0m\u001b[1;33m\u001b[0m\u001b[1;33m\u001b[0m\u001b[0m\n",
      "\u001b[1;32mC:\\ProgramData\\Anaconda3\\lib\\site-packages\\category_encoders\\ordinal.py\u001b[0m in \u001b[0;36mordinal_encoding\u001b[1;34m(X_in, mapping, cols, handle_unknown, handle_missing)\u001b[0m\n\u001b[0;32m    319\u001b[0m                 \u001b[0mnan_identity\u001b[0m \u001b[1;33m=\u001b[0m \u001b[0mnp\u001b[0m\u001b[1;33m.\u001b[0m\u001b[0mnan\u001b[0m\u001b[1;33m\u001b[0m\u001b[1;33m\u001b[0m\u001b[0m\n\u001b[0;32m    320\u001b[0m \u001b[1;33m\u001b[0m\u001b[0m\n\u001b[1;32m--> 321\u001b[1;33m                 \u001b[0mcategories\u001b[0m \u001b[1;33m=\u001b[0m \u001b[0mlist\u001b[0m\u001b[1;33m(\u001b[0m\u001b[0mX\u001b[0m\u001b[1;33m[\u001b[0m\u001b[0mcol\u001b[0m\u001b[1;33m]\u001b[0m\u001b[1;33m.\u001b[0m\u001b[0munique\u001b[0m\u001b[1;33m(\u001b[0m\u001b[1;33m)\u001b[0m\u001b[1;33m)\u001b[0m\u001b[1;33m\u001b[0m\u001b[1;33m\u001b[0m\u001b[0m\n\u001b[0m\u001b[0;32m    322\u001b[0m                 \u001b[1;32mif\u001b[0m \u001b[0mutil\u001b[0m\u001b[1;33m.\u001b[0m\u001b[0mis_category\u001b[0m\u001b[1;33m(\u001b[0m\u001b[0mX\u001b[0m\u001b[1;33m[\u001b[0m\u001b[0mcol\u001b[0m\u001b[1;33m]\u001b[0m\u001b[1;33m.\u001b[0m\u001b[0mdtype\u001b[0m\u001b[1;33m)\u001b[0m\u001b[1;33m:\u001b[0m\u001b[1;33m\u001b[0m\u001b[1;33m\u001b[0m\u001b[0m\n\u001b[0;32m    323\u001b[0m                     \u001b[1;31m# Avoid using pandas category dtype meta-data if possible, see #235, #238.\u001b[0m\u001b[1;33m\u001b[0m\u001b[1;33m\u001b[0m\u001b[0m\n",
      "\u001b[1;32mC:\\ProgramData\\Anaconda3\\lib\\site-packages\\pandas\\core\\frame.py\u001b[0m in \u001b[0;36m__getitem__\u001b[1;34m(self, key)\u001b[0m\n\u001b[0;32m   3456\u001b[0m             \u001b[1;32mif\u001b[0m \u001b[0mself\u001b[0m\u001b[1;33m.\u001b[0m\u001b[0mcolumns\u001b[0m\u001b[1;33m.\u001b[0m\u001b[0mnlevels\u001b[0m \u001b[1;33m>\u001b[0m \u001b[1;36m1\u001b[0m\u001b[1;33m:\u001b[0m\u001b[1;33m\u001b[0m\u001b[1;33m\u001b[0m\u001b[0m\n\u001b[0;32m   3457\u001b[0m                 \u001b[1;32mreturn\u001b[0m \u001b[0mself\u001b[0m\u001b[1;33m.\u001b[0m\u001b[0m_getitem_multilevel\u001b[0m\u001b[1;33m(\u001b[0m\u001b[0mkey\u001b[0m\u001b[1;33m)\u001b[0m\u001b[1;33m\u001b[0m\u001b[1;33m\u001b[0m\u001b[0m\n\u001b[1;32m-> 3458\u001b[1;33m             \u001b[0mindexer\u001b[0m \u001b[1;33m=\u001b[0m \u001b[0mself\u001b[0m\u001b[1;33m.\u001b[0m\u001b[0mcolumns\u001b[0m\u001b[1;33m.\u001b[0m\u001b[0mget_loc\u001b[0m\u001b[1;33m(\u001b[0m\u001b[0mkey\u001b[0m\u001b[1;33m)\u001b[0m\u001b[1;33m\u001b[0m\u001b[1;33m\u001b[0m\u001b[0m\n\u001b[0m\u001b[0;32m   3459\u001b[0m             \u001b[1;32mif\u001b[0m \u001b[0mis_integer\u001b[0m\u001b[1;33m(\u001b[0m\u001b[0mindexer\u001b[0m\u001b[1;33m)\u001b[0m\u001b[1;33m:\u001b[0m\u001b[1;33m\u001b[0m\u001b[1;33m\u001b[0m\u001b[0m\n\u001b[0;32m   3460\u001b[0m                 \u001b[0mindexer\u001b[0m \u001b[1;33m=\u001b[0m \u001b[1;33m[\u001b[0m\u001b[0mindexer\u001b[0m\u001b[1;33m]\u001b[0m\u001b[1;33m\u001b[0m\u001b[1;33m\u001b[0m\u001b[0m\n",
      "\u001b[1;32mC:\\ProgramData\\Anaconda3\\lib\\site-packages\\pandas\\core\\indexes\\base.py\u001b[0m in \u001b[0;36mget_loc\u001b[1;34m(self, key, method, tolerance)\u001b[0m\n\u001b[0;32m   3361\u001b[0m                 \u001b[1;32mreturn\u001b[0m \u001b[0mself\u001b[0m\u001b[1;33m.\u001b[0m\u001b[0m_engine\u001b[0m\u001b[1;33m.\u001b[0m\u001b[0mget_loc\u001b[0m\u001b[1;33m(\u001b[0m\u001b[0mcasted_key\u001b[0m\u001b[1;33m)\u001b[0m\u001b[1;33m\u001b[0m\u001b[1;33m\u001b[0m\u001b[0m\n\u001b[0;32m   3362\u001b[0m             \u001b[1;32mexcept\u001b[0m \u001b[0mKeyError\u001b[0m \u001b[1;32mas\u001b[0m \u001b[0merr\u001b[0m\u001b[1;33m:\u001b[0m\u001b[1;33m\u001b[0m\u001b[1;33m\u001b[0m\u001b[0m\n\u001b[1;32m-> 3363\u001b[1;33m                 \u001b[1;32mraise\u001b[0m \u001b[0mKeyError\u001b[0m\u001b[1;33m(\u001b[0m\u001b[0mkey\u001b[0m\u001b[1;33m)\u001b[0m \u001b[1;32mfrom\u001b[0m \u001b[0merr\u001b[0m\u001b[1;33m\u001b[0m\u001b[1;33m\u001b[0m\u001b[0m\n\u001b[0m\u001b[0;32m   3364\u001b[0m \u001b[1;33m\u001b[0m\u001b[0m\n\u001b[0;32m   3365\u001b[0m         \u001b[1;32mif\u001b[0m \u001b[0mis_scalar\u001b[0m\u001b[1;33m(\u001b[0m\u001b[0mkey\u001b[0m\u001b[1;33m)\u001b[0m \u001b[1;32mand\u001b[0m \u001b[0misna\u001b[0m\u001b[1;33m(\u001b[0m\u001b[0mkey\u001b[0m\u001b[1;33m)\u001b[0m \u001b[1;32mand\u001b[0m \u001b[1;32mnot\u001b[0m \u001b[0mself\u001b[0m\u001b[1;33m.\u001b[0m\u001b[0mhasnans\u001b[0m\u001b[1;33m:\u001b[0m\u001b[1;33m\u001b[0m\u001b[1;33m\u001b[0m\u001b[0m\n",
      "\u001b[1;31mKeyError\u001b[0m: 'ms_subclass'"
     ]
    }
   ],
   "source": [
    "pipe.fit(X_train,y_train)"
   ]
  },
  {
   "cell_type": "code",
   "execution_count": 179,
   "id": "6fe6e4e0-14d5-4da4-9973-db05883f6f36",
   "metadata": {},
   "outputs": [
    {
     "data": {
      "text/plain": [
       "0.6980393220970051"
      ]
     },
     "execution_count": 179,
     "metadata": {},
     "output_type": "execute_result"
    }
   ],
   "source": [
    "pipe.score(X_train,y_train)"
   ]
  },
  {
   "cell_type": "code",
   "execution_count": 180,
   "id": "57409412-3378-4e06-b304-abeef6e341fd",
   "metadata": {},
   "outputs": [
    {
     "data": {
      "text/plain": [
       "-1.1094047911896739e+25"
      ]
     },
     "execution_count": 180,
     "metadata": {},
     "output_type": "execute_result"
    }
   ],
   "source": [
    "pipe.score(X_val,y_val)"
   ]
  },
  {
   "cell_type": "code",
   "execution_count": 235,
   "id": "ea5c00b1-0880-44c9-a9c1-ada380695dc1",
   "metadata": {},
   "outputs": [
    {
     "ename": "KeyError",
     "evalue": "'ms_subclass'",
     "output_type": "error",
     "traceback": [
      "\u001b[1;31m---------------------------------------------------------------------------\u001b[0m",
      "\u001b[1;31mKeyError\u001b[0m                                  Traceback (most recent call last)",
      "\u001b[1;32mC:\\ProgramData\\Anaconda3\\lib\\site-packages\\pandas\\core\\indexes\\base.py\u001b[0m in \u001b[0;36mget_loc\u001b[1;34m(self, key, method, tolerance)\u001b[0m\n\u001b[0;32m   3360\u001b[0m             \u001b[1;32mtry\u001b[0m\u001b[1;33m:\u001b[0m\u001b[1;33m\u001b[0m\u001b[1;33m\u001b[0m\u001b[0m\n\u001b[1;32m-> 3361\u001b[1;33m                 \u001b[1;32mreturn\u001b[0m \u001b[0mself\u001b[0m\u001b[1;33m.\u001b[0m\u001b[0m_engine\u001b[0m\u001b[1;33m.\u001b[0m\u001b[0mget_loc\u001b[0m\u001b[1;33m(\u001b[0m\u001b[0mcasted_key\u001b[0m\u001b[1;33m)\u001b[0m\u001b[1;33m\u001b[0m\u001b[1;33m\u001b[0m\u001b[0m\n\u001b[0m\u001b[0;32m   3362\u001b[0m             \u001b[1;32mexcept\u001b[0m \u001b[0mKeyError\u001b[0m \u001b[1;32mas\u001b[0m \u001b[0merr\u001b[0m\u001b[1;33m:\u001b[0m\u001b[1;33m\u001b[0m\u001b[1;33m\u001b[0m\u001b[0m\n",
      "\u001b[1;32mC:\\ProgramData\\Anaconda3\\lib\\site-packages\\pandas\\_libs\\index.pyx\u001b[0m in \u001b[0;36mpandas._libs.index.IndexEngine.get_loc\u001b[1;34m()\u001b[0m\n",
      "\u001b[1;32mC:\\ProgramData\\Anaconda3\\lib\\site-packages\\pandas\\_libs\\index.pyx\u001b[0m in \u001b[0;36mpandas._libs.index.IndexEngine.get_loc\u001b[1;34m()\u001b[0m\n",
      "\u001b[1;32mpandas\\_libs\\hashtable_class_helper.pxi\u001b[0m in \u001b[0;36mpandas._libs.hashtable.PyObjectHashTable.get_item\u001b[1;34m()\u001b[0m\n",
      "\u001b[1;32mpandas\\_libs\\hashtable_class_helper.pxi\u001b[0m in \u001b[0;36mpandas._libs.hashtable.PyObjectHashTable.get_item\u001b[1;34m()\u001b[0m\n",
      "\u001b[1;31mKeyError\u001b[0m: 'ms_subclass'",
      "\nThe above exception was the direct cause of the following exception:\n",
      "\u001b[1;31mKeyError\u001b[0m                                  Traceback (most recent call last)",
      "\u001b[1;32m~\\AppData\\Local\\Temp/ipykernel_15064/3623802524.py\u001b[0m in \u001b[0;36m<module>\u001b[1;34m\u001b[0m\n\u001b[1;32m----> 1\u001b[1;33m \u001b[0my_pred_pipe\u001b[0m \u001b[1;33m=\u001b[0m \u001b[0mpipe\u001b[0m\u001b[1;33m.\u001b[0m\u001b[0mpredict\u001b[0m\u001b[1;33m(\u001b[0m\u001b[0mX_train\u001b[0m\u001b[1;33m)\u001b[0m\u001b[1;33m\u001b[0m\u001b[1;33m\u001b[0m\u001b[0m\n\u001b[0m",
      "\u001b[1;32m~\\AppData\\Roaming\\Python\\Python39\\site-packages\\sklearn\\utils\\metaestimators.py\u001b[0m in \u001b[0;36m<lambda>\u001b[1;34m(*args, **kwargs)\u001b[0m\n\u001b[0;32m    111\u001b[0m \u001b[1;33m\u001b[0m\u001b[0m\n\u001b[0;32m    112\u001b[0m             \u001b[1;31m# lambda, but not partial, allows help() to work with update_wrapper\u001b[0m\u001b[1;33m\u001b[0m\u001b[1;33m\u001b[0m\u001b[0m\n\u001b[1;32m--> 113\u001b[1;33m             \u001b[0mout\u001b[0m \u001b[1;33m=\u001b[0m \u001b[1;32mlambda\u001b[0m \u001b[1;33m*\u001b[0m\u001b[0margs\u001b[0m\u001b[1;33m,\u001b[0m \u001b[1;33m**\u001b[0m\u001b[0mkwargs\u001b[0m\u001b[1;33m:\u001b[0m \u001b[0mself\u001b[0m\u001b[1;33m.\u001b[0m\u001b[0mfn\u001b[0m\u001b[1;33m(\u001b[0m\u001b[0mobj\u001b[0m\u001b[1;33m,\u001b[0m \u001b[1;33m*\u001b[0m\u001b[0margs\u001b[0m\u001b[1;33m,\u001b[0m \u001b[1;33m**\u001b[0m\u001b[0mkwargs\u001b[0m\u001b[1;33m)\u001b[0m  \u001b[1;31m# noqa\u001b[0m\u001b[1;33m\u001b[0m\u001b[1;33m\u001b[0m\u001b[0m\n\u001b[0m\u001b[0;32m    114\u001b[0m         \u001b[1;32melse\u001b[0m\u001b[1;33m:\u001b[0m\u001b[1;33m\u001b[0m\u001b[1;33m\u001b[0m\u001b[0m\n\u001b[0;32m    115\u001b[0m \u001b[1;33m\u001b[0m\u001b[0m\n",
      "\u001b[1;32m~\\AppData\\Roaming\\Python\\Python39\\site-packages\\sklearn\\pipeline.py\u001b[0m in \u001b[0;36mpredict\u001b[1;34m(self, X, **predict_params)\u001b[0m\n\u001b[0;32m    467\u001b[0m         \u001b[0mXt\u001b[0m \u001b[1;33m=\u001b[0m \u001b[0mX\u001b[0m\u001b[1;33m\u001b[0m\u001b[1;33m\u001b[0m\u001b[0m\n\u001b[0;32m    468\u001b[0m         \u001b[1;32mfor\u001b[0m \u001b[0m_\u001b[0m\u001b[1;33m,\u001b[0m \u001b[0mname\u001b[0m\u001b[1;33m,\u001b[0m \u001b[0mtransform\u001b[0m \u001b[1;32min\u001b[0m \u001b[0mself\u001b[0m\u001b[1;33m.\u001b[0m\u001b[0m_iter\u001b[0m\u001b[1;33m(\u001b[0m\u001b[0mwith_final\u001b[0m\u001b[1;33m=\u001b[0m\u001b[1;32mFalse\u001b[0m\u001b[1;33m)\u001b[0m\u001b[1;33m:\u001b[0m\u001b[1;33m\u001b[0m\u001b[1;33m\u001b[0m\u001b[0m\n\u001b[1;32m--> 469\u001b[1;33m             \u001b[0mXt\u001b[0m \u001b[1;33m=\u001b[0m \u001b[0mtransform\u001b[0m\u001b[1;33m.\u001b[0m\u001b[0mtransform\u001b[0m\u001b[1;33m(\u001b[0m\u001b[0mXt\u001b[0m\u001b[1;33m)\u001b[0m\u001b[1;33m\u001b[0m\u001b[1;33m\u001b[0m\u001b[0m\n\u001b[0m\u001b[0;32m    470\u001b[0m         \u001b[1;32mreturn\u001b[0m \u001b[0mself\u001b[0m\u001b[1;33m.\u001b[0m\u001b[0msteps\u001b[0m\u001b[1;33m[\u001b[0m\u001b[1;33m-\u001b[0m\u001b[1;36m1\u001b[0m\u001b[1;33m]\u001b[0m\u001b[1;33m[\u001b[0m\u001b[1;36m1\u001b[0m\u001b[1;33m]\u001b[0m\u001b[1;33m.\u001b[0m\u001b[0mpredict\u001b[0m\u001b[1;33m(\u001b[0m\u001b[0mXt\u001b[0m\u001b[1;33m,\u001b[0m \u001b[1;33m**\u001b[0m\u001b[0mpredict_params\u001b[0m\u001b[1;33m)\u001b[0m\u001b[1;33m\u001b[0m\u001b[1;33m\u001b[0m\u001b[0m\n\u001b[0;32m    471\u001b[0m \u001b[1;33m\u001b[0m\u001b[0m\n",
      "\u001b[1;32mC:\\ProgramData\\Anaconda3\\lib\\site-packages\\category_encoders\\one_hot.py\u001b[0m in \u001b[0;36mtransform\u001b[1;34m(self, X, override_return_df)\u001b[0m\n\u001b[0;32m    281\u001b[0m             \u001b[1;32mreturn\u001b[0m \u001b[0mX\u001b[0m \u001b[1;32mif\u001b[0m \u001b[0mself\u001b[0m\u001b[1;33m.\u001b[0m\u001b[0mreturn_df\u001b[0m \u001b[1;32melse\u001b[0m \u001b[0mX\u001b[0m\u001b[1;33m.\u001b[0m\u001b[0mvalues\u001b[0m\u001b[1;33m\u001b[0m\u001b[1;33m\u001b[0m\u001b[0m\n\u001b[0;32m    282\u001b[0m \u001b[1;33m\u001b[0m\u001b[0m\n\u001b[1;32m--> 283\u001b[1;33m         \u001b[0mX\u001b[0m \u001b[1;33m=\u001b[0m \u001b[0mself\u001b[0m\u001b[1;33m.\u001b[0m\u001b[0mordinal_encoder\u001b[0m\u001b[1;33m.\u001b[0m\u001b[0mtransform\u001b[0m\u001b[1;33m(\u001b[0m\u001b[0mX\u001b[0m\u001b[1;33m)\u001b[0m\u001b[1;33m\u001b[0m\u001b[1;33m\u001b[0m\u001b[0m\n\u001b[0m\u001b[0;32m    284\u001b[0m \u001b[1;33m\u001b[0m\u001b[0m\n\u001b[0;32m    285\u001b[0m         \u001b[1;32mif\u001b[0m \u001b[0mself\u001b[0m\u001b[1;33m.\u001b[0m\u001b[0mhandle_unknown\u001b[0m \u001b[1;33m==\u001b[0m \u001b[1;34m'error'\u001b[0m\u001b[1;33m:\u001b[0m\u001b[1;33m\u001b[0m\u001b[1;33m\u001b[0m\u001b[0m\n",
      "\u001b[1;32mC:\\ProgramData\\Anaconda3\\lib\\site-packages\\category_encoders\\ordinal.py\u001b[0m in \u001b[0;36mtransform\u001b[1;34m(self, X, override_return_df)\u001b[0m\n\u001b[0;32m    201\u001b[0m             \u001b[1;32mreturn\u001b[0m \u001b[0mX\u001b[0m \u001b[1;32mif\u001b[0m \u001b[0mself\u001b[0m\u001b[1;33m.\u001b[0m\u001b[0mreturn_df\u001b[0m \u001b[1;32melse\u001b[0m \u001b[0mX\u001b[0m\u001b[1;33m.\u001b[0m\u001b[0mvalues\u001b[0m\u001b[1;33m\u001b[0m\u001b[1;33m\u001b[0m\u001b[0m\n\u001b[0;32m    202\u001b[0m \u001b[1;33m\u001b[0m\u001b[0m\n\u001b[1;32m--> 203\u001b[1;33m         X, _ = self.ordinal_encoding(\n\u001b[0m\u001b[0;32m    204\u001b[0m             \u001b[0mX\u001b[0m\u001b[1;33m,\u001b[0m\u001b[1;33m\u001b[0m\u001b[1;33m\u001b[0m\u001b[0m\n\u001b[0;32m    205\u001b[0m             \u001b[0mmapping\u001b[0m\u001b[1;33m=\u001b[0m\u001b[0mself\u001b[0m\u001b[1;33m.\u001b[0m\u001b[0mmapping\u001b[0m\u001b[1;33m,\u001b[0m\u001b[1;33m\u001b[0m\u001b[1;33m\u001b[0m\u001b[0m\n",
      "\u001b[1;32mC:\\ProgramData\\Anaconda3\\lib\\site-packages\\category_encoders\\ordinal.py\u001b[0m in \u001b[0;36mordinal_encoding\u001b[1;34m(X_in, mapping, cols, handle_unknown, handle_missing)\u001b[0m\n\u001b[0;32m    319\u001b[0m                 \u001b[0mnan_identity\u001b[0m \u001b[1;33m=\u001b[0m \u001b[0mnp\u001b[0m\u001b[1;33m.\u001b[0m\u001b[0mnan\u001b[0m\u001b[1;33m\u001b[0m\u001b[1;33m\u001b[0m\u001b[0m\n\u001b[0;32m    320\u001b[0m \u001b[1;33m\u001b[0m\u001b[0m\n\u001b[1;32m--> 321\u001b[1;33m                 \u001b[0mcategories\u001b[0m \u001b[1;33m=\u001b[0m \u001b[0mlist\u001b[0m\u001b[1;33m(\u001b[0m\u001b[0mX\u001b[0m\u001b[1;33m[\u001b[0m\u001b[0mcol\u001b[0m\u001b[1;33m]\u001b[0m\u001b[1;33m.\u001b[0m\u001b[0munique\u001b[0m\u001b[1;33m(\u001b[0m\u001b[1;33m)\u001b[0m\u001b[1;33m)\u001b[0m\u001b[1;33m\u001b[0m\u001b[1;33m\u001b[0m\u001b[0m\n\u001b[0m\u001b[0;32m    322\u001b[0m                 \u001b[1;32mif\u001b[0m \u001b[0mutil\u001b[0m\u001b[1;33m.\u001b[0m\u001b[0mis_category\u001b[0m\u001b[1;33m(\u001b[0m\u001b[0mX\u001b[0m\u001b[1;33m[\u001b[0m\u001b[0mcol\u001b[0m\u001b[1;33m]\u001b[0m\u001b[1;33m.\u001b[0m\u001b[0mdtype\u001b[0m\u001b[1;33m)\u001b[0m\u001b[1;33m:\u001b[0m\u001b[1;33m\u001b[0m\u001b[1;33m\u001b[0m\u001b[0m\n\u001b[0;32m    323\u001b[0m                     \u001b[1;31m# Avoid using pandas category dtype meta-data if possible, see #235, #238.\u001b[0m\u001b[1;33m\u001b[0m\u001b[1;33m\u001b[0m\u001b[0m\n",
      "\u001b[1;32mC:\\ProgramData\\Anaconda3\\lib\\site-packages\\pandas\\core\\frame.py\u001b[0m in \u001b[0;36m__getitem__\u001b[1;34m(self, key)\u001b[0m\n\u001b[0;32m   3456\u001b[0m             \u001b[1;32mif\u001b[0m \u001b[0mself\u001b[0m\u001b[1;33m.\u001b[0m\u001b[0mcolumns\u001b[0m\u001b[1;33m.\u001b[0m\u001b[0mnlevels\u001b[0m \u001b[1;33m>\u001b[0m \u001b[1;36m1\u001b[0m\u001b[1;33m:\u001b[0m\u001b[1;33m\u001b[0m\u001b[1;33m\u001b[0m\u001b[0m\n\u001b[0;32m   3457\u001b[0m                 \u001b[1;32mreturn\u001b[0m \u001b[0mself\u001b[0m\u001b[1;33m.\u001b[0m\u001b[0m_getitem_multilevel\u001b[0m\u001b[1;33m(\u001b[0m\u001b[0mkey\u001b[0m\u001b[1;33m)\u001b[0m\u001b[1;33m\u001b[0m\u001b[1;33m\u001b[0m\u001b[0m\n\u001b[1;32m-> 3458\u001b[1;33m             \u001b[0mindexer\u001b[0m \u001b[1;33m=\u001b[0m \u001b[0mself\u001b[0m\u001b[1;33m.\u001b[0m\u001b[0mcolumns\u001b[0m\u001b[1;33m.\u001b[0m\u001b[0mget_loc\u001b[0m\u001b[1;33m(\u001b[0m\u001b[0mkey\u001b[0m\u001b[1;33m)\u001b[0m\u001b[1;33m\u001b[0m\u001b[1;33m\u001b[0m\u001b[0m\n\u001b[0m\u001b[0;32m   3459\u001b[0m             \u001b[1;32mif\u001b[0m \u001b[0mis_integer\u001b[0m\u001b[1;33m(\u001b[0m\u001b[0mindexer\u001b[0m\u001b[1;33m)\u001b[0m\u001b[1;33m:\u001b[0m\u001b[1;33m\u001b[0m\u001b[1;33m\u001b[0m\u001b[0m\n\u001b[0;32m   3460\u001b[0m                 \u001b[0mindexer\u001b[0m \u001b[1;33m=\u001b[0m \u001b[1;33m[\u001b[0m\u001b[0mindexer\u001b[0m\u001b[1;33m]\u001b[0m\u001b[1;33m\u001b[0m\u001b[1;33m\u001b[0m\u001b[0m\n",
      "\u001b[1;32mC:\\ProgramData\\Anaconda3\\lib\\site-packages\\pandas\\core\\indexes\\base.py\u001b[0m in \u001b[0;36mget_loc\u001b[1;34m(self, key, method, tolerance)\u001b[0m\n\u001b[0;32m   3361\u001b[0m                 \u001b[1;32mreturn\u001b[0m \u001b[0mself\u001b[0m\u001b[1;33m.\u001b[0m\u001b[0m_engine\u001b[0m\u001b[1;33m.\u001b[0m\u001b[0mget_loc\u001b[0m\u001b[1;33m(\u001b[0m\u001b[0mcasted_key\u001b[0m\u001b[1;33m)\u001b[0m\u001b[1;33m\u001b[0m\u001b[1;33m\u001b[0m\u001b[0m\n\u001b[0;32m   3362\u001b[0m             \u001b[1;32mexcept\u001b[0m \u001b[0mKeyError\u001b[0m \u001b[1;32mas\u001b[0m \u001b[0merr\u001b[0m\u001b[1;33m:\u001b[0m\u001b[1;33m\u001b[0m\u001b[1;33m\u001b[0m\u001b[0m\n\u001b[1;32m-> 3363\u001b[1;33m                 \u001b[1;32mraise\u001b[0m \u001b[0mKeyError\u001b[0m\u001b[1;33m(\u001b[0m\u001b[0mkey\u001b[0m\u001b[1;33m)\u001b[0m \u001b[1;32mfrom\u001b[0m \u001b[0merr\u001b[0m\u001b[1;33m\u001b[0m\u001b[1;33m\u001b[0m\u001b[0m\n\u001b[0m\u001b[0;32m   3364\u001b[0m \u001b[1;33m\u001b[0m\u001b[0m\n\u001b[0;32m   3365\u001b[0m         \u001b[1;32mif\u001b[0m \u001b[0mis_scalar\u001b[0m\u001b[1;33m(\u001b[0m\u001b[0mkey\u001b[0m\u001b[1;33m)\u001b[0m \u001b[1;32mand\u001b[0m \u001b[0misna\u001b[0m\u001b[1;33m(\u001b[0m\u001b[0mkey\u001b[0m\u001b[1;33m)\u001b[0m \u001b[1;32mand\u001b[0m \u001b[1;32mnot\u001b[0m \u001b[0mself\u001b[0m\u001b[1;33m.\u001b[0m\u001b[0mhasnans\u001b[0m\u001b[1;33m:\u001b[0m\u001b[1;33m\u001b[0m\u001b[1;33m\u001b[0m\u001b[0m\n",
      "\u001b[1;31mKeyError\u001b[0m: 'ms_subclass'"
     ]
    }
   ],
   "source": [
    "y_pred_pipe = pipe.predict(X_train)"
   ]
  },
  {
   "cell_type": "code",
   "execution_count": 167,
   "id": "7092627f-4111-40df-87c7-5f7dc53d6f5e",
   "metadata": {},
   "outputs": [
    {
     "data": {
      "text/plain": [
       "array([148699.34437979, 103505.19005877, 216779.25320631, ...,\n",
       "       192901.62630468, 182903.31766174, 178666.36687155])"
      ]
     },
     "execution_count": 167,
     "metadata": {},
     "output_type": "execute_result"
    }
   ],
   "source": [
    "tt.predict(X_pipe_fit)"
   ]
  },
  {
   "cell_type": "code",
   "execution_count": 168,
   "id": "f3b44340-5f09-4b35-bc75-58fb80704864",
   "metadata": {},
   "outputs": [
    {
     "data": {
      "text/plain": [
       "0.7005078624915747"
      ]
     },
     "execution_count": 168,
     "metadata": {},
     "output_type": "execute_result"
    }
   ],
   "source": [
    "tt.score(X_pipe_fit,y_train)"
   ]
  },
  {
   "cell_type": "code",
   "execution_count": 170,
   "id": "55067a38-6b6b-48b8-94b3-7d4dc595adb2",
   "metadata": {},
   "outputs": [],
   "source": [
    "X_pipe_fit_val = pipe.transform(X_val)"
   ]
  },
  {
   "cell_type": "code",
   "execution_count": 184,
   "id": "da608ec4-a0d0-4a18-bcb3-bd6ad5e5ed71",
   "metadata": {},
   "outputs": [
    {
     "data": {
      "text/plain": [
       "(0.5337184877429955, 0.46952855554473205)"
      ]
     },
     "execution_count": 184,
     "metadata": {},
     "output_type": "execute_result"
    }
   ],
   "source": [
    "lr.fit(X_train[['gr_liv_area']],y_train)\n",
    "lr.score(X_val[['gr_liv_area']],y_val), lr.score(X_train[['gr_liv_area']],y_train)"
   ]
  },
  {
   "cell_type": "code",
   "execution_count": 185,
   "id": "76f29437-2e49-4a37-ae19-ce1c324c3bc5",
   "metadata": {},
   "outputs": [],
   "source": [
    "X_test = ames_test"
   ]
  },
  {
   "cell_type": "markdown",
   "id": "68411bd2-042d-4744-a2b2-af264ee3d7cb",
   "metadata": {},
   "source": [
    "Above is to stop messing with ames_test, and simply deal with this new X_test for whatever needs to be done"
   ]
  },
  {
   "cell_type": "code",
   "execution_count": 189,
   "id": "fd20ce41-a3ba-4cd3-af6d-b5fb84997882",
   "metadata": {},
   "outputs": [
    {
     "data": {
      "text/plain": [
       "(0.46402318626226036, 0.546435207554491)"
      ]
     },
     "execution_count": 189,
     "metadata": {},
     "output_type": "execute_result"
    }
   ],
   "source": [
    "tt.fit(X_train[['gr_liv_area']],y_train)\n",
    "tt.score(X_train[['gr_liv_area']],y_train), tt.score(X_val[['gr_liv_area']],y_val)"
   ]
  },
  {
   "cell_type": "markdown",
   "id": "256ddffa-6cb7-4dca-a4ca-02c058555fbf",
   "metadata": {},
   "source": [
    "So, after a broad approach like that failed, let's try and slim it down substantially to more likely to be relevant variables"
   ]
  },
  {
   "cell_type": "code",
   "execution_count": 190,
   "id": "e82946fc-9f1b-48a6-9555-c822cb7c4071",
   "metadata": {},
   "outputs": [
    {
     "data": {
      "text/plain": [
       "<AxesSubplot:>"
      ]
     },
     "execution_count": 190,
     "metadata": {},
     "output_type": "execute_result"
    },
    {
     "data": {
      "image/png": "[encoded data removed]",
      "text/plain": [
       "<Figure size 432x288 with 2 Axes>"
      ]
     },
     "metadata": {
      "needs_background": "light"
     },
     "output_type": "display_data"
    }
   ],
   "source": [
    "sns.heatmap(X_train.corr(),cmap='seismic')"
   ]
  },
  {
   "cell_type": "code",
   "execution_count": 191,
   "id": "ad0534d8-ed0d-4702-ba7f-cf5743543f0d",
   "metadata": {},
   "outputs": [
    {
     "data": {
      "text/plain": [
       "Index(['ms_subclass', 'ms_zoning', 'lot_frontage', 'lot_area', 'street',\n",
       "       'alley', 'lot_shape', 'land_contour', 'utilities', 'lot_config',\n",
       "       'land_slope', 'neighborhood', 'condition_1', 'condition_2', 'bldg_type',\n",
       "       'house_style', 'overall_qual', 'overall_cond', 'year_built',\n",
       "       'year_remod/add', 'roof_style', 'roof_matl', 'exterior_1st',\n",
       "       'exterior_2nd', 'mas_vnr_type', 'mas_vnr_area', 'exter_qual',\n",
       "       'exter_cond', 'foundation', 'bsmt_qual', 'bsmt_cond', 'bsmt_exposure',\n",
       "       'bsmtfin_type_1', 'bsmtfin_sf_1', 'bsmtfin_type_2', 'bsmtfin_sf_2',\n",
       "       'total_bsmt_sf', 'heating', 'heating_qc', 'central_air', 'electrical',\n",
       "       '1st_flr_sf', '2nd_flr_sf', 'low_qual_fin_sf', 'gr_liv_area',\n",
       "       'bsmt_full_bath', 'bsmt_half_bath', 'full_bath', 'half_bath',\n",
       "       'bedroom_abvgr', 'kitchen_abvgr', 'kitchen_qual', 'totrms_abvgrd',\n",
       "       'functional', 'fireplaces', 'fireplace_qu', 'garage_type',\n",
       "       'garage_cars', 'garage_area', 'paved_drive', 'wood_deck_sf',\n",
       "       'open_porch_sf', 'enclosed_porch', '3ssn_porch', 'screen_porch',\n",
       "       'pool_area', 'pool_qc', 'fence', 'misc_feature', 'misc_val', 'mo_sold',\n",
       "       'yr_sold', 'sale_type'],\n",
       "      dtype='object')"
      ]
     },
     "execution_count": 191,
     "metadata": {},
     "output_type": "execute_result"
    }
   ],
   "source": [
    "X_train.columns"
   ]
  },
  {
   "cell_type": "markdown",
   "id": "7bae96d6-18fd-4db2-aee2-3afe58d624ac",
   "metadata": {},
   "source": [
    "Let's drop mo sold/yr sold and make it a simple months since 1990 - better for time effects"
   ]
  },
  {
   "cell_type": "code",
   "execution_count": 193,
   "id": "58db2d33-7f88-41d6-8146-f2a9ceb72cdb",
   "metadata": {},
   "outputs": [],
   "source": [
    "X_train['mo_since_1990'] = X_train['mo_sold']+12*X_train['yr_sold']-1990*12"
   ]
  },
  {
   "cell_type": "code",
   "execution_count": 196,
   "id": "9aa6529f-a60a-42ee-81bb-ebca244f5b1d",
   "metadata": {},
   "outputs": [],
   "source": [
    "X_val['mo_since_1990'] = X_val['mo_sold']+12*X_val['yr_sold']-1990*12\n",
    "X_test['mo_since_1990'] = X_test['mo_sold']+12*X_test['yr_sold']-1990*12"
   ]
  },
  {
   "cell_type": "code",
   "execution_count": 201,
   "id": "0af53371-1e89-4501-864c-106ee329f979",
   "metadata": {},
   "outputs": [],
   "source": [
    "X_train.drop(columns=['mo_sold','yr_sold'],inplace=True)\n",
    "X_val.drop(columns=['mo_sold','yr_sold'],inplace=True)\n",
    "X_test.drop(columns=['mo_sold','yr_sold'],inplace=True)"
   ]
  },
  {
   "cell_type": "code",
   "execution_count": 202,
   "id": "42dc5767-6181-4315-8685-8f7c7700e847",
   "metadata": {},
   "outputs": [
    {
     "data": {
      "text/plain": [
       "Index(['ms_subclass', 'ms_zoning', 'lot_frontage', 'lot_area', 'street',\n",
       "       'alley', 'lot_shape', 'land_contour', 'utilities', 'lot_config',\n",
       "       'land_slope', 'neighborhood', 'condition_1', 'condition_2', 'bldg_type',\n",
       "       'house_style', 'overall_qual', 'overall_cond', 'year_built',\n",
       "       'year_remod/add', 'roof_style', 'roof_matl', 'exterior_1st',\n",
       "       'exterior_2nd', 'mas_vnr_type', 'mas_vnr_area', 'exter_qual',\n",
       "       'exter_cond', 'foundation', 'bsmt_qual', 'bsmt_cond', 'bsmt_exposure',\n",
       "       'bsmtfin_type_1', 'bsmtfin_sf_1', 'bsmtfin_type_2', 'bsmtfin_sf_2',\n",
       "       'total_bsmt_sf', 'heating', 'heating_qc', 'central_air', 'electrical',\n",
       "       '1st_flr_sf', '2nd_flr_sf', 'low_qual_fin_sf', 'gr_liv_area',\n",
       "       'bsmt_full_bath', 'bsmt_half_bath', 'full_bath', 'half_bath',\n",
       "       'bedroom_abvgr', 'kitchen_abvgr', 'kitchen_qual', 'totrms_abvgrd',\n",
       "       'functional', 'fireplaces', 'fireplace_qu', 'garage_type',\n",
       "       'garage_cars', 'garage_area', 'paved_drive', 'wood_deck_sf',\n",
       "       'open_porch_sf', 'enclosed_porch', '3ssn_porch', 'screen_porch',\n",
       "       'pool_area', 'pool_qc', 'fence', 'misc_feature', 'misc_val',\n",
       "       'sale_type', 'mo_since_1990'],\n",
       "      dtype='object')"
      ]
     },
     "execution_count": 202,
     "metadata": {},
     "output_type": "execute_result"
    }
   ],
   "source": [
    "X_train.columns"
   ]
  },
  {
   "cell_type": "code",
   "execution_count": 209,
   "id": "7b946fe1-fc65-466a-a21f-316d6e52993c",
   "metadata": {},
   "outputs": [],
   "source": [
    "\n",
    "X_train.drop(columns=['ms_subclass','lot_frontage','street','alley','lot_shape','land_contour','land_slope','condition_1','condition_2','house_style','overall_qual','overall_cond',\n",
    "                      'year_remod/add','roof_style','roof_matl','exterior_1st','exterior_2nd','mas_vnr_type','mas_vnr_area','exter_qual','exter_cond','foundation','bsmt_qual','bsmt_cond','bsmt_exposure',\n",
    "                      'bsmt_exposure','bsmtfin_type_1','bsmtfin_sf_1','bsmtfin_type_2','bsmtfin_sf_2','heating_qc','electrical','low_qual_fin_sf','kitchen_qual','functional','fireplace_qu','wood_deck_sf','open_porch_sf',\n",
    "                      'enclosed_porch','3ssn_porch'\n",
    "                     ],inplace=True)"
   ]
  },
  {
   "cell_type": "code",
   "execution_count": 208,
   "id": "e41fa4e6-a2f4-4142-bbc9-ed88525cdd6e",
   "metadata": {},
   "outputs": [],
   "source": [
    "X_val.drop(columns=['ms_subclass','lot_frontage','street','alley','lot_shape','land_contour','land_slope','condition_1','condition_2','house_style','overall_qual','overall_cond',\n",
    "                      'year_remod/add','roof_style','roof_matl','exterior_1st','exterior_2nd','mas_vnr_type','mas_vnr_area','exter_qual','exter_cond','foundation','bsmt_qual','bsmt_cond','bsmt_exposure',\n",
    "                      'bsmt_exposure','bsmtfin_type_1','bsmtfin_sf_1','bsmtfin_type_2','bsmtfin_sf_2','heating_qc','electrical','low_qual_fin_sf','kitchen_qual','functional','fireplace_qu','wood_deck_sf','open_porch_sf',\n",
    "                      'enclosed_porch','3ssn_porch'\n",
    "                     ],inplace=True)\n",
    "X_test.drop(columns=['ms_subclass','lot_frontage','street','alley','lot_shape','land_contour','land_slope','condition_1','condition_2','house_style','overall_qual','overall_cond',\n",
    "                      'year_remod/add','roof_style','roof_matl','exterior_1st','exterior_2nd','mas_vnr_type','mas_vnr_area','exter_qual','exter_cond','foundation','bsmt_qual','bsmt_cond','bsmt_exposure',\n",
    "                      'bsmt_exposure','bsmtfin_type_1','bsmtfin_sf_1','bsmtfin_type_2','bsmtfin_sf_2','heating_qc','electrical','low_qual_fin_sf','kitchen_qual','functional','fireplace_qu','wood_deck_sf','open_porch_sf',\n",
    "                      'enclosed_porch','3ssn_porch'\n",
    "                     ],inplace=True)"
   ]
  },
  {
   "cell_type": "code",
   "execution_count": 210,
   "id": "723166c7-de6a-4872-a8b0-58200e9e03b6",
   "metadata": {},
   "outputs": [
    {
     "data": {
      "text/plain": [
       "<AxesSubplot:>"
      ]
     },
     "execution_count": 210,
     "metadata": {},
     "output_type": "execute_result"
    },
    {
     "data": {
      "image/png": "[encoded data removed]",
      "text/plain": [
       "<Figure size 432x288 with 2 Axes>"
      ]
     },
     "metadata": {
      "needs_background": "light"
     },
     "output_type": "display_data"
    }
   ],
   "source": [
    "sns.heatmap(X_train.corr(),cmap='seismic')"
   ]
  },
  {
   "cell_type": "code",
   "execution_count": null,
   "id": "ab432125-3ea8-4e97-9fca-6c3958c59877",
   "metadata": {},
   "outputs": [],
   "source": []
  },
  {
   "cell_type": "code",
   "execution_count": 223,
   "id": "4aa666c8-d88d-4466-a42b-a8f05eba9b6c",
   "metadata": {},
   "outputs": [],
   "source": [
    "X_train_ohe=ohe.fit_transform(X_train,y_train)"
   ]
  },
  {
   "cell_type": "code",
   "execution_count": 242,
   "id": "9e0ec6f5-8cb2-4ef5-a3bc-5578b04d76d0",
   "metadata": {},
   "outputs": [],
   "source": [
    "X_train_pf = pf.fit_transform(X_train_ohe,y_train)"
   ]
  },
  {
   "cell_type": "code",
   "execution_count": 249,
   "id": "3fc4666b-e232-4290-bbb4-72c577626cfa",
   "metadata": {},
   "outputs": [],
   "source": [
    "X_train_rfe = rfe.fit_transform(X_train_ohe,y_train)"
   ]
  },
  {
   "cell_type": "code",
   "execution_count": 252,
   "id": "9a751deb-9285-4c68-8bd7-ae7a991d9f6e",
   "metadata": {},
   "outputs": [],
   "source": [
    "X_train_pf = pf.fit_transform(X_train_rfe,y_train)"
   ]
  },
  {
   "cell_type": "code",
   "execution_count": 238,
   "id": "af957b66-36c1-4e77-be0e-5e59c3717573",
   "metadata": {},
   "outputs": [
    {
     "data": {
      "text/plain": [
       "LinearRegression()"
      ]
     },
     "execution_count": 238,
     "metadata": {},
     "output_type": "execute_result"
    }
   ],
   "source": [
    "lr.fit(X_train_rfe,y_train)"
   ]
  },
  {
   "cell_type": "code",
   "execution_count": 253,
   "id": "c5392006-9625-4c0e-b061-b8bb2a1c8d6d",
   "metadata": {},
   "outputs": [
    {
     "data": {
      "text/plain": [
       "(1535, 991)"
      ]
     },
     "execution_count": 253,
     "metadata": {},
     "output_type": "execute_result"
    }
   ],
   "source": [
    "X_train_pf.shape"
   ]
  },
  {
   "cell_type": "code",
   "execution_count": 240,
   "id": "6654ac22-4e5a-4d01-a120-0a342fe03b21",
   "metadata": {},
   "outputs": [
    {
     "data": {
      "text/plain": [
       "0.8080420223070399"
      ]
     },
     "execution_count": 240,
     "metadata": {},
     "output_type": "execute_result"
    }
   ],
   "source": [
    "lr.score(X_train_rfe,y_train)"
   ]
  },
  {
   "cell_type": "code",
   "execution_count": 291,
   "id": "9bd31966-352a-45d5-9296-5e0f7245ba25",
   "metadata": {},
   "outputs": [],
   "source": [
    "ct1 = make_column_transformer((OneHotEncoder(),make_column_selector(dtype_include=object)),\n",
    "                              (PolynomialFeatures(interaction_only=True),make_column_selector(dtype_include=np.number)),\n",
    "                              remainder='passthrough'\n",
    "                             )"
   ]
  },
  {
   "cell_type": "code",
   "execution_count": 271,
   "id": "9bca4ec9-b5d3-4b7c-b133-5a3c53897395",
   "metadata": {},
   "outputs": [],
   "source": [
    "pipe2 = make_pipeline(ct1,RFE(LinearRegression(),n_features_to_select=.4),LinearRegression())"
   ]
  },
  {
   "cell_type": "code",
   "execution_count": 272,
   "id": "6e161040-1ac8-40a0-a527-79dd69663ca2",
   "metadata": {},
   "outputs": [
    {
     "data": {
      "text/plain": [
       "Pipeline(steps=[('columntransformer',\n",
       "                 ColumnTransformer(remainder='passthrough',\n",
       "                                   transformers=[('onehotencoder',\n",
       "                                                  OneHotEncoder(),\n",
       "                                                  <sklearn.compose._column_transformer.make_column_selector object at 0x0000017BF4D79E80>),\n",
       "                                                 ('polynomialfeatures',\n",
       "                                                  PolynomialFeatures(interaction_only=True),\n",
       "                                                  <sklearn.compose._column_transformer.make_column_selector object at 0x0000017BF4D79640>)])),\n",
       "                ('rfe',\n",
       "                 RFE(estimator=LinearRegression(), n_features_to_select=0.4)),\n",
       "                ('linearregression', LinearRegression())])"
      ]
     },
     "execution_count": 272,
     "metadata": {},
     "output_type": "execute_result"
    }
   ],
   "source": [
    "pipe2.fit(X_train,y_train)"
   ]
  },
  {
   "cell_type": "code",
   "execution_count": 273,
   "id": "0bb62298-911f-4710-bfe1-15abe1cdb191",
   "metadata": {},
   "outputs": [
    {
     "data": {
      "text/plain": [
       "0.87265087896947"
      ]
     },
     "execution_count": 273,
     "metadata": {},
     "output_type": "execute_result"
    }
   ],
   "source": [
    "pipe2.score(X_train,y_train)"
   ]
  },
  {
   "cell_type": "code",
   "execution_count": 274,
   "id": "5d3d582a-d9a7-4a85-9157-39fe92cac959",
   "metadata": {},
   "outputs": [
    {
     "data": {
      "text/plain": [
       "0.8417228419672635"
      ]
     },
     "execution_count": 274,
     "metadata": {},
     "output_type": "execute_result"
    }
   ],
   "source": [
    "pipe2.score(X_val,y_val)"
   ]
  },
  {
   "cell_type": "code",
   "execution_count": 296,
   "id": "5a2ad04b-aaf0-4622-80ba-aab2ce7085b6",
   "metadata": {},
   "outputs": [],
   "source": [
    "pipe_params = {\n",
    "    'columntransformer__polynomialfeatures__interaction_only' : [True,False],\n",
    "    'columntransformer__polynomialfeatures__include_bias' : [True,False],\n",
    "    'rfe__n_features_to_select' : [0.3,0.4,0.5,0.6,0.7]\n",
    "}\n",
    "mse = make_scorer(mean_squared_error,greater_is_better=False)\n",
    "gs = GridSearchCV(pipe2,param_grid=pipe_params,n_jobs=-1,verbose = 1,scoring=mse)"
   ]
  },
  {
   "cell_type": "code",
   "execution_count": 297,
   "id": "992becb9-313a-49d6-8e68-898d433d0446",
   "metadata": {},
   "outputs": [
    {
     "name": "stdout",
     "output_type": "stream",
     "text": [
      "Fitting 5 folds for each of 20 candidates, totalling 100 fits\n"
     ]
    },
    {
     "data": {
      "text/plain": [
       "GridSearchCV(estimator=Pipeline(steps=[('columntransformer',\n",
       "                                        ColumnTransformer(remainder='passthrough',\n",
       "                                                          transformers=[('onehotencoder',\n",
       "                                                                         OneHotEncoder(),\n",
       "                                                                         <sklearn.compose._column_transformer.make_column_selector object at 0x0000017BF4D79E80>),\n",
       "                                                                        ('polynomialfeatures',\n",
       "                                                                         PolynomialFeatures(interaction_only=True),\n",
       "                                                                         <sklearn.compose._column_transformer.make_column_se...\n",
       "                                            n_features_to_select=0.4)),\n",
       "                                       ('linearregression',\n",
       "                                        LinearRegression())]),\n",
       "             n_jobs=-1,\n",
       "             param_grid={'columntransformer__polynomialfeatures__include_bias': [True,\n",
       "                                                                                 False],\n",
       "                         'columntransformer__polynomialfeatures__interaction_only': [True,\n",
       "                                                                                     False],\n",
       "                         'rfe__n_features_to_select': [0.3, 0.4, 0.5, 0.6,\n",
       "                                                       0.7]},\n",
       "             scoring=make_scorer(mean_squared_error, greater_is_better=False),\n",
       "             verbose=1)"
      ]
     },
     "execution_count": 297,
     "metadata": {},
     "output_type": "execute_result"
    }
   ],
   "source": [
    "gs.fit(X_train,y_train)"
   ]
  },
  {
   "cell_type": "code",
   "execution_count": 298,
   "id": "9e5817e3-48eb-46e9-bbe6-e79bf57c3c38",
   "metadata": {},
   "outputs": [
    {
     "data": {
      "text/plain": [
       "{'columntransformer__polynomialfeatures__include_bias': True,\n",
       " 'columntransformer__polynomialfeatures__interaction_only': True,\n",
       " 'rfe__n_features_to_select': 0.3}"
      ]
     },
     "execution_count": 298,
     "metadata": {},
     "output_type": "execute_result"
    }
   ],
   "source": [
    "gs.best_params_"
   ]
  },
  {
   "cell_type": "markdown",
   "id": "f2d812f2-17dd-46ba-b921-cb91df6e1d73",
   "metadata": {},
   "source": [
    "So it seems the choices made were correct, but you want even fewer features. Let's explore over that space, then"
   ]
  },
  {
   "cell_type": "code",
   "execution_count": 300,
   "id": "b00278cb-54a7-4352-9990-9ad96775e9ff",
   "metadata": {},
   "outputs": [
    {
     "name": "stdout",
     "output_type": "stream",
     "text": [
      "Fitting 5 folds for each of 20 candidates, totalling 100 fits\n"
     ]
    },
    {
     "data": {
      "text/plain": [
       "{'columntransformer__polynomialfeatures__include_bias': True,\n",
       " 'columntransformer__polynomialfeatures__interaction_only': True,\n",
       " 'rfe__n_features_to_select': 0.3}"
      ]
     },
     "execution_count": 300,
     "metadata": {},
     "output_type": "execute_result"
    }
   ],
   "source": [
    "pipe_params2 = {\n",
    "    'columntransformer__polynomialfeatures__interaction_only' : [True,False],\n",
    "    'columntransformer__polynomialfeatures__include_bias' : [True,False],\n",
    "    'rfe__n_features_to_select' : [0.1,0.15,0.2,0.25,0.3]\n",
    "}\n",
    "gs2 = GridSearchCV(pipe2,param_grid=pipe_params2,n_jobs=-1,verbose = 1,scoring=mse)\n",
    "gs2.fit(X_train,y_train)\n",
    "gs2.best_params_"
   ]
  },
  {
   "cell_type": "markdown",
   "id": "f404c245-cb09-42f1-8637-6c2e4d7ea413",
   "metadata": {},
   "source": [
    "With thanks to https://stackoverflow.com/questions/21050110/sklearn-gridsearchcv-with-pipeline"
   ]
  },
  {
   "cell_type": "markdown",
   "id": "8f95e00d-2ae5-4400-85e5-c286af649622",
   "metadata": {},
   "source": [
    "0.3 is our local maximum! (or minimum, since we're talking about MSE)"
   ]
  },
  {
   "cell_type": "code",
   "execution_count": 301,
   "id": "7f13045c-38af-4600-80a1-d7f5cf303aa0",
   "metadata": {},
   "outputs": [],
   "source": [
    "y_train_gspred = gs2.predict(X_train)"
   ]
  },
  {
   "cell_type": "code",
   "execution_count": 303,
   "id": "ed4955fb-a080-4f08-9d54-92abac3cc580",
   "metadata": {},
   "outputs": [
    {
     "data": {
      "text/plain": [
       "29355.41980107104"
      ]
     },
     "execution_count": 303,
     "metadata": {},
     "output_type": "execute_result"
    }
   ],
   "source": [
    "mean_squared_error(y_train,y_train_gspred)**.5"
   ]
  },
  {
   "cell_type": "code",
   "execution_count": 304,
   "id": "7d92229d-6325-456c-9a5e-d7f22daa8086",
   "metadata": {},
   "outputs": [],
   "source": [
    "y_val_gspred = gs2.predict(X_val)"
   ]
  },
  {
   "cell_type": "code",
   "execution_count": 305,
   "id": "f073f213-6544-4b85-9897-51ea9abd86e8",
   "metadata": {},
   "outputs": [
    {
     "data": {
      "text/plain": [
       "28307.62046791879"
      ]
     },
     "execution_count": 305,
     "metadata": {},
     "output_type": "execute_result"
    }
   ],
   "source": [
    "mean_squared_error(y_val,y_val_gspred)**0.5"
   ]
  },
  {
   "cell_type": "code",
   "execution_count": 309,
   "id": "38bf122b-944f-4eb2-b547-c3e9308d5c9f",
   "metadata": {},
   "outputs": [],
   "source": [
    "pipe3 = make_pipeline(ct1,RFE(LinearRegression(),n_features_to_select=.3))"
   ]
  },
  {
   "cell_type": "code",
   "execution_count": 310,
   "id": "23fe212c-3a52-448a-a8ec-207760a4d872",
   "metadata": {},
   "outputs": [],
   "source": [
    "X_train_pipe=pipe3.fit_transform(X_train,y_train)"
   ]
  },
  {
   "cell_type": "code",
   "execution_count": 317,
   "id": "70a6ec13-ccd5-4860-a675-fabbe2e6af2a",
   "metadata": {},
   "outputs": [],
   "source": [
    "X_val_pipe=pipe3.transform(X_val)"
   ]
  },
  {
   "cell_type": "code",
   "execution_count": 311,
   "id": "c8d89d6e-e394-4982-94dd-5f1669bf353f",
   "metadata": {},
   "outputs": [],
   "source": [
    "ttr = TransformedTargetRegressor(regressor=LinearRegression(),func=np.log,inverse_func=np.exp)"
   ]
  },
  {
   "cell_type": "code",
   "execution_count": 312,
   "id": "169de4c7-d323-4ce4-a1ca-90f527738474",
   "metadata": {},
   "outputs": [
    {
     "data": {
      "text/plain": [
       "TransformedTargetRegressor(func=<ufunc 'log'>, inverse_func=<ufunc 'exp'>,\n",
       "                           regressor=LinearRegression())"
      ]
     },
     "execution_count": 312,
     "metadata": {},
     "output_type": "execute_result"
    }
   ],
   "source": [
    "ttr.fit(X_train_pipe,y_train)"
   ]
  },
  {
   "cell_type": "code",
   "execution_count": 313,
   "id": "cee85b34-1df3-4141-b166-a3d57b1b197d",
   "metadata": {},
   "outputs": [],
   "source": [
    "y_train_ttrpred=ttr.predict(X_train_pipe)"
   ]
  },
  {
   "cell_type": "code",
   "execution_count": 315,
   "id": "00616b64-9e14-4f4f-af58-58b5860c87dd",
   "metadata": {},
   "outputs": [
    {
     "data": {
      "text/plain": [
       "27509.67791209494"
      ]
     },
     "execution_count": 315,
     "metadata": {},
     "output_type": "execute_result"
    }
   ],
   "source": [
    "mean_squared_error(y_train,y_train_ttrpred)**0.5"
   ]
  },
  {
   "cell_type": "code",
   "execution_count": 318,
   "id": "fac31320-5801-46f5-8c3b-7d0dce7725e0",
   "metadata": {},
   "outputs": [],
   "source": [
    "y_val_ttrpred=ttr.predict(X_val_pipe)"
   ]
  },
  {
   "cell_type": "code",
   "execution_count": 321,
   "id": "2a0c8639-89be-43f3-b262-051e64021e6f",
   "metadata": {},
   "outputs": [
    {
     "data": {
      "text/plain": [
       "26456.24167854644"
      ]
     },
     "execution_count": 321,
     "metadata": {},
     "output_type": "execute_result"
    }
   ],
   "source": [
    "mean_squared_error(y_val,y_val_ttrpred)**0.5"
   ]
  },
  {
   "cell_type": "code",
   "execution_count": 322,
   "id": "8e4f3ed6-0e5a-43d4-acbd-d2ca73474466",
   "metadata": {},
   "outputs": [],
   "source": [
    "X_train_ct = ct1.fit_transform(X_train,y_train)"
   ]
  },
  {
   "cell_type": "markdown",
   "id": "d65ed503-346a-4962-a1f2-3bca272415cc",
   "metadata": {
    "tags": []
   },
   "source": [
    "Marginal improvements, but real, nonetheless. Let's try using lasso fits"
   ]
  },
  {
   "cell_type": "code",
   "execution_count": 325,
   "id": "fac68962-4774-428e-8088-8d6d9f4aa649",
   "metadata": {},
   "outputs": [
    {
     "name": "stderr",
     "output_type": "stream",
     "text": [
      "C:\\Users\\Karthik\\AppData\\Roaming\\Python\\Python39\\site-packages\\sklearn\\linear_model\\_coordinate_descent.py:633: ConvergenceWarning: Objective did not converge. You might want to increase the number of iterations. Duality gap: 941178338.6914062, tolerance: 906825932.2011651\n",
      "  model = cd_fast.enet_coordinate_descent_gram(\n",
      "C:\\Users\\Karthik\\AppData\\Roaming\\Python\\Python39\\site-packages\\sklearn\\linear_model\\_coordinate_descent.py:633: ConvergenceWarning: Objective did not converge. You might want to increase the number of iterations. Duality gap: 1019187740.3286133, tolerance: 906825932.2011651\n",
      "  model = cd_fast.enet_coordinate_descent_gram(\n",
      "C:\\Users\\Karthik\\AppData\\Roaming\\Python\\Python39\\site-packages\\sklearn\\linear_model\\_coordinate_descent.py:633: ConvergenceWarning: Objective did not converge. You might want to increase the number of iterations. Duality gap: 1044583314.4760742, tolerance: 923310548.3685617\n",
      "  model = cd_fast.enet_coordinate_descent_gram(\n",
      "C:\\Users\\Karthik\\AppData\\Roaming\\Python\\Python39\\site-packages\\sklearn\\linear_model\\_coordinate_descent.py:633: ConvergenceWarning: Objective did not converge. You might want to increase the number of iterations. Duality gap: 957784813.0112305, tolerance: 928256619.0830117\n",
      "  model = cd_fast.enet_coordinate_descent_gram(\n",
      "C:\\Users\\Karthik\\AppData\\Roaming\\Python\\Python39\\site-packages\\sklearn\\linear_model\\_coordinate_descent.py:633: ConvergenceWarning: Objective did not converge. You might want to increase the number of iterations. Duality gap: 1052885327.6079102, tolerance: 928256619.0830117\n",
      "  model = cd_fast.enet_coordinate_descent_gram(\n",
      "C:\\Users\\Karthik\\AppData\\Roaming\\Python\\Python39\\site-packages\\sklearn\\linear_model\\_coordinate_descent.py:633: ConvergenceWarning: Objective did not converge. You might want to increase the number of iterations. Duality gap: 1089671357.7827148, tolerance: 928256619.0830117\n",
      "  model = cd_fast.enet_coordinate_descent_gram(\n",
      "C:\\Users\\Karthik\\AppData\\Roaming\\Python\\Python39\\site-packages\\sklearn\\linear_model\\_coordinate_descent.py:633: ConvergenceWarning: Objective did not converge. You might want to increase the number of iterations. Duality gap: 944059507.3813477, tolerance: 928256619.0830117\n",
      "  model = cd_fast.enet_coordinate_descent_gram(\n"
     ]
    },
    {
     "data": {
      "text/plain": [
       "(1815224696.8509982, 0.7138917183660392)"
      ]
     },
     "execution_count": 325,
     "metadata": {},
     "output_type": "execute_result"
    }
   ],
   "source": [
    "lcv = LassoCV(cv=10).fit(X_train_ct,y_train)\n",
    "lcv.alpha_, lcv.score(X_train_ct,y_train)"
   ]
  },
  {
   "cell_type": "code",
   "execution_count": 332,
   "id": "27487b49-59e3-4209-a6fd-5faf7104fd87",
   "metadata": {},
   "outputs": [
    {
     "name": "stderr",
     "output_type": "stream",
     "text": [
      "C:\\Users\\Karthik\\AppData\\Roaming\\Python\\Python39\\site-packages\\sklearn\\utils\\deprecation.py:87: FutureWarning: Function get_feature_names is deprecated; get_feature_names is deprecated in 1.0 and will be removed in 1.2. Please use get_feature_names_out instead.\n",
      "  warnings.warn(msg, category=FutureWarning)\n"
     ]
    }
   ],
   "source": [
    "\n",
    "lasfit = Lasso(alpha=lcv.alpha_)\n",
    "lasfit.fit(X_train_ct,y_train)\n",
    "final_columns = [col for col, coef in zip(ct1.get_feature_names(), lcv.coef_) if coef]"
   ]
  },
  {
   "cell_type": "code",
   "execution_count": 333,
   "id": "0fb2bac0-419a-4bf0-b62d-e561bc3ae39a",
   "metadata": {},
   "outputs": [
    {
     "name": "stderr",
     "output_type": "stream",
     "text": [
      "C:\\Users\\Karthik\\AppData\\Roaming\\Python\\Python39\\site-packages\\sklearn\\utils\\deprecation.py:87: FutureWarning: Function get_feature_names is deprecated; get_feature_names is deprecated in 1.0 and will be removed in 1.2. Please use get_feature_names_out instead.\n",
      "  warnings.warn(msg, category=FutureWarning)\n"
     ]
    },
    {
     "data": {
      "text/plain": [
       "LinearRegression()"
      ]
     },
     "execution_count": 333,
     "metadata": {},
     "output_type": "execute_result"
    }
   ],
   "source": [
    "X_tr_ctpd = pd.DataFrame(X_train_ct,columns=ct1.get_feature_names())\n",
    "lr2 = LinearRegression()\n",
    "lr2.fit(X_tr_ctpd,y_train)"
   ]
  },
  {
   "cell_type": "code",
   "execution_count": 334,
   "id": "4cf1e69b-a52a-410d-9236-727e62ff6e50",
   "metadata": {},
   "outputs": [
    {
     "data": {
      "text/plain": [
       "0.9381379618632725"
      ]
     },
     "execution_count": 334,
     "metadata": {},
     "output_type": "execute_result"
    }
   ],
   "source": [
    "lr2.score(X_tr_ctpd,y_train)"
   ]
  },
  {
   "cell_type": "code",
   "execution_count": 338,
   "id": "a672667a-deb7-4d4b-94a7-05a95d08c0a4",
   "metadata": {},
   "outputs": [],
   "source": [
    "y_train_laspred = lr2.predict(X_tr_ctpd)"
   ]
  },
  {
   "cell_type": "code",
   "execution_count": 339,
   "id": "7023d8f9-6d1f-461a-95f7-130327ab3854",
   "metadata": {},
   "outputs": [
    {
     "data": {
      "text/plain": [
       "20300.0469339158"
      ]
     },
     "execution_count": 339,
     "metadata": {},
     "output_type": "execute_result"
    }
   ],
   "source": [
    "mean_squared_error(y_train,y_train_laspred)**0.5"
   ]
  },
  {
   "cell_type": "code",
   "execution_count": 343,
   "id": "6c2d71ac-90ee-41c8-a29b-3a7bf8975fb5",
   "metadata": {},
   "outputs": [
    {
     "name": "stderr",
     "output_type": "stream",
     "text": [
      "C:\\Users\\Karthik\\AppData\\Roaming\\Python\\Python39\\site-packages\\sklearn\\base.py:450: UserWarning: X does not have valid feature names, but LinearRegression was fitted with feature names\n",
      "  warnings.warn(\n"
     ]
    }
   ],
   "source": [
    "X_val_ct = ct1.transform(X_val)\n",
    "y_val_laspred = lr2.predict(X_val_ct)"
   ]
  },
  {
   "cell_type": "code",
   "execution_count": 345,
   "id": "4fc36cd2-b6fd-4d8b-9090-cf2c957e606e",
   "metadata": {},
   "outputs": [
    {
     "data": {
      "text/plain": [
       "38520.121526855975"
      ]
     },
     "execution_count": 345,
     "metadata": {},
     "output_type": "execute_result"
    }
   ],
   "source": [
    "mean_squared_error(y_val,y_val_laspred)**0.5"
   ]
  },
  {
   "cell_type": "markdown",
   "id": "caa6b664-5bb2-4568-a564-5dc469ccb73e",
   "metadata": {},
   "source": [
    "Looks overfit- even seriously so- let's just use the previous method and submit as such"
   ]
  },
  {
   "cell_type": "code",
   "execution_count": 347,
   "id": "3c6a9d3e-7b74-4560-ab5b-b7f5c37f9ad0",
   "metadata": {},
   "outputs": [
    {
     "name": "stderr",
     "output_type": "stream",
     "text": [
      "C:\\Users\\Karthik\\AppData\\Roaming\\Python\\Python39\\site-packages\\sklearn\\base.py:450: UserWarning: X does not have valid feature names, but LinearRegression was fitted with feature names\n",
      "  warnings.warn(\n"
     ]
    },
    {
     "data": {
      "text/plain": [
       "0.7092563185074973"
      ]
     },
     "execution_count": 347,
     "metadata": {},
     "output_type": "execute_result"
    }
   ],
   "source": [
    "lr2.score(X_val_ct,y_val)"
   ]
  },
  {
   "cell_type": "code",
   "execution_count": 348,
   "id": "42c3f334-110e-452f-b191-4141da40c812",
   "metadata": {},
   "outputs": [],
   "source": [
    "X_test_pipe = pipe3.transform(X_test)"
   ]
  },
  {
   "cell_type": "code",
   "execution_count": 349,
   "id": "10a31568-93e0-4f8b-a8ef-18b00103aefd",
   "metadata": {},
   "outputs": [],
   "source": [
    "y_test_ttrpred = ttr.predict(X_test_pipe)"
   ]
  },
  {
   "cell_type": "code",
   "execution_count": 350,
   "id": "e5d1975f-63a7-4044-9b2d-75fc7fe3f6d1",
   "metadata": {},
   "outputs": [
    {
     "data": {
      "text/plain": [
       "(878,)"
      ]
     },
     "execution_count": 350,
     "metadata": {},
     "output_type": "execute_result"
    }
   ],
   "source": [
    "y_test_ttrpred.shape"
   ]
  },
  {
   "cell_type": "code",
   "execution_count": 599,
   "id": "bb5a4215-0661-444f-a664-841d2ebc2284",
   "metadata": {},
   "outputs": [],
   "source": [
    "ames_test2 = pd.read_csv('../datasets/test.csv')\n",
    "ames_train2 = pd.read_csv('../datasets/train.csv')"
   ]
  },
  {
   "cell_type": "code",
   "execution_count": 352,
   "id": "647fedcb-e325-4a10-9a03-1bd52866acd4",
   "metadata": {},
   "outputs": [
    {
     "data": {
      "text/html": [
       "<div>\n",
       "<style scoped>\n",
       "    .dataframe tbody tr th:only-of-type {\n",
       "        vertical-align: middle;\n",
       "    }\n",
       "\n",
       "    .dataframe tbody tr th {\n",
       "        vertical-align: top;\n",
       "    }\n",
       "\n",
       "    .dataframe thead th {\n",
       "        text-align: right;\n",
       "    }\n",
       "</style>\n",
       "<table border=\"1\" class=\"dataframe\">\n",
       "  <thead>\n",
       "    <tr style=\"text-align: right;\">\n",
       "      <th></th>\n",
       "      <th>Id</th>\n",
       "      <th>PID</th>\n",
       "      <th>MS SubClass</th>\n",
       "      <th>MS Zoning</th>\n",
       "      <th>Lot Frontage</th>\n",
       "      <th>Lot Area</th>\n",
       "      <th>Street</th>\n",
       "      <th>Alley</th>\n",
       "      <th>Lot Shape</th>\n",
       "      <th>Land Contour</th>\n",
       "      <th>...</th>\n",
       "      <th>3Ssn Porch</th>\n",
       "      <th>Screen Porch</th>\n",
       "      <th>Pool Area</th>\n",
       "      <th>Pool QC</th>\n",
       "      <th>Fence</th>\n",
       "      <th>Misc Feature</th>\n",
       "      <th>Misc Val</th>\n",
       "      <th>Mo Sold</th>\n",
       "      <th>Yr Sold</th>\n",
       "      <th>Sale Type</th>\n",
       "    </tr>\n",
       "  </thead>\n",
       "  <tbody>\n",
       "    <tr>\n",
       "      <th>0</th>\n",
       "      <td>2658</td>\n",
       "      <td>902301120</td>\n",
       "      <td>190</td>\n",
       "      <td>RM</td>\n",
       "      <td>69.0</td>\n",
       "      <td>9142</td>\n",
       "      <td>Pave</td>\n",
       "      <td>Grvl</td>\n",
       "      <td>Reg</td>\n",
       "      <td>Lvl</td>\n",
       "      <td>...</td>\n",
       "      <td>0</td>\n",
       "      <td>0</td>\n",
       "      <td>0</td>\n",
       "      <td>NaN</td>\n",
       "      <td>NaN</td>\n",
       "      <td>NaN</td>\n",
       "      <td>0</td>\n",
       "      <td>4</td>\n",
       "      <td>2006</td>\n",
       "      <td>WD</td>\n",
       "    </tr>\n",
       "    <tr>\n",
       "      <th>1</th>\n",
       "      <td>2718</td>\n",
       "      <td>905108090</td>\n",
       "      <td>90</td>\n",
       "      <td>RL</td>\n",
       "      <td>NaN</td>\n",
       "      <td>9662</td>\n",
       "      <td>Pave</td>\n",
       "      <td>NaN</td>\n",
       "      <td>IR1</td>\n",
       "      <td>Lvl</td>\n",
       "      <td>...</td>\n",
       "      <td>0</td>\n",
       "      <td>0</td>\n",
       "      <td>0</td>\n",
       "      <td>NaN</td>\n",
       "      <td>NaN</td>\n",
       "      <td>NaN</td>\n",
       "      <td>0</td>\n",
       "      <td>8</td>\n",
       "      <td>2006</td>\n",
       "      <td>WD</td>\n",
       "    </tr>\n",
       "    <tr>\n",
       "      <th>2</th>\n",
       "      <td>2414</td>\n",
       "      <td>528218130</td>\n",
       "      <td>60</td>\n",
       "      <td>RL</td>\n",
       "      <td>58.0</td>\n",
       "      <td>17104</td>\n",
       "      <td>Pave</td>\n",
       "      <td>NaN</td>\n",
       "      <td>IR1</td>\n",
       "      <td>Lvl</td>\n",
       "      <td>...</td>\n",
       "      <td>0</td>\n",
       "      <td>0</td>\n",
       "      <td>0</td>\n",
       "      <td>NaN</td>\n",
       "      <td>NaN</td>\n",
       "      <td>NaN</td>\n",
       "      <td>0</td>\n",
       "      <td>9</td>\n",
       "      <td>2006</td>\n",
       "      <td>New</td>\n",
       "    </tr>\n",
       "    <tr>\n",
       "      <th>3</th>\n",
       "      <td>1989</td>\n",
       "      <td>902207150</td>\n",
       "      <td>30</td>\n",
       "      <td>RM</td>\n",
       "      <td>60.0</td>\n",
       "      <td>8520</td>\n",
       "      <td>Pave</td>\n",
       "      <td>NaN</td>\n",
       "      <td>Reg</td>\n",
       "      <td>Lvl</td>\n",
       "      <td>...</td>\n",
       "      <td>0</td>\n",
       "      <td>0</td>\n",
       "      <td>0</td>\n",
       "      <td>NaN</td>\n",
       "      <td>NaN</td>\n",
       "      <td>NaN</td>\n",
       "      <td>0</td>\n",
       "      <td>7</td>\n",
       "      <td>2007</td>\n",
       "      <td>WD</td>\n",
       "    </tr>\n",
       "    <tr>\n",
       "      <th>4</th>\n",
       "      <td>625</td>\n",
       "      <td>535105100</td>\n",
       "      <td>20</td>\n",
       "      <td>RL</td>\n",
       "      <td>NaN</td>\n",
       "      <td>9500</td>\n",
       "      <td>Pave</td>\n",
       "      <td>NaN</td>\n",
       "      <td>IR1</td>\n",
       "      <td>Lvl</td>\n",
       "      <td>...</td>\n",
       "      <td>0</td>\n",
       "      <td>185</td>\n",
       "      <td>0</td>\n",
       "      <td>NaN</td>\n",
       "      <td>NaN</td>\n",
       "      <td>NaN</td>\n",
       "      <td>0</td>\n",
       "      <td>7</td>\n",
       "      <td>2009</td>\n",
       "      <td>WD</td>\n",
       "    </tr>\n",
       "    <tr>\n",
       "      <th>...</th>\n",
       "      <td>...</td>\n",
       "      <td>...</td>\n",
       "      <td>...</td>\n",
       "      <td>...</td>\n",
       "      <td>...</td>\n",
       "      <td>...</td>\n",
       "      <td>...</td>\n",
       "      <td>...</td>\n",
       "      <td>...</td>\n",
       "      <td>...</td>\n",
       "      <td>...</td>\n",
       "      <td>...</td>\n",
       "      <td>...</td>\n",
       "      <td>...</td>\n",
       "      <td>...</td>\n",
       "      <td>...</td>\n",
       "      <td>...</td>\n",
       "      <td>...</td>\n",
       "      <td>...</td>\n",
       "      <td>...</td>\n",
       "      <td>...</td>\n",
       "    </tr>\n",
       "    <tr>\n",
       "      <th>873</th>\n",
       "      <td>1662</td>\n",
       "      <td>527377110</td>\n",
       "      <td>60</td>\n",
       "      <td>RL</td>\n",
       "      <td>80.0</td>\n",
       "      <td>8000</td>\n",
       "      <td>Pave</td>\n",
       "      <td>NaN</td>\n",
       "      <td>Reg</td>\n",
       "      <td>Lvl</td>\n",
       "      <td>...</td>\n",
       "      <td>0</td>\n",
       "      <td>0</td>\n",
       "      <td>0</td>\n",
       "      <td>NaN</td>\n",
       "      <td>NaN</td>\n",
       "      <td>NaN</td>\n",
       "      <td>0</td>\n",
       "      <td>11</td>\n",
       "      <td>2007</td>\n",
       "      <td>WD</td>\n",
       "    </tr>\n",
       "    <tr>\n",
       "      <th>874</th>\n",
       "      <td>1234</td>\n",
       "      <td>535126140</td>\n",
       "      <td>60</td>\n",
       "      <td>RL</td>\n",
       "      <td>90.0</td>\n",
       "      <td>14670</td>\n",
       "      <td>Pave</td>\n",
       "      <td>NaN</td>\n",
       "      <td>Reg</td>\n",
       "      <td>Lvl</td>\n",
       "      <td>...</td>\n",
       "      <td>0</td>\n",
       "      <td>0</td>\n",
       "      <td>0</td>\n",
       "      <td>NaN</td>\n",
       "      <td>MnPrv</td>\n",
       "      <td>NaN</td>\n",
       "      <td>0</td>\n",
       "      <td>8</td>\n",
       "      <td>2008</td>\n",
       "      <td>WD</td>\n",
       "    </tr>\n",
       "    <tr>\n",
       "      <th>875</th>\n",
       "      <td>1373</td>\n",
       "      <td>904100040</td>\n",
       "      <td>20</td>\n",
       "      <td>RL</td>\n",
       "      <td>55.0</td>\n",
       "      <td>8250</td>\n",
       "      <td>Pave</td>\n",
       "      <td>NaN</td>\n",
       "      <td>Reg</td>\n",
       "      <td>Lvl</td>\n",
       "      <td>...</td>\n",
       "      <td>0</td>\n",
       "      <td>0</td>\n",
       "      <td>0</td>\n",
       "      <td>NaN</td>\n",
       "      <td>NaN</td>\n",
       "      <td>NaN</td>\n",
       "      <td>0</td>\n",
       "      <td>8</td>\n",
       "      <td>2008</td>\n",
       "      <td>WD</td>\n",
       "    </tr>\n",
       "    <tr>\n",
       "      <th>876</th>\n",
       "      <td>1672</td>\n",
       "      <td>527425140</td>\n",
       "      <td>20</td>\n",
       "      <td>RL</td>\n",
       "      <td>60.0</td>\n",
       "      <td>9000</td>\n",
       "      <td>Pave</td>\n",
       "      <td>NaN</td>\n",
       "      <td>Reg</td>\n",
       "      <td>Lvl</td>\n",
       "      <td>...</td>\n",
       "      <td>0</td>\n",
       "      <td>0</td>\n",
       "      <td>0</td>\n",
       "      <td>NaN</td>\n",
       "      <td>GdWo</td>\n",
       "      <td>NaN</td>\n",
       "      <td>0</td>\n",
       "      <td>5</td>\n",
       "      <td>2007</td>\n",
       "      <td>WD</td>\n",
       "    </tr>\n",
       "    <tr>\n",
       "      <th>877</th>\n",
       "      <td>1939</td>\n",
       "      <td>535327160</td>\n",
       "      <td>20</td>\n",
       "      <td>RL</td>\n",
       "      <td>70.0</td>\n",
       "      <td>8400</td>\n",
       "      <td>Pave</td>\n",
       "      <td>NaN</td>\n",
       "      <td>Reg</td>\n",
       "      <td>Lvl</td>\n",
       "      <td>...</td>\n",
       "      <td>0</td>\n",
       "      <td>0</td>\n",
       "      <td>0</td>\n",
       "      <td>NaN</td>\n",
       "      <td>GdWo</td>\n",
       "      <td>NaN</td>\n",
       "      <td>0</td>\n",
       "      <td>3</td>\n",
       "      <td>2007</td>\n",
       "      <td>WD</td>\n",
       "    </tr>\n",
       "  </tbody>\n",
       "</table>\n",
       "<p>878 rows × 80 columns</p>\n",
       "</div>"
      ],
      "text/plain": [
       "       Id        PID  MS SubClass MS Zoning  Lot Frontage  Lot Area Street  \\\n",
       "0    2658  902301120          190        RM          69.0      9142   Pave   \n",
       "1    2718  905108090           90        RL           NaN      9662   Pave   \n",
       "2    2414  528218130           60        RL          58.0     17104   Pave   \n",
       "3    1989  902207150           30        RM          60.0      8520   Pave   \n",
       "4     625  535105100           20        RL           NaN      9500   Pave   \n",
       "..    ...        ...          ...       ...           ...       ...    ...   \n",
       "873  1662  527377110           60        RL          80.0      8000   Pave   \n",
       "874  1234  535126140           60        RL          90.0     14670   Pave   \n",
       "875  1373  904100040           20        RL          55.0      8250   Pave   \n",
       "876  1672  527425140           20        RL          60.0      9000   Pave   \n",
       "877  1939  535327160           20        RL          70.0      8400   Pave   \n",
       "\n",
       "    Alley Lot Shape Land Contour  ... 3Ssn Porch Screen Porch Pool Area  \\\n",
       "0    Grvl       Reg          Lvl  ...          0            0         0   \n",
       "1     NaN       IR1          Lvl  ...          0            0         0   \n",
       "2     NaN       IR1          Lvl  ...          0            0         0   \n",
       "3     NaN       Reg          Lvl  ...          0            0         0   \n",
       "4     NaN       IR1          Lvl  ...          0          185         0   \n",
       "..    ...       ...          ...  ...        ...          ...       ...   \n",
       "873   NaN       Reg          Lvl  ...          0            0         0   \n",
       "874   NaN       Reg          Lvl  ...          0            0         0   \n",
       "875   NaN       Reg          Lvl  ...          0            0         0   \n",
       "876   NaN       Reg          Lvl  ...          0            0         0   \n",
       "877   NaN       Reg          Lvl  ...          0            0         0   \n",
       "\n",
       "    Pool QC  Fence Misc Feature Misc Val Mo Sold  Yr Sold  Sale Type  \n",
       "0       NaN    NaN          NaN        0       4     2006        WD   \n",
       "1       NaN    NaN          NaN        0       8     2006        WD   \n",
       "2       NaN    NaN          NaN        0       9     2006        New  \n",
       "3       NaN    NaN          NaN        0       7     2007        WD   \n",
       "4       NaN    NaN          NaN        0       7     2009        WD   \n",
       "..      ...    ...          ...      ...     ...      ...        ...  \n",
       "873     NaN    NaN          NaN        0      11     2007        WD   \n",
       "874     NaN  MnPrv          NaN        0       8     2008        WD   \n",
       "875     NaN    NaN          NaN        0       8     2008        WD   \n",
       "876     NaN   GdWo          NaN        0       5     2007        WD   \n",
       "877     NaN   GdWo          NaN        0       3     2007        WD   \n",
       "\n",
       "[878 rows x 80 columns]"
      ]
     },
     "execution_count": 352,
     "metadata": {},
     "output_type": "execute_result"
    }
   ],
   "source": [
    "ames_test2"
   ]
  },
  {
   "cell_type": "code",
   "execution_count": 356,
   "id": "58b0967d-a566-41e4-a9a8-aa83d53eabc1",
   "metadata": {},
   "outputs": [],
   "source": [
    "ames_test2['SalePrice'] = y_test_ttrpred"
   ]
  },
  {
   "cell_type": "code",
   "execution_count": 357,
   "id": "82e2bd5f-3e57-47eb-ae83-ec199ac324f2",
   "metadata": {},
   "outputs": [],
   "source": [
    "submission = ames_test2[['Id','SalePrice']]"
   ]
  },
  {
   "cell_type": "code",
   "execution_count": 358,
   "id": "14771363-d725-4d17-9d50-2db779e6241a",
   "metadata": {},
   "outputs": [],
   "source": [
    "submission.to_csv('../datasets/submitted_model.csv',index=False)"
   ]
  },
  {
   "cell_type": "code",
   "execution_count": 362,
   "id": "140cbe94-dd1c-4c5a-8021-4552812393e7",
   "metadata": {},
   "outputs": [
    {
     "name": "stderr",
     "output_type": "stream",
     "text": [
      "C:\\Users\\Karthik\\AppData\\Roaming\\Python\\Python39\\site-packages\\sklearn\\utils\\deprecation.py:87: FutureWarning: Function get_feature_names is deprecated; get_feature_names is deprecated in 1.0 and will be removed in 1.2. Please use get_feature_names_out instead.\n",
      "  warnings.warn(msg, category=FutureWarning)\n"
     ]
    },
    {
     "data": {
      "text/plain": [
       "['onehotencoder__ms_zoning_1',\n",
       " 'onehotencoder__ms_zoning_2',\n",
       " 'onehotencoder__ms_zoning_3',\n",
       " 'onehotencoder__ms_zoning_4',\n",
       " 'onehotencoder__ms_zoning_5',\n",
       " 'onehotencoder__ms_zoning_6',\n",
       " 'onehotencoder__ms_zoning_7',\n",
       " 'onehotencoder__utilities_1',\n",
       " 'onehotencoder__utilities_2',\n",
       " 'onehotencoder__utilities_3',\n",
       " 'onehotencoder__lot_config_1',\n",
       " 'onehotencoder__lot_config_2',\n",
       " 'onehotencoder__lot_config_3',\n",
       " 'onehotencoder__lot_config_4',\n",
       " 'onehotencoder__lot_config_5',\n",
       " 'onehotencoder__neighborhood_1',\n",
       " 'onehotencoder__neighborhood_2',\n",
       " 'onehotencoder__neighborhood_3',\n",
       " 'onehotencoder__neighborhood_4',\n",
       " 'onehotencoder__neighborhood_5',\n",
       " 'onehotencoder__neighborhood_6',\n",
       " 'onehotencoder__neighborhood_7',\n",
       " 'onehotencoder__neighborhood_8',\n",
       " 'onehotencoder__neighborhood_9',\n",
       " 'onehotencoder__neighborhood_10',\n",
       " 'onehotencoder__neighborhood_11',\n",
       " 'onehotencoder__neighborhood_12',\n",
       " 'onehotencoder__neighborhood_13',\n",
       " 'onehotencoder__neighborhood_14',\n",
       " 'onehotencoder__neighborhood_15',\n",
       " 'onehotencoder__neighborhood_16',\n",
       " 'onehotencoder__neighborhood_17',\n",
       " 'onehotencoder__neighborhood_18',\n",
       " 'onehotencoder__neighborhood_19',\n",
       " 'onehotencoder__neighborhood_20',\n",
       " 'onehotencoder__neighborhood_21',\n",
       " 'onehotencoder__neighborhood_22',\n",
       " 'onehotencoder__neighborhood_23',\n",
       " 'onehotencoder__neighborhood_24',\n",
       " 'onehotencoder__neighborhood_25',\n",
       " 'onehotencoder__neighborhood_26',\n",
       " 'onehotencoder__neighborhood_27',\n",
       " 'onehotencoder__neighborhood_28',\n",
       " 'onehotencoder__bldg_type_1',\n",
       " 'onehotencoder__bldg_type_2',\n",
       " 'onehotencoder__bldg_type_3',\n",
       " 'onehotencoder__bldg_type_4',\n",
       " 'onehotencoder__bldg_type_5',\n",
       " 'onehotencoder__heating_1',\n",
       " 'onehotencoder__heating_2',\n",
       " 'onehotencoder__heating_3',\n",
       " 'onehotencoder__heating_4',\n",
       " 'onehotencoder__heating_5',\n",
       " 'onehotencoder__central_air_1',\n",
       " 'onehotencoder__central_air_2',\n",
       " 'onehotencoder__garage_type_1',\n",
       " 'onehotencoder__garage_type_2',\n",
       " 'onehotencoder__garage_type_3',\n",
       " 'onehotencoder__garage_type_4',\n",
       " 'onehotencoder__garage_type_5',\n",
       " 'onehotencoder__garage_type_6',\n",
       " 'onehotencoder__garage_type_7',\n",
       " 'onehotencoder__paved_drive_1',\n",
       " 'onehotencoder__paved_drive_2',\n",
       " 'onehotencoder__paved_drive_3',\n",
       " 'onehotencoder__pool_qc_1',\n",
       " 'onehotencoder__pool_qc_2',\n",
       " 'onehotencoder__pool_qc_3',\n",
       " 'onehotencoder__pool_qc_4',\n",
       " 'onehotencoder__pool_qc_5',\n",
       " 'onehotencoder__fence_1',\n",
       " 'onehotencoder__fence_2',\n",
       " 'onehotencoder__fence_3',\n",
       " 'onehotencoder__fence_4',\n",
       " 'onehotencoder__fence_5',\n",
       " 'onehotencoder__misc_feature_1',\n",
       " 'onehotencoder__misc_feature_2',\n",
       " 'onehotencoder__misc_feature_3',\n",
       " 'onehotencoder__misc_feature_4',\n",
       " 'onehotencoder__misc_feature_5',\n",
       " 'onehotencoder__misc_feature_6',\n",
       " 'onehotencoder__sale_type_1',\n",
       " 'onehotencoder__sale_type_2',\n",
       " 'onehotencoder__sale_type_3',\n",
       " 'onehotencoder__sale_type_4',\n",
       " 'onehotencoder__sale_type_5',\n",
       " 'onehotencoder__sale_type_6',\n",
       " 'onehotencoder__sale_type_7',\n",
       " 'onehotencoder__sale_type_8',\n",
       " 'onehotencoder__sale_type_9',\n",
       " 'polynomialfeatures__1',\n",
       " 'polynomialfeatures__x0',\n",
       " 'polynomialfeatures__x1',\n",
       " 'polynomialfeatures__x2',\n",
       " 'polynomialfeatures__x3',\n",
       " 'polynomialfeatures__x4',\n",
       " 'polynomialfeatures__x5',\n",
       " 'polynomialfeatures__x6',\n",
       " 'polynomialfeatures__x7',\n",
       " 'polynomialfeatures__x8',\n",
       " 'polynomialfeatures__x9',\n",
       " 'polynomialfeatures__x10',\n",
       " 'polynomialfeatures__x11',\n",
       " 'polynomialfeatures__x12',\n",
       " 'polynomialfeatures__x13',\n",
       " 'polynomialfeatures__x14',\n",
       " 'polynomialfeatures__x15',\n",
       " 'polynomialfeatures__x16',\n",
       " 'polynomialfeatures__x17',\n",
       " 'polynomialfeatures__x18',\n",
       " 'polynomialfeatures__x19',\n",
       " 'polynomialfeatures__x0 x1',\n",
       " 'polynomialfeatures__x0 x2',\n",
       " 'polynomialfeatures__x0 x3',\n",
       " 'polynomialfeatures__x0 x4',\n",
       " 'polynomialfeatures__x0 x5',\n",
       " 'polynomialfeatures__x0 x6',\n",
       " 'polynomialfeatures__x0 x7',\n",
       " 'polynomialfeatures__x0 x8',\n",
       " 'polynomialfeatures__x0 x9',\n",
       " 'polynomialfeatures__x0 x10',\n",
       " 'polynomialfeatures__x0 x11',\n",
       " 'polynomialfeatures__x0 x12',\n",
       " 'polynomialfeatures__x0 x13',\n",
       " 'polynomialfeatures__x0 x14',\n",
       " 'polynomialfeatures__x0 x15',\n",
       " 'polynomialfeatures__x0 x16',\n",
       " 'polynomialfeatures__x0 x17',\n",
       " 'polynomialfeatures__x0 x18',\n",
       " 'polynomialfeatures__x0 x19',\n",
       " 'polynomialfeatures__x1 x2',\n",
       " 'polynomialfeatures__x1 x3',\n",
       " 'polynomialfeatures__x1 x4',\n",
       " 'polynomialfeatures__x1 x5',\n",
       " 'polynomialfeatures__x1 x6',\n",
       " 'polynomialfeatures__x1 x7',\n",
       " 'polynomialfeatures__x1 x8',\n",
       " 'polynomialfeatures__x1 x9',\n",
       " 'polynomialfeatures__x1 x10',\n",
       " 'polynomialfeatures__x1 x11',\n",
       " 'polynomialfeatures__x1 x12',\n",
       " 'polynomialfeatures__x1 x13',\n",
       " 'polynomialfeatures__x1 x14',\n",
       " 'polynomialfeatures__x1 x15',\n",
       " 'polynomialfeatures__x1 x16',\n",
       " 'polynomialfeatures__x1 x17',\n",
       " 'polynomialfeatures__x1 x18',\n",
       " 'polynomialfeatures__x1 x19',\n",
       " 'polynomialfeatures__x2 x3',\n",
       " 'polynomialfeatures__x2 x4',\n",
       " 'polynomialfeatures__x2 x5',\n",
       " 'polynomialfeatures__x2 x6',\n",
       " 'polynomialfeatures__x2 x7',\n",
       " 'polynomialfeatures__x2 x8',\n",
       " 'polynomialfeatures__x2 x9',\n",
       " 'polynomialfeatures__x2 x10',\n",
       " 'polynomialfeatures__x2 x11',\n",
       " 'polynomialfeatures__x2 x12',\n",
       " 'polynomialfeatures__x2 x13',\n",
       " 'polynomialfeatures__x2 x14',\n",
       " 'polynomialfeatures__x2 x15',\n",
       " 'polynomialfeatures__x2 x16',\n",
       " 'polynomialfeatures__x2 x17',\n",
       " 'polynomialfeatures__x2 x18',\n",
       " 'polynomialfeatures__x2 x19',\n",
       " 'polynomialfeatures__x3 x4',\n",
       " 'polynomialfeatures__x3 x5',\n",
       " 'polynomialfeatures__x3 x6',\n",
       " 'polynomialfeatures__x3 x7',\n",
       " 'polynomialfeatures__x3 x8',\n",
       " 'polynomialfeatures__x3 x9',\n",
       " 'polynomialfeatures__x3 x10',\n",
       " 'polynomialfeatures__x3 x11',\n",
       " 'polynomialfeatures__x3 x12',\n",
       " 'polynomialfeatures__x3 x13',\n",
       " 'polynomialfeatures__x3 x14',\n",
       " 'polynomialfeatures__x3 x15',\n",
       " 'polynomialfeatures__x3 x16',\n",
       " 'polynomialfeatures__x3 x17',\n",
       " 'polynomialfeatures__x3 x18',\n",
       " 'polynomialfeatures__x3 x19',\n",
       " 'polynomialfeatures__x4 x5',\n",
       " 'polynomialfeatures__x4 x6',\n",
       " 'polynomialfeatures__x4 x7',\n",
       " 'polynomialfeatures__x4 x8',\n",
       " 'polynomialfeatures__x4 x9',\n",
       " 'polynomialfeatures__x4 x10',\n",
       " 'polynomialfeatures__x4 x11',\n",
       " 'polynomialfeatures__x4 x12',\n",
       " 'polynomialfeatures__x4 x13',\n",
       " 'polynomialfeatures__x4 x14',\n",
       " 'polynomialfeatures__x4 x15',\n",
       " 'polynomialfeatures__x4 x16',\n",
       " 'polynomialfeatures__x4 x17',\n",
       " 'polynomialfeatures__x4 x18',\n",
       " 'polynomialfeatures__x4 x19',\n",
       " 'polynomialfeatures__x5 x6',\n",
       " 'polynomialfeatures__x5 x7',\n",
       " 'polynomialfeatures__x5 x8',\n",
       " 'polynomialfeatures__x5 x9',\n",
       " 'polynomialfeatures__x5 x10',\n",
       " 'polynomialfeatures__x5 x11',\n",
       " 'polynomialfeatures__x5 x12',\n",
       " 'polynomialfeatures__x5 x13',\n",
       " 'polynomialfeatures__x5 x14',\n",
       " 'polynomialfeatures__x5 x15',\n",
       " 'polynomialfeatures__x5 x16',\n",
       " 'polynomialfeatures__x5 x17',\n",
       " 'polynomialfeatures__x5 x18',\n",
       " 'polynomialfeatures__x5 x19',\n",
       " 'polynomialfeatures__x6 x7',\n",
       " 'polynomialfeatures__x6 x8',\n",
       " 'polynomialfeatures__x6 x9',\n",
       " 'polynomialfeatures__x6 x10',\n",
       " 'polynomialfeatures__x6 x11',\n",
       " 'polynomialfeatures__x6 x12',\n",
       " 'polynomialfeatures__x6 x13',\n",
       " 'polynomialfeatures__x6 x14',\n",
       " 'polynomialfeatures__x6 x15',\n",
       " 'polynomialfeatures__x6 x16',\n",
       " 'polynomialfeatures__x6 x17',\n",
       " 'polynomialfeatures__x6 x18',\n",
       " 'polynomialfeatures__x6 x19',\n",
       " 'polynomialfeatures__x7 x8',\n",
       " 'polynomialfeatures__x7 x9',\n",
       " 'polynomialfeatures__x7 x10',\n",
       " 'polynomialfeatures__x7 x11',\n",
       " 'polynomialfeatures__x7 x12',\n",
       " 'polynomialfeatures__x7 x13',\n",
       " 'polynomialfeatures__x7 x14',\n",
       " 'polynomialfeatures__x7 x15',\n",
       " 'polynomialfeatures__x7 x16',\n",
       " 'polynomialfeatures__x7 x17',\n",
       " 'polynomialfeatures__x7 x18',\n",
       " 'polynomialfeatures__x7 x19',\n",
       " 'polynomialfeatures__x8 x9',\n",
       " 'polynomialfeatures__x8 x10',\n",
       " 'polynomialfeatures__x8 x11',\n",
       " 'polynomialfeatures__x8 x12',\n",
       " 'polynomialfeatures__x8 x13',\n",
       " 'polynomialfeatures__x8 x14',\n",
       " 'polynomialfeatures__x8 x15',\n",
       " 'polynomialfeatures__x8 x16',\n",
       " 'polynomialfeatures__x8 x17',\n",
       " 'polynomialfeatures__x8 x18',\n",
       " 'polynomialfeatures__x8 x19',\n",
       " 'polynomialfeatures__x9 x10',\n",
       " 'polynomialfeatures__x9 x11',\n",
       " 'polynomialfeatures__x9 x12',\n",
       " 'polynomialfeatures__x9 x13',\n",
       " 'polynomialfeatures__x9 x14',\n",
       " 'polynomialfeatures__x9 x15',\n",
       " 'polynomialfeatures__x9 x16',\n",
       " 'polynomialfeatures__x9 x17',\n",
       " 'polynomialfeatures__x9 x18',\n",
       " 'polynomialfeatures__x9 x19',\n",
       " 'polynomialfeatures__x10 x11',\n",
       " 'polynomialfeatures__x10 x12',\n",
       " 'polynomialfeatures__x10 x13',\n",
       " 'polynomialfeatures__x10 x14',\n",
       " 'polynomialfeatures__x10 x15',\n",
       " 'polynomialfeatures__x10 x16',\n",
       " 'polynomialfeatures__x10 x17',\n",
       " 'polynomialfeatures__x10 x18',\n",
       " 'polynomialfeatures__x10 x19',\n",
       " 'polynomialfeatures__x11 x12',\n",
       " 'polynomialfeatures__x11 x13',\n",
       " 'polynomialfeatures__x11 x14',\n",
       " 'polynomialfeatures__x11 x15',\n",
       " 'polynomialfeatures__x11 x16',\n",
       " 'polynomialfeatures__x11 x17',\n",
       " 'polynomialfeatures__x11 x18',\n",
       " 'polynomialfeatures__x11 x19',\n",
       " 'polynomialfeatures__x12 x13',\n",
       " 'polynomialfeatures__x12 x14',\n",
       " 'polynomialfeatures__x12 x15',\n",
       " 'polynomialfeatures__x12 x16',\n",
       " 'polynomialfeatures__x12 x17',\n",
       " 'polynomialfeatures__x12 x18',\n",
       " 'polynomialfeatures__x12 x19',\n",
       " 'polynomialfeatures__x13 x14',\n",
       " 'polynomialfeatures__x13 x15',\n",
       " 'polynomialfeatures__x13 x16',\n",
       " 'polynomialfeatures__x13 x17',\n",
       " 'polynomialfeatures__x13 x18',\n",
       " 'polynomialfeatures__x13 x19',\n",
       " 'polynomialfeatures__x14 x15',\n",
       " 'polynomialfeatures__x14 x16',\n",
       " 'polynomialfeatures__x14 x17',\n",
       " 'polynomialfeatures__x14 x18',\n",
       " 'polynomialfeatures__x14 x19',\n",
       " 'polynomialfeatures__x15 x16',\n",
       " 'polynomialfeatures__x15 x17',\n",
       " 'polynomialfeatures__x15 x18',\n",
       " 'polynomialfeatures__x15 x19',\n",
       " 'polynomialfeatures__x16 x17',\n",
       " 'polynomialfeatures__x16 x18',\n",
       " 'polynomialfeatures__x16 x19',\n",
       " 'polynomialfeatures__x17 x18',\n",
       " 'polynomialfeatures__x17 x19',\n",
       " 'polynomialfeatures__x18 x19']"
      ]
     },
     "execution_count": 362,
     "metadata": {},
     "output_type": "execute_result"
    }
   ],
   "source": [
    "ct1.get_feature_names()"
   ]
  },
  {
   "cell_type": "code",
   "execution_count": 365,
   "id": "fa3a41dd-6b3f-4a09-bb29-efc860b63486",
   "metadata": {},
   "outputs": [
    {
     "data": {
      "text/html": [
       "<div>\n",
       "<style scoped>\n",
       "    .dataframe tbody tr th:only-of-type {\n",
       "        vertical-align: middle;\n",
       "    }\n",
       "\n",
       "    .dataframe tbody tr th {\n",
       "        vertical-align: top;\n",
       "    }\n",
       "\n",
       "    .dataframe thead th {\n",
       "        text-align: right;\n",
       "    }\n",
       "</style>\n",
       "<table border=\"1\" class=\"dataframe\">\n",
       "  <thead>\n",
       "    <tr style=\"text-align: right;\">\n",
       "      <th></th>\n",
       "      <th>lot_area</th>\n",
       "      <th>year_built</th>\n",
       "      <th>total_bsmt_sf</th>\n",
       "      <th>1st_flr_sf</th>\n",
       "      <th>2nd_flr_sf</th>\n",
       "      <th>gr_liv_area</th>\n",
       "      <th>bsmt_full_bath</th>\n",
       "      <th>bsmt_half_bath</th>\n",
       "      <th>full_bath</th>\n",
       "      <th>half_bath</th>\n",
       "      <th>bedroom_abvgr</th>\n",
       "      <th>kitchen_abvgr</th>\n",
       "      <th>totrms_abvgrd</th>\n",
       "      <th>fireplaces</th>\n",
       "      <th>garage_cars</th>\n",
       "      <th>garage_area</th>\n",
       "      <th>screen_porch</th>\n",
       "      <th>pool_area</th>\n",
       "      <th>misc_val</th>\n",
       "      <th>mo_since_1990</th>\n",
       "    </tr>\n",
       "  </thead>\n",
       "  <tbody>\n",
       "    <tr>\n",
       "      <th>1733</th>\n",
       "      <td>8.976768</td>\n",
       "      <td>1999</td>\n",
       "      <td>953.0</td>\n",
       "      <td>953</td>\n",
       "      <td>694</td>\n",
       "      <td>7.406711</td>\n",
       "      <td>0.0</td>\n",
       "      <td>0.0</td>\n",
       "      <td>2</td>\n",
       "      <td>1</td>\n",
       "      <td>3</td>\n",
       "      <td>1</td>\n",
       "      <td>7</td>\n",
       "      <td>1</td>\n",
       "      <td>2.0</td>\n",
       "      <td>460.0</td>\n",
       "      <td>0</td>\n",
       "      <td>0</td>\n",
       "      <td>0</td>\n",
       "      <td>212</td>\n",
       "    </tr>\n",
       "    <tr>\n",
       "      <th>258</th>\n",
       "      <td>9.270023</td>\n",
       "      <td>1900</td>\n",
       "      <td>978.0</td>\n",
       "      <td>1014</td>\n",
       "      <td>685</td>\n",
       "      <td>7.437795</td>\n",
       "      <td>1.0</td>\n",
       "      <td>0.0</td>\n",
       "      <td>2</td>\n",
       "      <td>0</td>\n",
       "      <td>3</td>\n",
       "      <td>2</td>\n",
       "      <td>7</td>\n",
       "      <td>0</td>\n",
       "      <td>2.0</td>\n",
       "      <td>420.0</td>\n",
       "      <td>0</td>\n",
       "      <td>0</td>\n",
       "      <td>0</td>\n",
       "      <td>236</td>\n",
       "    </tr>\n",
       "    <tr>\n",
       "      <th>902</th>\n",
       "      <td>9.077951</td>\n",
       "      <td>2006</td>\n",
       "      <td>1489.0</td>\n",
       "      <td>1500</td>\n",
       "      <td>0</td>\n",
       "      <td>7.313220</td>\n",
       "      <td>0.0</td>\n",
       "      <td>0.0</td>\n",
       "      <td>2</td>\n",
       "      <td>0</td>\n",
       "      <td>3</td>\n",
       "      <td>1</td>\n",
       "      <td>7</td>\n",
       "      <td>1</td>\n",
       "      <td>2.0</td>\n",
       "      <td>674.0</td>\n",
       "      <td>0</td>\n",
       "      <td>0</td>\n",
       "      <td>0</td>\n",
       "      <td>210</td>\n",
       "    </tr>\n",
       "    <tr>\n",
       "      <th>450</th>\n",
       "      <td>9.035987</td>\n",
       "      <td>1968</td>\n",
       "      <td>833.0</td>\n",
       "      <td>898</td>\n",
       "      <td>0</td>\n",
       "      <td>6.800170</td>\n",
       "      <td>1.0</td>\n",
       "      <td>0.0</td>\n",
       "      <td>1</td>\n",
       "      <td>0</td>\n",
       "      <td>3</td>\n",
       "      <td>1</td>\n",
       "      <td>6</td>\n",
       "      <td>0</td>\n",
       "      <td>1.0</td>\n",
       "      <td>326.0</td>\n",
       "      <td>0</td>\n",
       "      <td>0</td>\n",
       "      <td>0</td>\n",
       "      <td>200</td>\n",
       "    </tr>\n",
       "    <tr>\n",
       "      <th>1706</th>\n",
       "      <td>9.186048</td>\n",
       "      <td>1963</td>\n",
       "      <td>1395.0</td>\n",
       "      <td>1395</td>\n",
       "      <td>0</td>\n",
       "      <td>7.240650</td>\n",
       "      <td>1.0</td>\n",
       "      <td>0.0</td>\n",
       "      <td>1</td>\n",
       "      <td>0</td>\n",
       "      <td>2</td>\n",
       "      <td>1</td>\n",
       "      <td>7</td>\n",
       "      <td>1</td>\n",
       "      <td>2.0</td>\n",
       "      <td>440.0</td>\n",
       "      <td>240</td>\n",
       "      <td>0</td>\n",
       "      <td>0</td>\n",
       "      <td>245</td>\n",
       "    </tr>\n",
       "    <tr>\n",
       "      <th>...</th>\n",
       "      <td>...</td>\n",
       "      <td>...</td>\n",
       "      <td>...</td>\n",
       "      <td>...</td>\n",
       "      <td>...</td>\n",
       "      <td>...</td>\n",
       "      <td>...</td>\n",
       "      <td>...</td>\n",
       "      <td>...</td>\n",
       "      <td>...</td>\n",
       "      <td>...</td>\n",
       "      <td>...</td>\n",
       "      <td>...</td>\n",
       "      <td>...</td>\n",
       "      <td>...</td>\n",
       "      <td>...</td>\n",
       "      <td>...</td>\n",
       "      <td>...</td>\n",
       "      <td>...</td>\n",
       "      <td>...</td>\n",
       "    </tr>\n",
       "    <tr>\n",
       "      <th>1454</th>\n",
       "      <td>9.114270</td>\n",
       "      <td>1941</td>\n",
       "      <td>616.0</td>\n",
       "      <td>616</td>\n",
       "      <td>495</td>\n",
       "      <td>7.013016</td>\n",
       "      <td>0.0</td>\n",
       "      <td>1.0</td>\n",
       "      <td>1</td>\n",
       "      <td>0</td>\n",
       "      <td>3</td>\n",
       "      <td>1</td>\n",
       "      <td>5</td>\n",
       "      <td>0</td>\n",
       "      <td>1.0</td>\n",
       "      <td>200.0</td>\n",
       "      <td>0</td>\n",
       "      <td>0</td>\n",
       "      <td>0</td>\n",
       "      <td>219</td>\n",
       "    </tr>\n",
       "    <tr>\n",
       "      <th>1006</th>\n",
       "      <td>9.694370</td>\n",
       "      <td>1998</td>\n",
       "      <td>1028.0</td>\n",
       "      <td>1210</td>\n",
       "      <td>1242</td>\n",
       "      <td>7.804659</td>\n",
       "      <td>0.0</td>\n",
       "      <td>0.0</td>\n",
       "      <td>2</td>\n",
       "      <td>1</td>\n",
       "      <td>4</td>\n",
       "      <td>1</td>\n",
       "      <td>9</td>\n",
       "      <td>1</td>\n",
       "      <td>2.0</td>\n",
       "      <td>683.0</td>\n",
       "      <td>0</td>\n",
       "      <td>0</td>\n",
       "      <td>0</td>\n",
       "      <td>209</td>\n",
       "    </tr>\n",
       "    <tr>\n",
       "      <th>953</th>\n",
       "      <td>9.131838</td>\n",
       "      <td>2006</td>\n",
       "      <td>939.0</td>\n",
       "      <td>939</td>\n",
       "      <td>858</td>\n",
       "      <td>7.493874</td>\n",
       "      <td>0.0</td>\n",
       "      <td>0.0</td>\n",
       "      <td>2</td>\n",
       "      <td>1</td>\n",
       "      <td>3</td>\n",
       "      <td>1</td>\n",
       "      <td>8</td>\n",
       "      <td>0</td>\n",
       "      <td>2.0</td>\n",
       "      <td>639.0</td>\n",
       "      <td>0</td>\n",
       "      <td>0</td>\n",
       "      <td>0</td>\n",
       "      <td>208</td>\n",
       "    </tr>\n",
       "    <tr>\n",
       "      <th>725</th>\n",
       "      <td>8.106515</td>\n",
       "      <td>2005</td>\n",
       "      <td>1247.0</td>\n",
       "      <td>1247</td>\n",
       "      <td>0</td>\n",
       "      <td>7.128496</td>\n",
       "      <td>1.0</td>\n",
       "      <td>0.0</td>\n",
       "      <td>1</td>\n",
       "      <td>1</td>\n",
       "      <td>1</td>\n",
       "      <td>1</td>\n",
       "      <td>4</td>\n",
       "      <td>1</td>\n",
       "      <td>2.0</td>\n",
       "      <td>550.0</td>\n",
       "      <td>0</td>\n",
       "      <td>0</td>\n",
       "      <td>0</td>\n",
       "      <td>196</td>\n",
       "    </tr>\n",
       "    <tr>\n",
       "      <th>2020</th>\n",
       "      <td>9.292105</td>\n",
       "      <td>2000</td>\n",
       "      <td>959.0</td>\n",
       "      <td>959</td>\n",
       "      <td>712</td>\n",
       "      <td>7.421178</td>\n",
       "      <td>1.0</td>\n",
       "      <td>0.0</td>\n",
       "      <td>2</td>\n",
       "      <td>1</td>\n",
       "      <td>3</td>\n",
       "      <td>1</td>\n",
       "      <td>7</td>\n",
       "      <td>1</td>\n",
       "      <td>2.0</td>\n",
       "      <td>472.0</td>\n",
       "      <td>0</td>\n",
       "      <td>0</td>\n",
       "      <td>0</td>\n",
       "      <td>194</td>\n",
       "    </tr>\n",
       "  </tbody>\n",
       "</table>\n",
       "<p>1535 rows × 20 columns</p>\n",
       "</div>"
      ],
      "text/plain": [
       "      lot_area  year_built  total_bsmt_sf  1st_flr_sf  2nd_flr_sf  \\\n",
       "1733  8.976768        1999          953.0         953         694   \n",
       "258   9.270023        1900          978.0        1014         685   \n",
       "902   9.077951        2006         1489.0        1500           0   \n",
       "450   9.035987        1968          833.0         898           0   \n",
       "1706  9.186048        1963         1395.0        1395           0   \n",
       "...        ...         ...            ...         ...         ...   \n",
       "1454  9.114270        1941          616.0         616         495   \n",
       "1006  9.694370        1998         1028.0        1210        1242   \n",
       "953   9.131838        2006          939.0         939         858   \n",
       "725   8.106515        2005         1247.0        1247           0   \n",
       "2020  9.292105        2000          959.0         959         712   \n",
       "\n",
       "      gr_liv_area  bsmt_full_bath  bsmt_half_bath  full_bath  half_bath  \\\n",
       "1733     7.406711             0.0             0.0          2          1   \n",
       "258      7.437795             1.0             0.0          2          0   \n",
       "902      7.313220             0.0             0.0          2          0   \n",
       "450      6.800170             1.0             0.0          1          0   \n",
       "1706     7.240650             1.0             0.0          1          0   \n",
       "...           ...             ...             ...        ...        ...   \n",
       "1454     7.013016             0.0             1.0          1          0   \n",
       "1006     7.804659             0.0             0.0          2          1   \n",
       "953      7.493874             0.0             0.0          2          1   \n",
       "725      7.128496             1.0             0.0          1          1   \n",
       "2020     7.421178             1.0             0.0          2          1   \n",
       "\n",
       "      bedroom_abvgr  kitchen_abvgr  totrms_abvgrd  fireplaces  garage_cars  \\\n",
       "1733              3              1              7           1          2.0   \n",
       "258               3              2              7           0          2.0   \n",
       "902               3              1              7           1          2.0   \n",
       "450               3              1              6           0          1.0   \n",
       "1706              2              1              7           1          2.0   \n",
       "...             ...            ...            ...         ...          ...   \n",
       "1454              3              1              5           0          1.0   \n",
       "1006              4              1              9           1          2.0   \n",
       "953               3              1              8           0          2.0   \n",
       "725               1              1              4           1          2.0   \n",
       "2020              3              1              7           1          2.0   \n",
       "\n",
       "      garage_area  screen_porch  pool_area  misc_val  mo_since_1990  \n",
       "1733        460.0             0          0         0            212  \n",
       "258         420.0             0          0         0            236  \n",
       "902         674.0             0          0         0            210  \n",
       "450         326.0             0          0         0            200  \n",
       "1706        440.0           240          0         0            245  \n",
       "...           ...           ...        ...       ...            ...  \n",
       "1454        200.0             0          0         0            219  \n",
       "1006        683.0             0          0         0            209  \n",
       "953         639.0             0          0         0            208  \n",
       "725         550.0             0          0         0            196  \n",
       "2020        472.0             0          0         0            194  \n",
       "\n",
       "[1535 rows x 20 columns]"
      ]
     },
     "execution_count": 365,
     "metadata": {},
     "output_type": "execute_result"
    }
   ],
   "source": [
    "numerics = ['int16', 'int32', 'int64','float16','float32','float64']\n",
    "X_train.select_dtypes(include=numerics)"
   ]
  },
  {
   "cell_type": "markdown",
   "id": "6621dc53-b371-4af7-a460-a7b2064a1ded",
   "metadata": {},
   "source": [
    "With thanks to https://stackoverflow.com/questions/25039626/how-do-i-find-numeric-columns-in-pandas"
   ]
  },
  {
   "cell_type": "markdown",
   "id": "9099d42a-afc2-4f1b-9f4d-a9caa74c8ef8",
   "metadata": {},
   "source": [
    "So, just as said on the get_columns name, there are 20 rows (0-19) as said in those column names. Let's try and use a dictionary to get them to something more usable"
   ]
  },
  {
   "cell_type": "code",
   "execution_count": 373,
   "id": "8c563903-8888-4e8d-a349-74e5558b99e2",
   "metadata": {},
   "outputs": [
    {
     "data": {
      "text/plain": [
       "'lot_area'"
      ]
     },
     "execution_count": 373,
     "metadata": {},
     "output_type": "execute_result"
    }
   ],
   "source": [
    "X_train.select_dtypes(include=numerics).columns[0]"
   ]
  },
  {
   "cell_type": "code",
   "execution_count": 376,
   "id": "6bbcfefa-b366-4a9f-84c4-3a3312ff31b1",
   "metadata": {},
   "outputs": [],
   "source": [
    "x_oh_dict = {'x'+str(num) : X_train.select_dtypes(include=numerics).columns[num] for num in list(range(20))}"
   ]
  },
  {
   "cell_type": "code",
   "execution_count": 385,
   "id": "7c2349eb-acea-4767-8c02-7f22f0c275d6",
   "metadata": {},
   "outputs": [],
   "source": [
    "colnames = ct1.get_feature_names()\n",
    "for key,value in x_oh_dict.items():\n",
    "    colnames = [col.replace(key,value) for col in colnames]"
   ]
  },
  {
   "cell_type": "code",
   "execution_count": 387,
   "id": "a7c05030-b6db-4eff-8580-d5c6f2cb7d99",
   "metadata": {},
   "outputs": [
    {
     "data": {
      "text/plain": [
       "{'x0': 'lot_area',\n",
       " 'x1': 'year_built',\n",
       " 'x2': 'total_bsmt_sf',\n",
       " 'x3': '1st_flr_sf',\n",
       " 'x4': '2nd_flr_sf',\n",
       " 'x5': 'gr_liv_area',\n",
       " 'x6': 'bsmt_full_bath',\n",
       " 'x7': 'bsmt_half_bath',\n",
       " 'x8': 'full_bath',\n",
       " 'x9': 'half_bath',\n",
       " 'x10': 'bedroom_abvgr',\n",
       " 'x11': 'kitchen_abvgr',\n",
       " 'x12': 'totrms_abvgrd',\n",
       " 'x13': 'fireplaces',\n",
       " 'x14': 'garage_cars',\n",
       " 'x15': 'garage_area',\n",
       " 'x16': 'screen_porch',\n",
       " 'x17': 'pool_area',\n",
       " 'x18': 'misc_val',\n",
       " 'x19': 'mo_since_1990'}"
      ]
     },
     "execution_count": 387,
     "metadata": {},
     "output_type": "execute_result"
    }
   ],
   "source": [
    "x_oh_dict"
   ]
  },
  {
   "cell_type": "code",
   "execution_count": 388,
   "id": "3f201d9a-5d71-4eb5-abb0-1834193473e9",
   "metadata": {},
   "outputs": [],
   "source": [
    "secret_dict = {'year_built'+str(num):x_oh_dict.get('x1'+str(num)) for num in list(range(10))}"
   ]
  },
  {
   "cell_type": "code",
   "execution_count": 390,
   "id": "6763364e-a331-454a-986b-7d8db6a96262",
   "metadata": {},
   "outputs": [],
   "source": [
    "for key,value in secret_dict.items():\n",
    "    colnames = [col.replace(key,value) for col in colnames]"
   ]
  },
  {
   "cell_type": "code",
   "execution_count": 396,
   "id": "c282bf87-41c5-4c38-a06c-000c8aec8a27",
   "metadata": {},
   "outputs": [],
   "source": [
    "new_cols = []\n",
    "for col in colnames:\n",
    "    a,b = col.split('__')\n",
    "    new_cols.append(b)"
   ]
  },
  {
   "cell_type": "code",
   "execution_count": 404,
   "id": "ef49a13a-fc1c-44b3-be4e-0dd8ca9ab7a7",
   "metadata": {},
   "outputs": [
    {
     "data": {
      "text/plain": [
       "array(['ms_zoning_6', 'lot_area', 'utilities_1', 'utilities_2',\n",
       "       'neighborhood_2', 'neighborhood_4', 'neighborhood_6',\n",
       "       'neighborhood_7', 'neighborhood_8', 'neighborhood_9',\n",
       "       'neighborhood_10', 'neighborhood_12', 'neighborhood_13',\n",
       "       'neighborhood_14', 'neighborhood_17', 'neighborhood_20',\n",
       "       'neighborhood_21', 'neighborhood_24', 'neighborhood_25',\n",
       "       'neighborhood_28', 'heating_1', 'heating_4', 'heating_5',\n",
       "       'gr_liv_area', 'bsmt_full_bath', 'bsmt_half_bath', 'kitchen_abvgr',\n",
       "       'garage_type_2', 'garage_type_3', 'garage_type_4', 'garage_cars',\n",
       "       'pool_qc_1', 'pool_qc_2', 'pool_qc_3', 'pool_qc_4', 'pool_qc_5',\n",
       "       'misc_feature_1', 'misc_feature_2', 'misc_feature_3',\n",
       "       'misc_feature_4', 'misc_feature_5', 'misc_feature_6',\n",
       "       'sale_type_2', 'sale_type_7'], dtype=object)"
      ]
     },
     "execution_count": 404,
     "metadata": {},
     "output_type": "execute_result"
    }
   ],
   "source": [
    "rfe.get_feature_names_out()"
   ]
  },
  {
   "cell_type": "code",
   "execution_count": 405,
   "id": "42a021ae-42c8-42c9-a400-0a86369f3480",
   "metadata": {},
   "outputs": [],
   "source": [
    "X_train_pd_ct = pd.DataFrame(ct1.transform(X_train),columns=new_cols)"
   ]
  },
  {
   "cell_type": "code",
   "execution_count": 407,
   "id": "fd30517f-7196-4e67-8b34-df7c6cff10ac",
   "metadata": {},
   "outputs": [],
   "source": [
    "rfe2 = RFE(LinearRegression(),n_features_to_select=.3)"
   ]
  },
  {
   "cell_type": "code",
   "execution_count": 435,
   "id": "8a6c3e59-8143-4d45-b4ce-b46b05a2a5b3",
   "metadata": {},
   "outputs": [],
   "source": [
    "X_train_rfe2 = pd.DataFrame(rfe2.fit_transform(X_train_pd_ct,y_train),columns=rfe2.get_feature_names_out())"
   ]
  },
  {
   "cell_type": "code",
   "execution_count": 436,
   "id": "0c236b31-2d66-4c00-b328-148a0e102ecf",
   "metadata": {},
   "outputs": [
    {
     "data": {
      "text/html": [
       "<div>\n",
       "<style scoped>\n",
       "    .dataframe tbody tr th:only-of-type {\n",
       "        vertical-align: middle;\n",
       "    }\n",
       "\n",
       "    .dataframe tbody tr th {\n",
       "        vertical-align: top;\n",
       "    }\n",
       "\n",
       "    .dataframe thead th {\n",
       "        text-align: right;\n",
       "    }\n",
       "</style>\n",
       "<table border=\"1\" class=\"dataframe\">\n",
       "  <thead>\n",
       "    <tr style=\"text-align: right;\">\n",
       "      <th></th>\n",
       "      <th>ms_zoning_1</th>\n",
       "      <th>ms_zoning_2</th>\n",
       "      <th>ms_zoning_4</th>\n",
       "      <th>ms_zoning_5</th>\n",
       "      <th>ms_zoning_6</th>\n",
       "      <th>utilities_1</th>\n",
       "      <th>utilities_2</th>\n",
       "      <th>lot_config_1</th>\n",
       "      <th>lot_config_3</th>\n",
       "      <th>lot_config_4</th>\n",
       "      <th>...</th>\n",
       "      <th>bsmt_half_bath full_bath</th>\n",
       "      <th>bsmt_half_bath kitchen_abvgr</th>\n",
       "      <th>bsmt_half_bath totrms_abvgrd</th>\n",
       "      <th>bsmt_half_bath fireplaces</th>\n",
       "      <th>full_bath half_bath</th>\n",
       "      <th>full_bath garage_cars</th>\n",
       "      <th>bedroom_abvgr fireplaces</th>\n",
       "      <th>bedroom_abvgr garage_cars</th>\n",
       "      <th>kitchen_abvgr garage_cars</th>\n",
       "      <th>fireplaces garage_cars</th>\n",
       "    </tr>\n",
       "  </thead>\n",
       "  <tbody>\n",
       "    <tr>\n",
       "      <th>0</th>\n",
       "      <td>1.0</td>\n",
       "      <td>0.0</td>\n",
       "      <td>0.0</td>\n",
       "      <td>0.0</td>\n",
       "      <td>0.0</td>\n",
       "      <td>1.0</td>\n",
       "      <td>0.0</td>\n",
       "      <td>1.0</td>\n",
       "      <td>0.0</td>\n",
       "      <td>0.0</td>\n",
       "      <td>...</td>\n",
       "      <td>0.0</td>\n",
       "      <td>0.0</td>\n",
       "      <td>0.0</td>\n",
       "      <td>0.0</td>\n",
       "      <td>2.0</td>\n",
       "      <td>4.0</td>\n",
       "      <td>3.0</td>\n",
       "      <td>6.0</td>\n",
       "      <td>2.0</td>\n",
       "      <td>2.0</td>\n",
       "    </tr>\n",
       "    <tr>\n",
       "      <th>1</th>\n",
       "      <td>1.0</td>\n",
       "      <td>0.0</td>\n",
       "      <td>0.0</td>\n",
       "      <td>0.0</td>\n",
       "      <td>0.0</td>\n",
       "      <td>1.0</td>\n",
       "      <td>0.0</td>\n",
       "      <td>0.0</td>\n",
       "      <td>0.0</td>\n",
       "      <td>0.0</td>\n",
       "      <td>...</td>\n",
       "      <td>0.0</td>\n",
       "      <td>0.0</td>\n",
       "      <td>0.0</td>\n",
       "      <td>0.0</td>\n",
       "      <td>0.0</td>\n",
       "      <td>4.0</td>\n",
       "      <td>0.0</td>\n",
       "      <td>6.0</td>\n",
       "      <td>4.0</td>\n",
       "      <td>0.0</td>\n",
       "    </tr>\n",
       "    <tr>\n",
       "      <th>2</th>\n",
       "      <td>1.0</td>\n",
       "      <td>0.0</td>\n",
       "      <td>0.0</td>\n",
       "      <td>0.0</td>\n",
       "      <td>0.0</td>\n",
       "      <td>1.0</td>\n",
       "      <td>0.0</td>\n",
       "      <td>1.0</td>\n",
       "      <td>0.0</td>\n",
       "      <td>0.0</td>\n",
       "      <td>...</td>\n",
       "      <td>0.0</td>\n",
       "      <td>0.0</td>\n",
       "      <td>0.0</td>\n",
       "      <td>0.0</td>\n",
       "      <td>0.0</td>\n",
       "      <td>4.0</td>\n",
       "      <td>3.0</td>\n",
       "      <td>6.0</td>\n",
       "      <td>2.0</td>\n",
       "      <td>2.0</td>\n",
       "    </tr>\n",
       "    <tr>\n",
       "      <th>3</th>\n",
       "      <td>1.0</td>\n",
       "      <td>0.0</td>\n",
       "      <td>0.0</td>\n",
       "      <td>0.0</td>\n",
       "      <td>0.0</td>\n",
       "      <td>1.0</td>\n",
       "      <td>0.0</td>\n",
       "      <td>1.0</td>\n",
       "      <td>0.0</td>\n",
       "      <td>0.0</td>\n",
       "      <td>...</td>\n",
       "      <td>0.0</td>\n",
       "      <td>0.0</td>\n",
       "      <td>0.0</td>\n",
       "      <td>0.0</td>\n",
       "      <td>0.0</td>\n",
       "      <td>1.0</td>\n",
       "      <td>0.0</td>\n",
       "      <td>3.0</td>\n",
       "      <td>1.0</td>\n",
       "      <td>0.0</td>\n",
       "    </tr>\n",
       "    <tr>\n",
       "      <th>4</th>\n",
       "      <td>1.0</td>\n",
       "      <td>0.0</td>\n",
       "      <td>0.0</td>\n",
       "      <td>0.0</td>\n",
       "      <td>0.0</td>\n",
       "      <td>1.0</td>\n",
       "      <td>0.0</td>\n",
       "      <td>1.0</td>\n",
       "      <td>0.0</td>\n",
       "      <td>0.0</td>\n",
       "      <td>...</td>\n",
       "      <td>0.0</td>\n",
       "      <td>0.0</td>\n",
       "      <td>0.0</td>\n",
       "      <td>0.0</td>\n",
       "      <td>0.0</td>\n",
       "      <td>2.0</td>\n",
       "      <td>2.0</td>\n",
       "      <td>4.0</td>\n",
       "      <td>2.0</td>\n",
       "      <td>2.0</td>\n",
       "    </tr>\n",
       "    <tr>\n",
       "      <th>...</th>\n",
       "      <td>...</td>\n",
       "      <td>...</td>\n",
       "      <td>...</td>\n",
       "      <td>...</td>\n",
       "      <td>...</td>\n",
       "      <td>...</td>\n",
       "      <td>...</td>\n",
       "      <td>...</td>\n",
       "      <td>...</td>\n",
       "      <td>...</td>\n",
       "      <td>...</td>\n",
       "      <td>...</td>\n",
       "      <td>...</td>\n",
       "      <td>...</td>\n",
       "      <td>...</td>\n",
       "      <td>...</td>\n",
       "      <td>...</td>\n",
       "      <td>...</td>\n",
       "      <td>...</td>\n",
       "      <td>...</td>\n",
       "      <td>...</td>\n",
       "    </tr>\n",
       "    <tr>\n",
       "      <th>1530</th>\n",
       "      <td>1.0</td>\n",
       "      <td>0.0</td>\n",
       "      <td>0.0</td>\n",
       "      <td>0.0</td>\n",
       "      <td>0.0</td>\n",
       "      <td>1.0</td>\n",
       "      <td>0.0</td>\n",
       "      <td>1.0</td>\n",
       "      <td>0.0</td>\n",
       "      <td>0.0</td>\n",
       "      <td>...</td>\n",
       "      <td>1.0</td>\n",
       "      <td>1.0</td>\n",
       "      <td>5.0</td>\n",
       "      <td>0.0</td>\n",
       "      <td>0.0</td>\n",
       "      <td>1.0</td>\n",
       "      <td>0.0</td>\n",
       "      <td>3.0</td>\n",
       "      <td>1.0</td>\n",
       "      <td>0.0</td>\n",
       "    </tr>\n",
       "    <tr>\n",
       "      <th>1531</th>\n",
       "      <td>1.0</td>\n",
       "      <td>0.0</td>\n",
       "      <td>0.0</td>\n",
       "      <td>0.0</td>\n",
       "      <td>0.0</td>\n",
       "      <td>1.0</td>\n",
       "      <td>0.0</td>\n",
       "      <td>1.0</td>\n",
       "      <td>0.0</td>\n",
       "      <td>0.0</td>\n",
       "      <td>...</td>\n",
       "      <td>0.0</td>\n",
       "      <td>0.0</td>\n",
       "      <td>0.0</td>\n",
       "      <td>0.0</td>\n",
       "      <td>2.0</td>\n",
       "      <td>4.0</td>\n",
       "      <td>4.0</td>\n",
       "      <td>8.0</td>\n",
       "      <td>2.0</td>\n",
       "      <td>2.0</td>\n",
       "    </tr>\n",
       "    <tr>\n",
       "      <th>1532</th>\n",
       "      <td>1.0</td>\n",
       "      <td>0.0</td>\n",
       "      <td>0.0</td>\n",
       "      <td>0.0</td>\n",
       "      <td>0.0</td>\n",
       "      <td>1.0</td>\n",
       "      <td>0.0</td>\n",
       "      <td>1.0</td>\n",
       "      <td>0.0</td>\n",
       "      <td>0.0</td>\n",
       "      <td>...</td>\n",
       "      <td>0.0</td>\n",
       "      <td>0.0</td>\n",
       "      <td>0.0</td>\n",
       "      <td>0.0</td>\n",
       "      <td>2.0</td>\n",
       "      <td>4.0</td>\n",
       "      <td>0.0</td>\n",
       "      <td>6.0</td>\n",
       "      <td>2.0</td>\n",
       "      <td>0.0</td>\n",
       "    </tr>\n",
       "    <tr>\n",
       "      <th>1533</th>\n",
       "      <td>0.0</td>\n",
       "      <td>0.0</td>\n",
       "      <td>1.0</td>\n",
       "      <td>0.0</td>\n",
       "      <td>0.0</td>\n",
       "      <td>1.0</td>\n",
       "      <td>0.0</td>\n",
       "      <td>1.0</td>\n",
       "      <td>0.0</td>\n",
       "      <td>0.0</td>\n",
       "      <td>...</td>\n",
       "      <td>0.0</td>\n",
       "      <td>0.0</td>\n",
       "      <td>0.0</td>\n",
       "      <td>0.0</td>\n",
       "      <td>1.0</td>\n",
       "      <td>2.0</td>\n",
       "      <td>1.0</td>\n",
       "      <td>2.0</td>\n",
       "      <td>2.0</td>\n",
       "      <td>2.0</td>\n",
       "    </tr>\n",
       "    <tr>\n",
       "      <th>1534</th>\n",
       "      <td>1.0</td>\n",
       "      <td>0.0</td>\n",
       "      <td>0.0</td>\n",
       "      <td>0.0</td>\n",
       "      <td>0.0</td>\n",
       "      <td>1.0</td>\n",
       "      <td>0.0</td>\n",
       "      <td>1.0</td>\n",
       "      <td>0.0</td>\n",
       "      <td>0.0</td>\n",
       "      <td>...</td>\n",
       "      <td>0.0</td>\n",
       "      <td>0.0</td>\n",
       "      <td>0.0</td>\n",
       "      <td>0.0</td>\n",
       "      <td>2.0</td>\n",
       "      <td>4.0</td>\n",
       "      <td>3.0</td>\n",
       "      <td>6.0</td>\n",
       "      <td>2.0</td>\n",
       "      <td>2.0</td>\n",
       "    </tr>\n",
       "  </tbody>\n",
       "</table>\n",
       "<p>1535 rows × 90 columns</p>\n",
       "</div>"
      ],
      "text/plain": [
       "      ms_zoning_1  ms_zoning_2  ms_zoning_4  ms_zoning_5  ms_zoning_6  \\\n",
       "0             1.0          0.0          0.0          0.0          0.0   \n",
       "1             1.0          0.0          0.0          0.0          0.0   \n",
       "2             1.0          0.0          0.0          0.0          0.0   \n",
       "3             1.0          0.0          0.0          0.0          0.0   \n",
       "4             1.0          0.0          0.0          0.0          0.0   \n",
       "...           ...          ...          ...          ...          ...   \n",
       "1530          1.0          0.0          0.0          0.0          0.0   \n",
       "1531          1.0          0.0          0.0          0.0          0.0   \n",
       "1532          1.0          0.0          0.0          0.0          0.0   \n",
       "1533          0.0          0.0          1.0          0.0          0.0   \n",
       "1534          1.0          0.0          0.0          0.0          0.0   \n",
       "\n",
       "      utilities_1  utilities_2  lot_config_1  lot_config_3  lot_config_4  ...  \\\n",
       "0             1.0          0.0           1.0           0.0           0.0  ...   \n",
       "1             1.0          0.0           0.0           0.0           0.0  ...   \n",
       "2             1.0          0.0           1.0           0.0           0.0  ...   \n",
       "3             1.0          0.0           1.0           0.0           0.0  ...   \n",
       "4             1.0          0.0           1.0           0.0           0.0  ...   \n",
       "...           ...          ...           ...           ...           ...  ...   \n",
       "1530          1.0          0.0           1.0           0.0           0.0  ...   \n",
       "1531          1.0          0.0           1.0           0.0           0.0  ...   \n",
       "1532          1.0          0.0           1.0           0.0           0.0  ...   \n",
       "1533          1.0          0.0           1.0           0.0           0.0  ...   \n",
       "1534          1.0          0.0           1.0           0.0           0.0  ...   \n",
       "\n",
       "      bsmt_half_bath full_bath  bsmt_half_bath kitchen_abvgr  \\\n",
       "0                          0.0                           0.0   \n",
       "1                          0.0                           0.0   \n",
       "2                          0.0                           0.0   \n",
       "3                          0.0                           0.0   \n",
       "4                          0.0                           0.0   \n",
       "...                        ...                           ...   \n",
       "1530                       1.0                           1.0   \n",
       "1531                       0.0                           0.0   \n",
       "1532                       0.0                           0.0   \n",
       "1533                       0.0                           0.0   \n",
       "1534                       0.0                           0.0   \n",
       "\n",
       "      bsmt_half_bath totrms_abvgrd  bsmt_half_bath fireplaces  \\\n",
       "0                              0.0                        0.0   \n",
       "1                              0.0                        0.0   \n",
       "2                              0.0                        0.0   \n",
       "3                              0.0                        0.0   \n",
       "4                              0.0                        0.0   \n",
       "...                            ...                        ...   \n",
       "1530                           5.0                        0.0   \n",
       "1531                           0.0                        0.0   \n",
       "1532                           0.0                        0.0   \n",
       "1533                           0.0                        0.0   \n",
       "1534                           0.0                        0.0   \n",
       "\n",
       "      full_bath half_bath  full_bath garage_cars  bedroom_abvgr fireplaces  \\\n",
       "0                     2.0                    4.0                       3.0   \n",
       "1                     0.0                    4.0                       0.0   \n",
       "2                     0.0                    4.0                       3.0   \n",
       "3                     0.0                    1.0                       0.0   \n",
       "4                     0.0                    2.0                       2.0   \n",
       "...                   ...                    ...                       ...   \n",
       "1530                  0.0                    1.0                       0.0   \n",
       "1531                  2.0                    4.0                       4.0   \n",
       "1532                  2.0                    4.0                       0.0   \n",
       "1533                  1.0                    2.0                       1.0   \n",
       "1534                  2.0                    4.0                       3.0   \n",
       "\n",
       "      bedroom_abvgr garage_cars  kitchen_abvgr garage_cars  \\\n",
       "0                           6.0                        2.0   \n",
       "1                           6.0                        4.0   \n",
       "2                           6.0                        2.0   \n",
       "3                           3.0                        1.0   \n",
       "4                           4.0                        2.0   \n",
       "...                         ...                        ...   \n",
       "1530                        3.0                        1.0   \n",
       "1531                        8.0                        2.0   \n",
       "1532                        6.0                        2.0   \n",
       "1533                        2.0                        2.0   \n",
       "1534                        6.0                        2.0   \n",
       "\n",
       "      fireplaces garage_cars  \n",
       "0                        2.0  \n",
       "1                        0.0  \n",
       "2                        2.0  \n",
       "3                        0.0  \n",
       "4                        2.0  \n",
       "...                      ...  \n",
       "1530                     0.0  \n",
       "1531                     2.0  \n",
       "1532                     0.0  \n",
       "1533                     2.0  \n",
       "1534                     2.0  \n",
       "\n",
       "[1535 rows x 90 columns]"
      ]
     },
     "execution_count": 436,
     "metadata": {},
     "output_type": "execute_result"
    }
   ],
   "source": [
    "X_train_rfe2"
   ]
  },
  {
   "cell_type": "code",
   "execution_count": 463,
   "id": "1a59b52c-6042-4724-a71e-6ee86e1aac5e",
   "metadata": {},
   "outputs": [
    {
     "data": {
      "text/plain": [
       "0.2804525355789457"
      ]
     },
     "execution_count": 463,
     "metadata": {},
     "output_type": "execute_result"
    }
   ],
   "source": [
    "np.corrcoef(x= X_train_rfe2.iloc[:,[0]],y = pd.DataFrame(np.log(y_train)),rowvar=False).ravel()[1]"
   ]
  },
  {
   "cell_type": "code",
   "execution_count": 460,
   "id": "719ad15f-bab1-465d-bbfc-939ae95a795b",
   "metadata": {},
   "outputs": [
    {
     "data": {
      "text/plain": [
       "((1535, 1), (1535, 1))"
      ]
     },
     "execution_count": 460,
     "metadata": {},
     "output_type": "execute_result"
    }
   ],
   "source": [
    "X_train_rfe2.iloc[:,[0]].shape, pd.DataFrame(np.log(y_train)).shape"
   ]
  },
  {
   "cell_type": "code",
   "execution_count": 465,
   "id": "be4d6dae-0080-4189-a6c4-174470ad7326",
   "metadata": {},
   "outputs": [],
   "source": [
    "correlations = {X_train_rfe2.columns[num]:np.corrcoef(x= X_train_rfe2.iloc[:,[num]],y = pd.DataFrame(np.log(y_train)),rowvar=False).ravel()[1] for num in list(range(90))}"
   ]
  },
  {
   "cell_type": "code",
   "execution_count": 468,
   "id": "4c813e77-5b9b-4856-9516-23765f1e5f44",
   "metadata": {},
   "outputs": [],
   "source": [
    "df_corr = pd.DataFrame([(key,value) for key,value in correlations.items()])"
   ]
  },
  {
   "cell_type": "code",
   "execution_count": 481,
   "id": "9346e064-bb6f-4299-aa04-76ee4936b294",
   "metadata": {},
   "outputs": [],
   "source": [
    "df_corr.set_axis(axis='columns',labels=['variable','R2_score'],inplace=True)"
   ]
  },
  {
   "cell_type": "code",
   "execution_count": 482,
   "id": "30a4e475-38e3-4287-9cdc-8d4c31bf1ea4",
   "metadata": {},
   "outputs": [],
   "source": [
    "df_corr['absolute_score']=df_corr['R2_score'].abs()"
   ]
  },
  {
   "cell_type": "code",
   "execution_count": 486,
   "id": "833c1cd7-628e-4666-b2ca-6bd140da54bf",
   "metadata": {},
   "outputs": [
    {
     "data": {
      "text/html": [
       "<div>\n",
       "<style scoped>\n",
       "    .dataframe tbody tr th:only-of-type {\n",
       "        vertical-align: middle;\n",
       "    }\n",
       "\n",
       "    .dataframe tbody tr th {\n",
       "        vertical-align: top;\n",
       "    }\n",
       "\n",
       "    .dataframe thead th {\n",
       "        text-align: right;\n",
       "    }\n",
       "</style>\n",
       "<table border=\"1\" class=\"dataframe\">\n",
       "  <thead>\n",
       "    <tr style=\"text-align: right;\">\n",
       "      <th></th>\n",
       "      <th>variable</th>\n",
       "      <th>R2_score</th>\n",
       "      <th>absolute_score</th>\n",
       "    </tr>\n",
       "  </thead>\n",
       "  <tbody>\n",
       "    <tr>\n",
       "      <th>58</th>\n",
       "      <td>gr_liv_area</td>\n",
       "      <td>0.715155</td>\n",
       "      <td>0.715155</td>\n",
       "    </tr>\n",
       "    <tr>\n",
       "      <th>85</th>\n",
       "      <td>full_bath garage_cars</td>\n",
       "      <td>0.712534</td>\n",
       "      <td>0.712534</td>\n",
       "    </tr>\n",
       "    <tr>\n",
       "      <th>75</th>\n",
       "      <td>gr_liv_area garage_cars</td>\n",
       "      <td>0.697785</td>\n",
       "      <td>0.697785</td>\n",
       "    </tr>\n",
       "    <tr>\n",
       "      <th>70</th>\n",
       "      <td>lot_area garage_cars</td>\n",
       "      <td>0.677113</td>\n",
       "      <td>0.677113</td>\n",
       "    </tr>\n",
       "    <tr>\n",
       "      <th>66</th>\n",
       "      <td>garage_cars</td>\n",
       "      <td>0.660907</td>\n",
       "      <td>0.660907</td>\n",
       "    </tr>\n",
       "    <tr>\n",
       "      <th>67</th>\n",
       "      <td>lot_area gr_liv_area</td>\n",
       "      <td>0.621572</td>\n",
       "      <td>0.621572</td>\n",
       "    </tr>\n",
       "    <tr>\n",
       "      <th>89</th>\n",
       "      <td>fireplaces garage_cars</td>\n",
       "      <td>0.607709</td>\n",
       "      <td>0.607709</td>\n",
       "    </tr>\n",
       "    <tr>\n",
       "      <th>71</th>\n",
       "      <td>gr_liv_area full_bath</td>\n",
       "      <td>0.596143</td>\n",
       "      <td>0.596143</td>\n",
       "    </tr>\n",
       "    <tr>\n",
       "      <th>87</th>\n",
       "      <td>bedroom_abvgr garage_cars</td>\n",
       "      <td>0.572692</td>\n",
       "      <td>0.572692</td>\n",
       "    </tr>\n",
       "    <tr>\n",
       "      <th>61</th>\n",
       "      <td>full_bath</td>\n",
       "      <td>0.558699</td>\n",
       "      <td>0.558699</td>\n",
       "    </tr>\n",
       "    <tr>\n",
       "      <th>88</th>\n",
       "      <td>kitchen_abvgr garage_cars</td>\n",
       "      <td>0.513939</td>\n",
       "      <td>0.513939</td>\n",
       "    </tr>\n",
       "    <tr>\n",
       "      <th>74</th>\n",
       "      <td>gr_liv_area fireplaces</td>\n",
       "      <td>0.498091</td>\n",
       "      <td>0.498091</td>\n",
       "    </tr>\n",
       "    <tr>\n",
       "      <th>65</th>\n",
       "      <td>fireplaces</td>\n",
       "      <td>0.480576</td>\n",
       "      <td>0.480576</td>\n",
       "    </tr>\n",
       "    <tr>\n",
       "      <th>86</th>\n",
       "      <td>bedroom_abvgr fireplaces</td>\n",
       "      <td>0.454929</td>\n",
       "      <td>0.454929</td>\n",
       "    </tr>\n",
       "    <tr>\n",
       "      <th>79</th>\n",
       "      <td>bsmt_full_bath garage_cars</td>\n",
       "      <td>0.426982</td>\n",
       "      <td>0.426982</td>\n",
       "    </tr>\n",
       "  </tbody>\n",
       "</table>\n",
       "</div>"
      ],
      "text/plain": [
       "                      variable  R2_score  absolute_score\n",
       "58                 gr_liv_area  0.715155        0.715155\n",
       "85       full_bath garage_cars  0.712534        0.712534\n",
       "75     gr_liv_area garage_cars  0.697785        0.697785\n",
       "70        lot_area garage_cars  0.677113        0.677113\n",
       "66                 garage_cars  0.660907        0.660907\n",
       "67        lot_area gr_liv_area  0.621572        0.621572\n",
       "89      fireplaces garage_cars  0.607709        0.607709\n",
       "71       gr_liv_area full_bath  0.596143        0.596143\n",
       "87   bedroom_abvgr garage_cars  0.572692        0.572692\n",
       "61                   full_bath  0.558699        0.558699\n",
       "88   kitchen_abvgr garage_cars  0.513939        0.513939\n",
       "74      gr_liv_area fireplaces  0.498091        0.498091\n",
       "65                  fireplaces  0.480576        0.480576\n",
       "86    bedroom_abvgr fireplaces  0.454929        0.454929\n",
       "79  bsmt_full_bath garage_cars  0.426982        0.426982"
      ]
     },
     "execution_count": 486,
     "metadata": {},
     "output_type": "execute_result"
    }
   ],
   "source": [
    "df_corr.sort_values(by='absolute_score',ascending=False).head(15)"
   ]
  },
  {
   "cell_type": "code",
   "execution_count": 614,
   "id": "b8d85e8b-b648-46a0-8ffc-150e29d61277",
   "metadata": {},
   "outputs": [
    {
     "data": {
      "image/png": "[encoded data removed]",
      "text/plain": [
       "<Figure size 1440x576 with 1 Axes>"
      ]
     },
     "metadata": {
      "needs_background": "light"
     },
     "output_type": "display_data"
    }
   ],
   "source": [
    "plt.figure(figsize=(20,8))\n",
    "sns.barplot(data=pred_coefs.sort_values(by='linear_coefs',ascending=False).head(10),x='features',y='linear_coefs')\n",
    "plt.title('Features versus usefulness in finding sales-price')\n",
    "plt.savefig('Best_coefs.png')"
   ]
  },
  {
   "cell_type": "code",
   "execution_count": 496,
   "id": "b703270a-9cf1-4a9e-9e0f-6f204644a5e5",
   "metadata": {
    "tags": []
   },
   "outputs": [],
   "source": [
    "lr2.fit(X_train_rfe2,np.log(y_train))\n",
    "predicts = lr2.predict(X_train_rfe2)"
   ]
  },
  {
   "cell_type": "code",
   "execution_count": 500,
   "id": "ae901a7c-1ce2-4525-9535-3b633bdc484c",
   "metadata": {},
   "outputs": [],
   "source": [
    "X_train_finalss= ss.fit_transform(X_train_rfe2,y_train)"
   ]
  },
  {
   "cell_type": "code",
   "execution_count": 514,
   "id": "e1c59437-f31e-4d23-9852-0b2b48efb14d",
   "metadata": {},
   "outputs": [
    {
     "data": {
      "text/plain": [
       "27509.677912094907"
      ]
     },
     "execution_count": 514,
     "metadata": {},
     "output_type": "execute_result"
    }
   ],
   "source": [
    "pdX_train_finalss = pd.DataFrame(X_train_finalss,columns=ss.get_feature_names_out()).drop(columns=['paved_drive_1','central_air_1'])\n",
    "lr2.fit(pdX_train_finalss,np.log(y_train))\n",
    "predicts = lr2.predict(pdX_train_finalss)\n",
    "mean_squared_error(y_train,np.exp(predicts))**0.5"
   ]
  },
  {
   "cell_type": "code",
   "execution_count": 515,
   "id": "98ed1222-ffde-4aaf-b947-0e964a4595f6",
   "metadata": {},
   "outputs": [],
   "source": [
    "pred_coefs = pd.DataFrame(list(zip(pdX_train_finalss.columns,lr2.coef_)),columns=['features','linear_coefs'])"
   ]
  },
  {
   "cell_type": "code",
   "execution_count": 516,
   "id": "68e04ddb-c797-43a0-b90c-ee19db136f2a",
   "metadata": {},
   "outputs": [],
   "source": [
    "pred_coefs['abs_coefs'] = pred_coefs['linear_coefs'].abs()"
   ]
  },
  {
   "cell_type": "code",
   "execution_count": 540,
   "id": "b608ef30-1d46-49ba-a844-ba4f172e46a6",
   "metadata": {},
   "outputs": [
    {
     "data": {
      "text/html": [
       "<div>\n",
       "<style scoped>\n",
       "    .dataframe tbody tr th:only-of-type {\n",
       "        vertical-align: middle;\n",
       "    }\n",
       "\n",
       "    .dataframe tbody tr th {\n",
       "        vertical-align: top;\n",
       "    }\n",
       "\n",
       "    .dataframe thead th {\n",
       "        text-align: right;\n",
       "    }\n",
       "</style>\n",
       "<table border=\"1\" class=\"dataframe\">\n",
       "  <thead>\n",
       "    <tr style=\"text-align: right;\">\n",
       "      <th></th>\n",
       "      <th>features</th>\n",
       "      <th>linear_coefs</th>\n",
       "      <th>abs_coefs</th>\n",
       "    </tr>\n",
       "  </thead>\n",
       "  <tbody>\n",
       "    <tr>\n",
       "      <th>65</th>\n",
       "      <td>lot_area gr_liv_area</td>\n",
       "      <td>-1.068655</td>\n",
       "      <td>1.068655</td>\n",
       "    </tr>\n",
       "    <tr>\n",
       "      <th>55</th>\n",
       "      <td>lot_area</td>\n",
       "      <td>0.671565</td>\n",
       "      <td>0.671565</td>\n",
       "    </tr>\n",
       "    <tr>\n",
       "      <th>56</th>\n",
       "      <td>gr_liv_area</td>\n",
       "      <td>0.666528</td>\n",
       "      <td>0.666528</td>\n",
       "    </tr>\n",
       "    <tr>\n",
       "      <th>64</th>\n",
       "      <td>garage_cars</td>\n",
       "      <td>-0.514918</td>\n",
       "      <td>0.514918</td>\n",
       "    </tr>\n",
       "    <tr>\n",
       "      <th>69</th>\n",
       "      <td>gr_liv_area full_bath</td>\n",
       "      <td>0.376385</td>\n",
       "      <td>0.376385</td>\n",
       "    </tr>\n",
       "    <tr>\n",
       "      <th>73</th>\n",
       "      <td>gr_liv_area garage_cars</td>\n",
       "      <td>0.368800</td>\n",
       "      <td>0.368800</td>\n",
       "    </tr>\n",
       "    <tr>\n",
       "      <th>59</th>\n",
       "      <td>full_bath</td>\n",
       "      <td>-0.331302</td>\n",
       "      <td>0.331302</td>\n",
       "    </tr>\n",
       "    <tr>\n",
       "      <th>68</th>\n",
       "      <td>lot_area garage_cars</td>\n",
       "      <td>0.291849</td>\n",
       "      <td>0.291849</td>\n",
       "    </tr>\n",
       "    <tr>\n",
       "      <th>72</th>\n",
       "      <td>gr_liv_area fireplaces</td>\n",
       "      <td>0.280799</td>\n",
       "      <td>0.280799</td>\n",
       "    </tr>\n",
       "    <tr>\n",
       "      <th>67</th>\n",
       "      <td>lot_area bedroom_abvgr</td>\n",
       "      <td>0.236952</td>\n",
       "      <td>0.236952</td>\n",
       "    </tr>\n",
       "    <tr>\n",
       "      <th>70</th>\n",
       "      <td>gr_liv_area half_bath</td>\n",
       "      <td>0.223483</td>\n",
       "      <td>0.223483</td>\n",
       "    </tr>\n",
       "    <tr>\n",
       "      <th>63</th>\n",
       "      <td>fireplaces</td>\n",
       "      <td>-0.221186</td>\n",
       "      <td>0.221186</td>\n",
       "    </tr>\n",
       "    <tr>\n",
       "      <th>61</th>\n",
       "      <td>bedroom_abvgr</td>\n",
       "      <td>-0.202389</td>\n",
       "      <td>0.202389</td>\n",
       "    </tr>\n",
       "    <tr>\n",
       "      <th>60</th>\n",
       "      <td>half_bath</td>\n",
       "      <td>-0.184070</td>\n",
       "      <td>0.184070</td>\n",
       "    </tr>\n",
       "    <tr>\n",
       "      <th>71</th>\n",
       "      <td>gr_liv_area kitchen_abvgr</td>\n",
       "      <td>-0.116310</td>\n",
       "      <td>0.116310</td>\n",
       "    </tr>\n",
       "    <tr>\n",
       "      <th>62</th>\n",
       "      <td>kitchen_abvgr</td>\n",
       "      <td>0.101942</td>\n",
       "      <td>0.101942</td>\n",
       "    </tr>\n",
       "    <tr>\n",
       "      <th>57</th>\n",
       "      <td>bsmt_full_bath</td>\n",
       "      <td>0.087105</td>\n",
       "      <td>0.087105</td>\n",
       "    </tr>\n",
       "    <tr>\n",
       "      <th>0</th>\n",
       "      <td>ms_zoning_1</td>\n",
       "      <td>0.086532</td>\n",
       "      <td>0.086532</td>\n",
       "    </tr>\n",
       "    <tr>\n",
       "      <th>86</th>\n",
       "      <td>kitchen_abvgr garage_cars</td>\n",
       "      <td>-0.083429</td>\n",
       "      <td>0.083429</td>\n",
       "    </tr>\n",
       "    <tr>\n",
       "      <th>1</th>\n",
       "      <td>ms_zoning_2</td>\n",
       "      <td>0.075042</td>\n",
       "      <td>0.075042</td>\n",
       "    </tr>\n",
       "    <tr>\n",
       "      <th>38</th>\n",
       "      <td>garage_type_1</td>\n",
       "      <td>0.070017</td>\n",
       "      <td>0.070017</td>\n",
       "    </tr>\n",
       "    <tr>\n",
       "      <th>66</th>\n",
       "      <td>lot_area bsmt_half_bath</td>\n",
       "      <td>0.069754</td>\n",
       "      <td>0.069754</td>\n",
       "    </tr>\n",
       "    <tr>\n",
       "      <th>75</th>\n",
       "      <td>bsmt_full_bath bedroom_abvgr</td>\n",
       "      <td>-0.066362</td>\n",
       "      <td>0.066362</td>\n",
       "    </tr>\n",
       "    <tr>\n",
       "      <th>12</th>\n",
       "      <td>neighborhood_2</td>\n",
       "      <td>-0.064178</td>\n",
       "      <td>0.064178</td>\n",
       "    </tr>\n",
       "    <tr>\n",
       "      <th>24</th>\n",
       "      <td>neighborhood_17</td>\n",
       "      <td>-0.059971</td>\n",
       "      <td>0.059971</td>\n",
       "    </tr>\n",
       "  </tbody>\n",
       "</table>\n",
       "</div>"
      ],
      "text/plain": [
       "                        features  linear_coefs  abs_coefs\n",
       "65          lot_area gr_liv_area     -1.068655   1.068655\n",
       "55                      lot_area      0.671565   0.671565\n",
       "56                   gr_liv_area      0.666528   0.666528\n",
       "64                   garage_cars     -0.514918   0.514918\n",
       "69         gr_liv_area full_bath      0.376385   0.376385\n",
       "73       gr_liv_area garage_cars      0.368800   0.368800\n",
       "59                     full_bath     -0.331302   0.331302\n",
       "68          lot_area garage_cars      0.291849   0.291849\n",
       "72        gr_liv_area fireplaces      0.280799   0.280799\n",
       "67        lot_area bedroom_abvgr      0.236952   0.236952\n",
       "70         gr_liv_area half_bath      0.223483   0.223483\n",
       "63                    fireplaces     -0.221186   0.221186\n",
       "61                 bedroom_abvgr     -0.202389   0.202389\n",
       "60                     half_bath     -0.184070   0.184070\n",
       "71     gr_liv_area kitchen_abvgr     -0.116310   0.116310\n",
       "62                 kitchen_abvgr      0.101942   0.101942\n",
       "57                bsmt_full_bath      0.087105   0.087105\n",
       "0                    ms_zoning_1      0.086532   0.086532\n",
       "86     kitchen_abvgr garage_cars     -0.083429   0.083429\n",
       "1                    ms_zoning_2      0.075042   0.075042\n",
       "38                 garage_type_1      0.070017   0.070017\n",
       "66       lot_area bsmt_half_bath      0.069754   0.069754\n",
       "75  bsmt_full_bath bedroom_abvgr     -0.066362   0.066362\n",
       "12                neighborhood_2     -0.064178   0.064178\n",
       "24               neighborhood_17     -0.059971   0.059971"
      ]
     },
     "execution_count": 540,
     "metadata": {},
     "output_type": "execute_result"
    }
   ],
   "source": [
    "pred_coefs.sort_values(by='abs_coefs',ascending=False).head(25)"
   ]
  },
  {
   "cell_type": "code",
   "execution_count": 539,
   "id": "dd08d4ae-8e62-4db0-84ff-1debc3fca4ae",
   "metadata": {},
   "outputs": [
    {
     "name": "stderr",
     "output_type": "stream",
     "text": [
      "C:\\ProgramData\\Anaconda3\\lib\\site-packages\\seaborn\\_decorators.py:36: FutureWarning: Pass the following variables as keyword args: x, y. From version 0.12, the only valid positional argument will be `data`, and passing other arguments without an explicit keyword will result in an error or misinterpretation.\n",
      "  warnings.warn(\n"
     ]
    },
    {
     "data": {
      "text/plain": [
       "<AxesSubplot:xlabel='year_built', ylabel='saleprice'>"
      ]
     },
     "execution_count": 539,
     "metadata": {},
     "output_type": "execute_result"
    },
    {
     "data": {
      "image/png": "[encoded data removed]",
      "text/plain": [
       "<Figure size 432x288 with 1 Axes>"
      ]
     },
     "metadata": {
      "needs_background": "light"
     },
     "output_type": "display_data"
    }
   ],
   "source": [
    "sns.scatterplot(X_train['year_built'],np.log(y_train))\n"
   ]
  },
  {
   "cell_type": "code",
   "execution_count": 538,
   "id": "58095a01-0441-497e-bba7-7bc438096083",
   "metadata": {},
   "outputs": [
    {
     "name": "stderr",
     "output_type": "stream",
     "text": [
      "C:\\ProgramData\\Anaconda3\\lib\\site-packages\\seaborn\\_decorators.py:36: FutureWarning: Pass the following variables as keyword args: x, y. From version 0.12, the only valid positional argument will be `data`, and passing other arguments without an explicit keyword will result in an error or misinterpretation.\n",
      "  warnings.warn(\n"
     ]
    },
    {
     "data": {
      "text/plain": [
       "<AxesSubplot:ylabel='saleprice'>"
      ]
     },
     "execution_count": 538,
     "metadata": {},
     "output_type": "execute_result"
    },
    {
     "data": {
      "image/png": "[encoded data removed]",
      "text/plain": [
       "<Figure size 432x288 with 1 Axes>"
      ]
     },
     "metadata": {
      "needs_background": "light"
     },
     "output_type": "display_data"
    }
   ],
   "source": [
    "sns.scatterplot(X_train['gr_liv_area']*X_train['kitchen_abvgr'],np.log(y_train))"
   ]
  },
  {
   "cell_type": "markdown",
   "id": "7aaed55d-4a65-4dee-9761-91ae23caf538",
   "metadata": {},
   "source": [
    "From the information we have, we can identify various important variables, like lot size, area, garages, number of baths, etc, and many that essentially repeat this. Let's try this modeling with only a couple variables, and see what other information we can get"
   ]
  },
  {
   "cell_type": "code",
   "execution_count": 541,
   "id": "077d9920-08b0-433a-b832-bccdb09535db",
   "metadata": {},
   "outputs": [
    {
     "data": {
      "text/plain": [
       "Index(['ms_zoning', 'lot_area', 'utilities', 'lot_config', 'neighborhood',\n",
       "       'bldg_type', 'year_built', 'total_bsmt_sf', 'heating', 'central_air',\n",
       "       '1st_flr_sf', '2nd_flr_sf', 'gr_liv_area', 'bsmt_full_bath',\n",
       "       'bsmt_half_bath', 'full_bath', 'half_bath', 'bedroom_abvgr',\n",
       "       'kitchen_abvgr', 'totrms_abvgrd', 'fireplaces', 'garage_type',\n",
       "       'garage_cars', 'garage_area', 'paved_drive', 'screen_porch',\n",
       "       'pool_area', 'pool_qc', 'fence', 'misc_feature', 'misc_val',\n",
       "       'sale_type', 'mo_since_1990'],\n",
       "      dtype='object')"
      ]
     },
     "execution_count": 541,
     "metadata": {},
     "output_type": "execute_result"
    }
   ],
   "source": [
    "X_train.columns"
   ]
  },
  {
   "cell_type": "code",
   "execution_count": 585,
   "id": "43284b08-316f-452d-bf93-acfc9dc5f304",
   "metadata": {},
   "outputs": [],
   "source": [
    "X_traintoo = X_train[['ms_zoning','lot_area','neighborhood','garage_cars','gr_liv_area','kitchen_abvgr']]\n",
    "X_valtoo = X_val[['ms_zoning','lot_area','neighborhood','garage_cars','gr_liv_area','kitchen_abvgr']]"
   ]
  },
  {
   "cell_type": "code",
   "execution_count": 545,
   "id": "15a23337-2fac-4519-9e35-70ef9314307b",
   "metadata": {},
   "outputs": [],
   "source": [
    "from sklearn.preprocessing import OneHotEncoder\n"
   ]
  },
  {
   "cell_type": "code",
   "execution_count": 586,
   "id": "de51476c-638c-4d4f-bd19-1efbbe79de2a",
   "metadata": {},
   "outputs": [],
   "source": [
    "ct2 = make_column_transformer((OneHotEncoder(drop='first',sparse=False),make_column_selector(dtype_include=object)),remainder='passthrough')"
   ]
  },
  {
   "cell_type": "code",
   "execution_count": 587,
   "id": "b15399a9-99fc-4861-a107-764428a04927",
   "metadata": {
    "tags": []
   },
   "outputs": [],
   "source": [
    "X_traintoo_ct = pd.DataFrame(ct2.fit_transform(X_traintoo,y_train),columns=ct2.get_feature_names_out())"
   ]
  },
  {
   "cell_type": "code",
   "execution_count": 588,
   "id": "fc9189e9-2728-4541-acac-aeab250b76f0",
   "metadata": {},
   "outputs": [],
   "source": [
    "ss3 = StandardScaler()\n",
    "X_traintoo_ss = ss3.fit_transform(X_traintoo_ct)\n",
    "lr3 = LinearRegression()\n",
    "lr3.fit(X_traintoo_ss,np.log(y_train))\n",
    "y_predicttoo = lr3.predict(X_traintoo_ss)"
   ]
  },
  {
   "cell_type": "code",
   "execution_count": 589,
   "id": "99564b05-6a48-4ad4-99b9-cb7590989b00",
   "metadata": {},
   "outputs": [
    {
     "data": {
      "text/plain": [
       "36058.302736908896"
      ]
     },
     "execution_count": 589,
     "metadata": {},
     "output_type": "execute_result"
    }
   ],
   "source": [
    "mean_squared_error(y_train,np.exp(y_predicttoo))**0.5"
   ]
  },
  {
   "cell_type": "code",
   "execution_count": 590,
   "id": "4750e5a5-3ca0-49d0-b865-c6a2d95894a2",
   "metadata": {},
   "outputs": [],
   "source": [
    "X_valtoo_ct = pd.DataFrame(ct2.transform(X_valtoo),columns=ct2.get_feature_names_out())\n",
    "X_valtoo_ss = ss3.transform(X_valtoo_ct)\n",
    "y_valpredicttoo = lr3.predict(X_valtoo_ss)"
   ]
  },
  {
   "cell_type": "code",
   "execution_count": 591,
   "id": "d539454d-2e1c-4496-b0cb-4bca0fd6d248",
   "metadata": {},
   "outputs": [
    {
     "data": {
      "text/plain": [
       "30858.8965344325"
      ]
     },
     "execution_count": 591,
     "metadata": {},
     "output_type": "execute_result"
    }
   ],
   "source": [
    "mean_squared_error(y_val,np.exp(y_valpredicttoo))**0.5"
   ]
  },
  {
   "cell_type": "code",
   "execution_count": 592,
   "id": "3199c82c-5d31-4c5d-a275-9743d9583be2",
   "metadata": {},
   "outputs": [],
   "source": [
    "pred_coefsplus = pd.DataFrame(list(zip(X_traintoo_ct.columns,lr3.coef_)),columns=['features','linear_coefs'])"
   ]
  },
  {
   "cell_type": "code",
   "execution_count": 645,
   "id": "5d0a11de-2241-4d9e-b7f4-60b1812d15ea",
   "metadata": {},
   "outputs": [
    {
     "data": {
      "text/html": [
       "<div>\n",
       "<style scoped>\n",
       "    .dataframe tbody tr th:only-of-type {\n",
       "        vertical-align: middle;\n",
       "    }\n",
       "\n",
       "    .dataframe tbody tr th {\n",
       "        vertical-align: top;\n",
       "    }\n",
       "\n",
       "    .dataframe thead th {\n",
       "        text-align: right;\n",
       "    }\n",
       "</style>\n",
       "<table border=\"1\" class=\"dataframe\">\n",
       "  <thead>\n",
       "    <tr style=\"text-align: right;\">\n",
       "      <th></th>\n",
       "      <th>features</th>\n",
       "      <th>linear_coefs</th>\n",
       "    </tr>\n",
       "  </thead>\n",
       "  <tbody>\n",
       "    <tr>\n",
       "      <th>4</th>\n",
       "      <td>onehotencoder__ms_zoning_RL</td>\n",
       "      <td>0.781166</td>\n",
       "    </tr>\n",
       "    <tr>\n",
       "      <th>5</th>\n",
       "      <td>onehotencoder__ms_zoning_RM</td>\n",
       "      <td>0.696001</td>\n",
       "    </tr>\n",
       "    <tr>\n",
       "      <th>1</th>\n",
       "      <td>onehotencoder__ms_zoning_FV</td>\n",
       "      <td>0.396285</td>\n",
       "    </tr>\n",
       "    <tr>\n",
       "      <th>35</th>\n",
       "      <td>remainder__gr_liv_area</td>\n",
       "      <td>0.176708</td>\n",
       "    </tr>\n",
       "    <tr>\n",
       "      <th>0</th>\n",
       "      <td>onehotencoder__ms_zoning_C (all)</td>\n",
       "      <td>0.168518</td>\n",
       "    </tr>\n",
       "    <tr>\n",
       "      <th>3</th>\n",
       "      <td>onehotencoder__ms_zoning_RH</td>\n",
       "      <td>0.149423</td>\n",
       "    </tr>\n",
       "    <tr>\n",
       "      <th>34</th>\n",
       "      <td>remainder__garage_cars</td>\n",
       "      <td>0.065567</td>\n",
       "    </tr>\n",
       "    <tr>\n",
       "      <th>33</th>\n",
       "      <td>remainder__lot_area</td>\n",
       "      <td>0.042399</td>\n",
       "    </tr>\n",
       "    <tr>\n",
       "      <th>24</th>\n",
       "      <td>onehotencoder__neighborhood_NridgHt</td>\n",
       "      <td>0.039810</td>\n",
       "    </tr>\n",
       "    <tr>\n",
       "      <th>2</th>\n",
       "      <td>onehotencoder__ms_zoning_I (all)</td>\n",
       "      <td>0.037763</td>\n",
       "    </tr>\n",
       "    <tr>\n",
       "      <th>30</th>\n",
       "      <td>onehotencoder__neighborhood_StoneBr</td>\n",
       "      <td>0.029645</td>\n",
       "    </tr>\n",
       "    <tr>\n",
       "      <th>15</th>\n",
       "      <td>onehotencoder__neighborhood_GrnHill</td>\n",
       "      <td>0.011902</td>\n",
       "    </tr>\n",
       "    <tr>\n",
       "      <th>29</th>\n",
       "      <td>onehotencoder__neighborhood_Somerst</td>\n",
       "      <td>0.011797</td>\n",
       "    </tr>\n",
       "    <tr>\n",
       "      <th>32</th>\n",
       "      <td>onehotencoder__neighborhood_Veenker</td>\n",
       "      <td>0.005733</td>\n",
       "    </tr>\n",
       "    <tr>\n",
       "      <th>23</th>\n",
       "      <td>onehotencoder__neighborhood_NoRidge</td>\n",
       "      <td>0.002636</td>\n",
       "    </tr>\n",
       "    <tr>\n",
       "      <th>14</th>\n",
       "      <td>onehotencoder__neighborhood_Greens</td>\n",
       "      <td>0.001538</td>\n",
       "    </tr>\n",
       "    <tr>\n",
       "      <th>31</th>\n",
       "      <td>onehotencoder__neighborhood_Timber</td>\n",
       "      <td>-0.005144</td>\n",
       "    </tr>\n",
       "    <tr>\n",
       "      <th>17</th>\n",
       "      <td>onehotencoder__neighborhood_Landmrk</td>\n",
       "      <td>-0.009378</td>\n",
       "    </tr>\n",
       "    <tr>\n",
       "      <th>9</th>\n",
       "      <td>onehotencoder__neighborhood_ClearCr</td>\n",
       "      <td>-0.014441</td>\n",
       "    </tr>\n",
       "    <tr>\n",
       "      <th>6</th>\n",
       "      <td>onehotencoder__neighborhood_Blueste</td>\n",
       "      <td>-0.015767</td>\n",
       "    </tr>\n",
       "    <tr>\n",
       "      <th>11</th>\n",
       "      <td>onehotencoder__neighborhood_Crawfor</td>\n",
       "      <td>-0.018455</td>\n",
       "    </tr>\n",
       "    <tr>\n",
       "      <th>21</th>\n",
       "      <td>onehotencoder__neighborhood_NPkVill</td>\n",
       "      <td>-0.019505</td>\n",
       "    </tr>\n",
       "    <tr>\n",
       "      <th>10</th>\n",
       "      <td>onehotencoder__neighborhood_CollgCr</td>\n",
       "      <td>-0.023940</td>\n",
       "    </tr>\n",
       "    <tr>\n",
       "      <th>28</th>\n",
       "      <td>onehotencoder__neighborhood_SawyerW</td>\n",
       "      <td>-0.032953</td>\n",
       "    </tr>\n",
       "    <tr>\n",
       "      <th>19</th>\n",
       "      <td>onehotencoder__neighborhood_Mitchel</td>\n",
       "      <td>-0.033009</td>\n",
       "    </tr>\n",
       "    <tr>\n",
       "      <th>7</th>\n",
       "      <td>onehotencoder__neighborhood_BrDale</td>\n",
       "      <td>-0.039605</td>\n",
       "    </tr>\n",
       "    <tr>\n",
       "      <th>13</th>\n",
       "      <td>onehotencoder__neighborhood_Gilbert</td>\n",
       "      <td>-0.039815</td>\n",
       "    </tr>\n",
       "    <tr>\n",
       "      <th>22</th>\n",
       "      <td>onehotencoder__neighborhood_NWAmes</td>\n",
       "      <td>-0.042286</td>\n",
       "    </tr>\n",
       "    <tr>\n",
       "      <th>18</th>\n",
       "      <td>onehotencoder__neighborhood_MeadowV</td>\n",
       "      <td>-0.044799</td>\n",
       "    </tr>\n",
       "    <tr>\n",
       "      <th>26</th>\n",
       "      <td>onehotencoder__neighborhood_SWISU</td>\n",
       "      <td>-0.048486</td>\n",
       "    </tr>\n",
       "    <tr>\n",
       "      <th>36</th>\n",
       "      <td>remainder__kitchen_abvgr</td>\n",
       "      <td>-0.053175</td>\n",
       "    </tr>\n",
       "    <tr>\n",
       "      <th>27</th>\n",
       "      <td>onehotencoder__neighborhood_Sawyer</td>\n",
       "      <td>-0.061039</td>\n",
       "    </tr>\n",
       "    <tr>\n",
       "      <th>8</th>\n",
       "      <td>onehotencoder__neighborhood_BrkSide</td>\n",
       "      <td>-0.067684</td>\n",
       "    </tr>\n",
       "    <tr>\n",
       "      <th>20</th>\n",
       "      <td>onehotencoder__neighborhood_NAmes</td>\n",
       "      <td>-0.085712</td>\n",
       "    </tr>\n",
       "    <tr>\n",
       "      <th>16</th>\n",
       "      <td>onehotencoder__neighborhood_IDOTRR</td>\n",
       "      <td>-0.096985</td>\n",
       "    </tr>\n",
       "    <tr>\n",
       "      <th>12</th>\n",
       "      <td>onehotencoder__neighborhood_Edwards</td>\n",
       "      <td>-0.102803</td>\n",
       "    </tr>\n",
       "    <tr>\n",
       "      <th>25</th>\n",
       "      <td>onehotencoder__neighborhood_OldTown</td>\n",
       "      <td>-0.129871</td>\n",
       "    </tr>\n",
       "  </tbody>\n",
       "</table>\n",
       "</div>"
      ],
      "text/plain": [
       "                               features  linear_coefs\n",
       "4           onehotencoder__ms_zoning_RL      0.781166\n",
       "5           onehotencoder__ms_zoning_RM      0.696001\n",
       "1           onehotencoder__ms_zoning_FV      0.396285\n",
       "35               remainder__gr_liv_area      0.176708\n",
       "0      onehotencoder__ms_zoning_C (all)      0.168518\n",
       "3           onehotencoder__ms_zoning_RH      0.149423\n",
       "34               remainder__garage_cars      0.065567\n",
       "33                  remainder__lot_area      0.042399\n",
       "24  onehotencoder__neighborhood_NridgHt      0.039810\n",
       "2      onehotencoder__ms_zoning_I (all)      0.037763\n",
       "30  onehotencoder__neighborhood_StoneBr      0.029645\n",
       "15  onehotencoder__neighborhood_GrnHill      0.011902\n",
       "29  onehotencoder__neighborhood_Somerst      0.011797\n",
       "32  onehotencoder__neighborhood_Veenker      0.005733\n",
       "23  onehotencoder__neighborhood_NoRidge      0.002636\n",
       "14   onehotencoder__neighborhood_Greens      0.001538\n",
       "31   onehotencoder__neighborhood_Timber     -0.005144\n",
       "17  onehotencoder__neighborhood_Landmrk     -0.009378\n",
       "9   onehotencoder__neighborhood_ClearCr     -0.014441\n",
       "6   onehotencoder__neighborhood_Blueste     -0.015767\n",
       "11  onehotencoder__neighborhood_Crawfor     -0.018455\n",
       "21  onehotencoder__neighborhood_NPkVill     -0.019505\n",
       "10  onehotencoder__neighborhood_CollgCr     -0.023940\n",
       "28  onehotencoder__neighborhood_SawyerW     -0.032953\n",
       "19  onehotencoder__neighborhood_Mitchel     -0.033009\n",
       "7    onehotencoder__neighborhood_BrDale     -0.039605\n",
       "13  onehotencoder__neighborhood_Gilbert     -0.039815\n",
       "22   onehotencoder__neighborhood_NWAmes     -0.042286\n",
       "18  onehotencoder__neighborhood_MeadowV     -0.044799\n",
       "26    onehotencoder__neighborhood_SWISU     -0.048486\n",
       "36             remainder__kitchen_abvgr     -0.053175\n",
       "27   onehotencoder__neighborhood_Sawyer     -0.061039\n",
       "8   onehotencoder__neighborhood_BrkSide     -0.067684\n",
       "20    onehotencoder__neighborhood_NAmes     -0.085712\n",
       "16   onehotencoder__neighborhood_IDOTRR     -0.096985\n",
       "12  onehotencoder__neighborhood_Edwards     -0.102803\n",
       "25  onehotencoder__neighborhood_OldTown     -0.129871"
      ]
     },
     "execution_count": 645,
     "metadata": {},
     "output_type": "execute_result"
    }
   ],
   "source": [
    "pred_coefsplus.sort_values(by='linear_coefs',ascending=False)\n"
   ]
  },
  {
   "cell_type": "code",
   "execution_count": 652,
   "id": "393926f2-0634-4e91-acf1-0d3812af07c0",
   "metadata": {},
   "outputs": [
    {
     "data": {
      "image/png": "[encoded data removed]",
      "text/plain": [
       "<Figure size 1440x864 with 1 Axes>"
      ]
     },
     "metadata": {
      "needs_background": "light"
     },
     "output_type": "display_data"
    }
   ],
   "source": [
    "plt.figure(figsize=(20,12))\n",
    "sns.barplot(x=['Northridge Heights','Old Town','Low Density Res'],y=[.039810,-.129871,0.781666])\n",
    "plt.title('Best neighborhood (in price prediction) versus worse neighborhood versus most predictive factor')\n",
    "plt.ylabel('Predictive factor coefficient')\n",
    "plt.savefig('nabe.png')"
   ]
  },
  {
   "cell_type": "code",
   "execution_count": 631,
   "id": "4ffb06fd-ce02-487a-9464-1f05a629ff51",
   "metadata": {},
   "outputs": [
    {
     "name": "stderr",
     "output_type": "stream",
     "text": [
      "C:\\ProgramData\\Anaconda3\\lib\\site-packages\\seaborn\\_decorators.py:36: FutureWarning: Pass the following variables as keyword args: x, y. From version 0.12, the only valid positional argument will be `data`, and passing other arguments without an explicit keyword will result in an error or misinterpretation.\n",
      "  warnings.warn(\n"
     ]
    },
    {
     "data": {
      "image/png": "[encoded data removed]",
      "text/plain": [
       "<Figure size 432x288 with 1 Axes>"
      ]
     },
     "metadata": {
      "needs_background": "light"
     },
     "output_type": "display_data"
    }
   ],
   "source": [
    "sns.barplot(X_traintoo_ct['onehotencoder__ms_zoning_RL'],np.exp(X_traintoo_ct['remainder__gr_liv_area']))\n",
    "plt.xlabel('Zoned Residential Low, yes or no')\n",
    "plt.ylabel('Living space in house')\n",
    "plt.title('House zoning versus house size')\n",
    "plt.savefig('Zoning.png')"
   ]
  },
  {
   "cell_type": "code",
   "execution_count": 630,
   "id": "fb447e29-2b3b-4e97-805a-03dcf2607a34",
   "metadata": {},
   "outputs": [
    {
     "name": "stderr",
     "output_type": "stream",
     "text": [
      "C:\\ProgramData\\Anaconda3\\lib\\site-packages\\seaborn\\_decorators.py:36: FutureWarning: Pass the following variables as keyword args: x, y. From version 0.12, the only valid positional argument will be `data`, and passing other arguments without an explicit keyword will result in an error or misinterpretation.\n",
      "  warnings.warn(\n"
     ]
    },
    {
     "data": {
      "text/plain": [
       "[Text(0, 0, 'Res Low Density'),\n",
       " Text(1, 0, 'Res Med Density'),\n",
       " Text(2, 0, 'Floating Village'),\n",
       " Text(3, 0, 'Comercial'),\n",
       " Text(4, 0, 'Agri'),\n",
       " Text(5, 0, 'Res High Density'),\n",
       " Text(6, 0, 'Industrial')]"
      ]
     },
     "execution_count": 630,
     "metadata": {},
     "output_type": "execute_result"
    },
    {
     "data": {
      "image/png": "[encoded data removed]",
      "text/plain": [
       "<Figure size 432x288 with 1 Axes>"
      ]
     },
     "metadata": {
      "needs_background": "light"
     },
     "output_type": "display_data"
    }
   ],
   "source": [
    "figure, ax = plt.subplots(1,1)\n",
    "sns.barplot(ames_train['ms_zoning'],np.exp(X_traintoo_ct['remainder__gr_liv_area']),ax=ax)\n",
    "ax.set_xticklabels(labels=['Res Low Density','Res Med Density','Floating Village','Comercial','Agri','Res High Density', 'Industrial'])"
   ]
  },
  {
   "cell_type": "code",
   "execution_count": null,
   "id": "a9ae8da0-7405-4b8e-a759-328c23d8e521",
   "metadata": {},
   "outputs": [],
   "source": []
  }
 ],
 "metadata": {
  "kernelspec": {
   "display_name": "Python 3 (ipykernel)",
   "language": "python",
   "name": "python3"
  },
  "language_info": {
   "codemirror_mode": {
    "name": "ipython",
    "version": 3
   },
   "file_extension": ".py",
   "mimetype": "text/x-python",
   "name": "python",
   "nbconvert_exporter": "python",
   "pygments_lexer": "ipython3",
   "version": "3.9.7"
  }
 },
 "nbformat": 4,
 "nbformat_minor": 5
}

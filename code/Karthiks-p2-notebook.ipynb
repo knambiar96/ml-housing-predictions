{
 "cells": [
  {
   "cell_type": "code",
   "execution_count": 45,
   "id": "2b4f097c-554f-4363-9ba7-a83a4af81389",
   "metadata": {},
   "outputs": [],
   "source": [
    "import numpy as np\n",
    "import pandas as pd\n",
    "import matplotlib.pyplot as plt\n",
    "import seaborn as sns\n",
    "from sklearn.linear_model import LinearRegression\n",
    "from sklearn.impute import SimpleImputer\n",
    "from sklearn.impute import KNNImputer"
   ]
  },
  {
   "cell_type": "code",
   "execution_count": 23,
   "id": "8ec8e513-63d5-4131-ba6f-89a42e2008ff",
   "metadata": {},
   "outputs": [],
   "source": [
    "ames_train = pd.read_csv('../datasets/train.csv')\n",
    "ames_test = pd.read_csv('../datasets/test.csv')"
   ]
  },
  {
   "cell_type": "code",
   "execution_count": 24,
   "id": "82fcfa40-b3ba-45ca-a5da-b08c281f0bcb",
   "metadata": {},
   "outputs": [
    {
     "data": {
      "text/html": [
       "<div>\n",
       "<style scoped>\n",
       "    .dataframe tbody tr th:only-of-type {\n",
       "        vertical-align: middle;\n",
       "    }\n",
       "\n",
       "    .dataframe tbody tr th {\n",
       "        vertical-align: top;\n",
       "    }\n",
       "\n",
       "    .dataframe thead th {\n",
       "        text-align: right;\n",
       "    }\n",
       "</style>\n",
       "<table border=\"1\" class=\"dataframe\">\n",
       "  <thead>\n",
       "    <tr style=\"text-align: right;\">\n",
       "      <th></th>\n",
       "      <th>Id</th>\n",
       "      <th>PID</th>\n",
       "      <th>MS SubClass</th>\n",
       "      <th>MS Zoning</th>\n",
       "      <th>Lot Frontage</th>\n",
       "      <th>Lot Area</th>\n",
       "      <th>Street</th>\n",
       "      <th>Alley</th>\n",
       "      <th>Lot Shape</th>\n",
       "      <th>Land Contour</th>\n",
       "      <th>...</th>\n",
       "      <th>Screen Porch</th>\n",
       "      <th>Pool Area</th>\n",
       "      <th>Pool QC</th>\n",
       "      <th>Fence</th>\n",
       "      <th>Misc Feature</th>\n",
       "      <th>Misc Val</th>\n",
       "      <th>Mo Sold</th>\n",
       "      <th>Yr Sold</th>\n",
       "      <th>Sale Type</th>\n",
       "      <th>SalePrice</th>\n",
       "    </tr>\n",
       "  </thead>\n",
       "  <tbody>\n",
       "    <tr>\n",
       "      <th>0</th>\n",
       "      <td>109</td>\n",
       "      <td>533352170</td>\n",
       "      <td>60</td>\n",
       "      <td>RL</td>\n",
       "      <td>NaN</td>\n",
       "      <td>13517</td>\n",
       "      <td>Pave</td>\n",
       "      <td>NaN</td>\n",
       "      <td>IR1</td>\n",
       "      <td>Lvl</td>\n",
       "      <td>...</td>\n",
       "      <td>0</td>\n",
       "      <td>0</td>\n",
       "      <td>NaN</td>\n",
       "      <td>NaN</td>\n",
       "      <td>NaN</td>\n",
       "      <td>0</td>\n",
       "      <td>3</td>\n",
       "      <td>2010</td>\n",
       "      <td>WD</td>\n",
       "      <td>130500</td>\n",
       "    </tr>\n",
       "    <tr>\n",
       "      <th>1</th>\n",
       "      <td>544</td>\n",
       "      <td>531379050</td>\n",
       "      <td>60</td>\n",
       "      <td>RL</td>\n",
       "      <td>43.0</td>\n",
       "      <td>11492</td>\n",
       "      <td>Pave</td>\n",
       "      <td>NaN</td>\n",
       "      <td>IR1</td>\n",
       "      <td>Lvl</td>\n",
       "      <td>...</td>\n",
       "      <td>0</td>\n",
       "      <td>0</td>\n",
       "      <td>NaN</td>\n",
       "      <td>NaN</td>\n",
       "      <td>NaN</td>\n",
       "      <td>0</td>\n",
       "      <td>4</td>\n",
       "      <td>2009</td>\n",
       "      <td>WD</td>\n",
       "      <td>220000</td>\n",
       "    </tr>\n",
       "    <tr>\n",
       "      <th>2</th>\n",
       "      <td>153</td>\n",
       "      <td>535304180</td>\n",
       "      <td>20</td>\n",
       "      <td>RL</td>\n",
       "      <td>68.0</td>\n",
       "      <td>7922</td>\n",
       "      <td>Pave</td>\n",
       "      <td>NaN</td>\n",
       "      <td>Reg</td>\n",
       "      <td>Lvl</td>\n",
       "      <td>...</td>\n",
       "      <td>0</td>\n",
       "      <td>0</td>\n",
       "      <td>NaN</td>\n",
       "      <td>NaN</td>\n",
       "      <td>NaN</td>\n",
       "      <td>0</td>\n",
       "      <td>1</td>\n",
       "      <td>2010</td>\n",
       "      <td>WD</td>\n",
       "      <td>109000</td>\n",
       "    </tr>\n",
       "    <tr>\n",
       "      <th>3</th>\n",
       "      <td>318</td>\n",
       "      <td>916386060</td>\n",
       "      <td>60</td>\n",
       "      <td>RL</td>\n",
       "      <td>73.0</td>\n",
       "      <td>9802</td>\n",
       "      <td>Pave</td>\n",
       "      <td>NaN</td>\n",
       "      <td>Reg</td>\n",
       "      <td>Lvl</td>\n",
       "      <td>...</td>\n",
       "      <td>0</td>\n",
       "      <td>0</td>\n",
       "      <td>NaN</td>\n",
       "      <td>NaN</td>\n",
       "      <td>NaN</td>\n",
       "      <td>0</td>\n",
       "      <td>4</td>\n",
       "      <td>2010</td>\n",
       "      <td>WD</td>\n",
       "      <td>174000</td>\n",
       "    </tr>\n",
       "    <tr>\n",
       "      <th>4</th>\n",
       "      <td>255</td>\n",
       "      <td>906425045</td>\n",
       "      <td>50</td>\n",
       "      <td>RL</td>\n",
       "      <td>82.0</td>\n",
       "      <td>14235</td>\n",
       "      <td>Pave</td>\n",
       "      <td>NaN</td>\n",
       "      <td>IR1</td>\n",
       "      <td>Lvl</td>\n",
       "      <td>...</td>\n",
       "      <td>0</td>\n",
       "      <td>0</td>\n",
       "      <td>NaN</td>\n",
       "      <td>NaN</td>\n",
       "      <td>NaN</td>\n",
       "      <td>0</td>\n",
       "      <td>3</td>\n",
       "      <td>2010</td>\n",
       "      <td>WD</td>\n",
       "      <td>138500</td>\n",
       "    </tr>\n",
       "    <tr>\n",
       "      <th>...</th>\n",
       "      <td>...</td>\n",
       "      <td>...</td>\n",
       "      <td>...</td>\n",
       "      <td>...</td>\n",
       "      <td>...</td>\n",
       "      <td>...</td>\n",
       "      <td>...</td>\n",
       "      <td>...</td>\n",
       "      <td>...</td>\n",
       "      <td>...</td>\n",
       "      <td>...</td>\n",
       "      <td>...</td>\n",
       "      <td>...</td>\n",
       "      <td>...</td>\n",
       "      <td>...</td>\n",
       "      <td>...</td>\n",
       "      <td>...</td>\n",
       "      <td>...</td>\n",
       "      <td>...</td>\n",
       "      <td>...</td>\n",
       "      <td>...</td>\n",
       "    </tr>\n",
       "    <tr>\n",
       "      <th>2046</th>\n",
       "      <td>1587</td>\n",
       "      <td>921126030</td>\n",
       "      <td>20</td>\n",
       "      <td>RL</td>\n",
       "      <td>79.0</td>\n",
       "      <td>11449</td>\n",
       "      <td>Pave</td>\n",
       "      <td>NaN</td>\n",
       "      <td>IR1</td>\n",
       "      <td>HLS</td>\n",
       "      <td>...</td>\n",
       "      <td>0</td>\n",
       "      <td>0</td>\n",
       "      <td>NaN</td>\n",
       "      <td>NaN</td>\n",
       "      <td>NaN</td>\n",
       "      <td>0</td>\n",
       "      <td>1</td>\n",
       "      <td>2008</td>\n",
       "      <td>WD</td>\n",
       "      <td>298751</td>\n",
       "    </tr>\n",
       "    <tr>\n",
       "      <th>2047</th>\n",
       "      <td>785</td>\n",
       "      <td>905377130</td>\n",
       "      <td>30</td>\n",
       "      <td>RL</td>\n",
       "      <td>NaN</td>\n",
       "      <td>12342</td>\n",
       "      <td>Pave</td>\n",
       "      <td>NaN</td>\n",
       "      <td>IR1</td>\n",
       "      <td>Lvl</td>\n",
       "      <td>...</td>\n",
       "      <td>0</td>\n",
       "      <td>0</td>\n",
       "      <td>NaN</td>\n",
       "      <td>NaN</td>\n",
       "      <td>NaN</td>\n",
       "      <td>0</td>\n",
       "      <td>3</td>\n",
       "      <td>2009</td>\n",
       "      <td>WD</td>\n",
       "      <td>82500</td>\n",
       "    </tr>\n",
       "    <tr>\n",
       "      <th>2048</th>\n",
       "      <td>916</td>\n",
       "      <td>909253010</td>\n",
       "      <td>50</td>\n",
       "      <td>RL</td>\n",
       "      <td>57.0</td>\n",
       "      <td>7558</td>\n",
       "      <td>Pave</td>\n",
       "      <td>NaN</td>\n",
       "      <td>Reg</td>\n",
       "      <td>Bnk</td>\n",
       "      <td>...</td>\n",
       "      <td>0</td>\n",
       "      <td>0</td>\n",
       "      <td>NaN</td>\n",
       "      <td>NaN</td>\n",
       "      <td>NaN</td>\n",
       "      <td>0</td>\n",
       "      <td>3</td>\n",
       "      <td>2009</td>\n",
       "      <td>WD</td>\n",
       "      <td>177000</td>\n",
       "    </tr>\n",
       "    <tr>\n",
       "      <th>2049</th>\n",
       "      <td>639</td>\n",
       "      <td>535179160</td>\n",
       "      <td>20</td>\n",
       "      <td>RL</td>\n",
       "      <td>80.0</td>\n",
       "      <td>10400</td>\n",
       "      <td>Pave</td>\n",
       "      <td>NaN</td>\n",
       "      <td>Reg</td>\n",
       "      <td>Lvl</td>\n",
       "      <td>...</td>\n",
       "      <td>0</td>\n",
       "      <td>0</td>\n",
       "      <td>NaN</td>\n",
       "      <td>NaN</td>\n",
       "      <td>NaN</td>\n",
       "      <td>0</td>\n",
       "      <td>11</td>\n",
       "      <td>2009</td>\n",
       "      <td>WD</td>\n",
       "      <td>144000</td>\n",
       "    </tr>\n",
       "    <tr>\n",
       "      <th>2050</th>\n",
       "      <td>10</td>\n",
       "      <td>527162130</td>\n",
       "      <td>60</td>\n",
       "      <td>RL</td>\n",
       "      <td>60.0</td>\n",
       "      <td>7500</td>\n",
       "      <td>Pave</td>\n",
       "      <td>NaN</td>\n",
       "      <td>Reg</td>\n",
       "      <td>Lvl</td>\n",
       "      <td>...</td>\n",
       "      <td>0</td>\n",
       "      <td>0</td>\n",
       "      <td>NaN</td>\n",
       "      <td>NaN</td>\n",
       "      <td>NaN</td>\n",
       "      <td>0</td>\n",
       "      <td>6</td>\n",
       "      <td>2010</td>\n",
       "      <td>WD</td>\n",
       "      <td>189000</td>\n",
       "    </tr>\n",
       "  </tbody>\n",
       "</table>\n",
       "<p>2051 rows × 81 columns</p>\n",
       "</div>"
      ],
      "text/plain": [
       "        Id        PID  MS SubClass MS Zoning  Lot Frontage  Lot Area Street  \\\n",
       "0      109  533352170           60        RL           NaN     13517   Pave   \n",
       "1      544  531379050           60        RL          43.0     11492   Pave   \n",
       "2      153  535304180           20        RL          68.0      7922   Pave   \n",
       "3      318  916386060           60        RL          73.0      9802   Pave   \n",
       "4      255  906425045           50        RL          82.0     14235   Pave   \n",
       "...    ...        ...          ...       ...           ...       ...    ...   \n",
       "2046  1587  921126030           20        RL          79.0     11449   Pave   \n",
       "2047   785  905377130           30        RL           NaN     12342   Pave   \n",
       "2048   916  909253010           50        RL          57.0      7558   Pave   \n",
       "2049   639  535179160           20        RL          80.0     10400   Pave   \n",
       "2050    10  527162130           60        RL          60.0      7500   Pave   \n",
       "\n",
       "     Alley Lot Shape Land Contour  ... Screen Porch Pool Area Pool QC Fence  \\\n",
       "0      NaN       IR1          Lvl  ...            0         0     NaN   NaN   \n",
       "1      NaN       IR1          Lvl  ...            0         0     NaN   NaN   \n",
       "2      NaN       Reg          Lvl  ...            0         0     NaN   NaN   \n",
       "3      NaN       Reg          Lvl  ...            0         0     NaN   NaN   \n",
       "4      NaN       IR1          Lvl  ...            0         0     NaN   NaN   \n",
       "...    ...       ...          ...  ...          ...       ...     ...   ...   \n",
       "2046   NaN       IR1          HLS  ...            0         0     NaN   NaN   \n",
       "2047   NaN       IR1          Lvl  ...            0         0     NaN   NaN   \n",
       "2048   NaN       Reg          Bnk  ...            0         0     NaN   NaN   \n",
       "2049   NaN       Reg          Lvl  ...            0         0     NaN   NaN   \n",
       "2050   NaN       Reg          Lvl  ...            0         0     NaN   NaN   \n",
       "\n",
       "     Misc Feature Misc Val Mo Sold Yr Sold  Sale Type  SalePrice  \n",
       "0             NaN        0       3    2010        WD      130500  \n",
       "1             NaN        0       4    2009        WD      220000  \n",
       "2             NaN        0       1    2010        WD      109000  \n",
       "3             NaN        0       4    2010        WD      174000  \n",
       "4             NaN        0       3    2010        WD      138500  \n",
       "...           ...      ...     ...     ...        ...        ...  \n",
       "2046          NaN        0       1    2008        WD      298751  \n",
       "2047          NaN        0       3    2009        WD       82500  \n",
       "2048          NaN        0       3    2009        WD      177000  \n",
       "2049          NaN        0      11    2009        WD      144000  \n",
       "2050          NaN        0       6    2010        WD      189000  \n",
       "\n",
       "[2051 rows x 81 columns]"
      ]
     },
     "execution_count": 24,
     "metadata": {},
     "output_type": "execute_result"
    }
   ],
   "source": [
    "ames_train"
   ]
  },
  {
   "cell_type": "markdown",
   "id": "d99aaf22-3ec8-4e33-bb8c-90259848b1ff",
   "metadata": {},
   "source": [
    "To start off with, let's change the column names to a more python-friendly style"
   ]
  },
  {
   "cell_type": "code",
   "execution_count": 25,
   "id": "9bd2a4ee-5ffb-4fdc-a341-46c781c20476",
   "metadata": {},
   "outputs": [],
   "source": [
    "ames_train.columns = ames_train.columns.str.lower().str.replace(' ','_')\n",
    "ames_test.columns = ames_test.columns.str.lower().str.replace(' ','_')"
   ]
  },
  {
   "cell_type": "markdown",
   "id": "4e6248a2-8a2f-4c60-9084-37e0f678b375",
   "metadata": {},
   "source": [
    "Let's then see what nulls there are"
   ]
  },
  {
   "cell_type": "code",
   "execution_count": 26,
   "id": "7a4a6afe-853c-4b99-bbcc-b196c691ee82",
   "metadata": {},
   "outputs": [
    {
     "data": {
      "text/plain": [
       "pool_qc           2042\n",
       "misc_feature      1986\n",
       "alley             1911\n",
       "fence             1651\n",
       "fireplace_qu      1000\n",
       "lot_frontage       330\n",
       "garage_finish      114\n",
       "garage_qual        114\n",
       "garage_yr_blt      114\n",
       "garage_cond        114\n",
       "garage_type        113\n",
       "bsmt_exposure       58\n",
       "bsmtfin_type_2      56\n",
       "bsmtfin_type_1      55\n",
       "bsmt_cond           55\n",
       "bsmt_qual           55\n",
       "mas_vnr_area        22\n",
       "mas_vnr_type        22\n",
       "bsmt_half_bath       2\n",
       "bsmt_full_bath       2\n",
       "garage_area          1\n",
       "total_bsmt_sf        1\n",
       "bsmt_unf_sf          1\n",
       "bsmtfin_sf_2         1\n",
       "bsmtfin_sf_1         1\n",
       "garage_cars          1\n",
       "dtype: int64"
      ]
     },
     "execution_count": 26,
     "metadata": {},
     "output_type": "execute_result"
    }
   ],
   "source": [
    "ames_train.isnull().sum().sort_values(ascending=False).loc[lambda x: x>0]"
   ]
  },
  {
   "cell_type": "markdown",
   "id": "99f499ba-4928-46c9-80a4-688d32191dee",
   "metadata": {},
   "source": [
    "Based on the data dictionary, pool_qc, misc_feature, alley, fence, fireplace_qu, garage_finish, garage_qual, garage_yr_blt, garage_cond, garage_type, bsmt_exposure, bsmtfin_type_2, 1, cond, qual are all encodings of 'Said feature is not present in this house' ex: 'alley' having a value of nan refers to not having alley access from the property. But some of the features, like mas_vnr_area have a 'none' value already encoded, and an extra nan not mentioned in the dictionary (see below for proof)\n",
    "\n",
    "Therefore, the variables that need a real imputation or removal strategy instead of a method for handling nans as 'none' are: \n",
    "'lot_frontage', 'mas_vnr_area', 'mas_vnr_type', 'bsmt_half_bath', 'bsmt_full_bath', 'garage_area', 'total_bsmt_sf', 'bsmt_unf_sf', 'bsmtfin_sf_2', 'bsmtfin_sf_1', 'garage_cars'"
   ]
  },
  {
   "cell_type": "code",
   "execution_count": 27,
   "id": "cce330d7-dd39-4d8a-bbfb-ec95c4a98d09",
   "metadata": {},
   "outputs": [
    {
     "data": {
      "text/plain": [
       "array(['BrkFace', 'None', nan, 'Stone', 'BrkCmn'], dtype=object)"
      ]
     },
     "execution_count": 27,
     "metadata": {},
     "output_type": "execute_result"
    }
   ],
   "source": [
    "ames_train['mas_vnr_type'].unique()"
   ]
  },
  {
   "cell_type": "code",
   "execution_count": 28,
   "id": "7d8aa81b-63c9-402d-8ad6-21c31aabb71d",
   "metadata": {},
   "outputs": [
    {
     "data": {
      "text/plain": [
       "array([ nan,  43.,  68.,  73.,  82., 137.,  35.,  70.,  21.,  64., 120.,\n",
       "        24.,  74.,  93.,  34.,  80.,  71.,  72., 109.,  40., 103., 100.,\n",
       "        92.,  65.,  75.,  60.,  30.,  79.,  41., 105., 107.,  81.,  36.,\n",
       "        63.,  32.,  94.,  44.,  50.,  48.,  67.,  88.,  83.,  53.,  58.,\n",
       "        57.,  52.,  87., 134.,  56.,  54., 140.,  78.,  85.,  90.,  96.,\n",
       "        62.,  49.,  59., 155.,  91.,  61.,  86., 128.,  77.,  42.,  89.,\n",
       "        51.,  69.,  55., 112.,  76., 125.,  98., 113., 102.,  22., 122.,\n",
       "        84., 119., 118.,  66.,  95., 108., 195., 106.,  39., 110., 130.,\n",
       "        97.,  45.,  37., 123.,  38., 129., 115.,  47., 114., 104.,  46.,\n",
       "       121., 124., 313., 141., 101.,  99., 160., 174.,  26., 144., 138.,\n",
       "       111.,  25.,  33., 200., 150., 117., 153., 116., 135.])"
      ]
     },
     "execution_count": 28,
     "metadata": {},
     "output_type": "execute_result"
    }
   ],
   "source": [
    "ames_train['lot_frontage'].unique()"
   ]
  },
  {
   "cell_type": "markdown",
   "id": "0b7e7113-98b2-415d-8fe1-22bbfaf215ca",
   "metadata": {},
   "source": [
    "ID, PID, are useless for regression/inference, and useless as an index, so we'll just remove those rows"
   ]
  },
  {
   "cell_type": "code",
   "execution_count": 29,
   "id": "0820bd99-16ad-4864-bc6c-640774096af1",
   "metadata": {},
   "outputs": [],
   "source": [
    "ames_train.drop(columns=['id','pid'], inplace=True)\n",
    "ames_test.drop(columns=['id','pid'],inplace=True)"
   ]
  },
  {
   "cell_type": "code",
   "execution_count": 30,
   "id": "faea0563-11fe-4fc6-954b-e6f3fed7f65c",
   "metadata": {},
   "outputs": [
    {
     "data": {
      "text/plain": [
       "array([ 2.,  1.,  3.,  0.,  4.,  5., nan])"
      ]
     },
     "execution_count": 30,
     "metadata": {},
     "output_type": "execute_result"
    }
   ],
   "source": [
    "ames_train['garage_cars'].unique()"
   ]
  },
  {
   "cell_type": "code",
   "execution_count": 31,
   "id": "6f18d0b9-a305-41f8-b1fc-9ef29ce04c22",
   "metadata": {},
   "outputs": [
    {
     "data": {
      "text/plain": [
       "(1327   NaN\n",
       " Name: bsmtfin_sf_1, dtype: float64,\n",
       " 1712   NaN\n",
       " Name: garage_cars, dtype: float64)"
      ]
     },
     "execution_count": 31,
     "metadata": {},
     "output_type": "execute_result"
    }
   ],
   "source": [
    "ames_train['bsmtfin_sf_1'].loc[lambda x: np.isnan(x)], ames_train['garage_cars'].loc[lambda x: np.isnan(x)]"
   ]
  },
  {
   "cell_type": "code",
   "execution_count": 32,
   "id": "0fbf1b16-fce2-411d-b743-b9db0bb536c8",
   "metadata": {},
   "outputs": [
    {
     "data": {
      "text/plain": [
       "<AxesSubplot:xlabel='garage_qual', ylabel='garage_area'>"
      ]
     },
     "execution_count": 32,
     "metadata": {},
     "output_type": "execute_result"
    },
    {
     "data": {
      "image/png": "[encoded data removed]",
      "text/plain": [
       "<Figure size 432x288 with 1 Axes>"
      ]
     },
     "metadata": {
      "needs_background": "light"
     },
     "output_type": "display_data"
    }
   ],
   "source": [
    "sns.barplot(x=ames_train['garage_qual'],y=ames_train['garage_area'])"
   ]
  },
  {
   "cell_type": "markdown",
   "id": "2518cf6c-f178-43f4-822d-eca66b760034",
   "metadata": {},
   "source": [
    "Looking at this plot, and with the arrangement of poor to fair to typical to good to excellent, it looks like garage quality is a subjective measure that's highly correlated with garage size- and we want to avoid multicollinearity when creating models. To that effect, we can change garage_qual to simply being something along the lines of 'Is there a garage, yes or no', and keep the garage area. We want to do with the other garage factors- multiplying these variables by using OHE would greatly inflate the feature space without clear benefits- and perhaps lead to overfitting. The following graphs should be taken in that manner"
   ]
  },
  {
   "cell_type": "code",
   "execution_count": 33,
   "id": "9679238f-b6f8-4def-8f76-50333f071479",
   "metadata": {},
   "outputs": [
    {
     "data": {
      "text/plain": [
       "<AxesSubplot:xlabel='garage_finish', ylabel='garage_area'>"
      ]
     },
     "execution_count": 33,
     "metadata": {},
     "output_type": "execute_result"
    },
    {
     "data": {
      "image/png": "[encoded data removed]",
      "text/plain": [
       "<Figure size 432x288 with 1 Axes>"
      ]
     },
     "metadata": {
      "needs_background": "light"
     },
     "output_type": "display_data"
    }
   ],
   "source": [
    "sns.barplot(x=ames_train['garage_finish'],y=ames_train['garage_area'])"
   ]
  },
  {
   "cell_type": "code",
   "execution_count": 34,
   "id": "abd36f28-b903-4211-9a5f-2b0dc8ef0aeb",
   "metadata": {},
   "outputs": [
    {
     "data": {
      "text/plain": [
       "<AxesSubplot:xlabel='garage_cond', ylabel='garage_area'>"
      ]
     },
     "execution_count": 34,
     "metadata": {},
     "output_type": "execute_result"
    },
    {
     "data": {
      "image/png": "[encoded data removed]",
      "text/plain": [
       "<Figure size 432x288 with 1 Axes>"
      ]
     },
     "metadata": {
      "needs_background": "light"
     },
     "output_type": "display_data"
    }
   ],
   "source": [
    "sns.barplot(x=ames_train['garage_cond'],y=ames_train['garage_area'])"
   ]
  },
  {
   "cell_type": "code",
   "execution_count": 35,
   "id": "2dd79ebb-a9ac-457d-b452-9fd1ce4ed6c4",
   "metadata": {},
   "outputs": [
    {
     "data": {
      "text/plain": [
       "<AxesSubplot:xlabel='garage_type', ylabel='garage_area'>"
      ]
     },
     "execution_count": 35,
     "metadata": {},
     "output_type": "execute_result"
    },
    {
     "data": {
      "image/png": "[encoded data removed]",
      "text/plain": [
       "<Figure size 432x288 with 1 Axes>"
      ]
     },
     "metadata": {
      "needs_background": "light"
     },
     "output_type": "display_data"
    }
   ],
   "source": [
    "sns.barplot(x=ames_train['garage_type'],y=ames_train['garage_area'])"
   ]
  },
  {
   "cell_type": "markdown",
   "id": "561677b5-2a36-40d4-b84c-5e5bdc6feb33",
   "metadata": {},
   "source": [
    "There's no real ordering pattern to the type, so we'll keep it"
   ]
  },
  {
   "cell_type": "code",
   "execution_count": 36,
   "id": "3250e0bd-96da-4ca8-8809-9f217dc3930a",
   "metadata": {},
   "outputs": [
    {
     "data": {
      "text/plain": [
       "<AxesSubplot:xlabel='garage_yr_blt', ylabel='garage_area'>"
      ]
     },
     "execution_count": 36,
     "metadata": {},
     "output_type": "execute_result"
    },
    {
     "data": {
      "image/png": "[encoded data removed]",
      "text/plain": [
       "<Figure size 432x288 with 1 Axes>"
      ]
     },
     "metadata": {
      "needs_background": "light"
     },
     "output_type": "display_data"
    }
   ],
   "source": [
    "sns.scatterplot(x=ames_train['garage_yr_blt'],y=ames_train['garage_area'])"
   ]
  },
  {
   "cell_type": "code",
   "execution_count": 37,
   "id": "7244b163-96fd-4229-80cf-9acb06f35f01",
   "metadata": {},
   "outputs": [
    {
     "data": {
      "text/plain": [
       "array([[1.        , 0.55206888],\n",
       "       [0.55206888, 1.        ]])"
      ]
     },
     "execution_count": 37,
     "metadata": {},
     "output_type": "execute_result"
    }
   ],
   "source": [
    "temp_ames = ames_train.dropna(axis=0, subset=['garage_yr_blt','garage_area'])\n",
    "np.corrcoef(temp_ames['garage_yr_blt'],temp_ames['garage_area'])"
   ]
  },
  {
   "cell_type": "markdown",
   "id": "bf616ce4-6e08-4331-9c21-e338f0bdded8",
   "metadata": {},
   "source": [
    "There's a R**2 of .55, and a rogue yr_blt. We'll keep it in for now, prospectively, and remove the rogue time-traveling garage"
   ]
  },
  {
   "cell_type": "code",
   "execution_count": 38,
   "id": "6d6926b1-b9f5-4600-8fc0-e8bbd020d9cb",
   "metadata": {},
   "outputs": [],
   "source": [
    "ames_train.drop(columns=['garage_qual','garage_finish','garage_cond',], inplace=True)\n",
    "ames_test.drop(columns=['garage_qual','garage_finish','garage_cond',], inplace=True)"
   ]
  },
  {
   "cell_type": "code",
   "execution_count": 41,
   "id": "71a3df47-9941-4511-b8f6-a321327cbfcf",
   "metadata": {},
   "outputs": [
    {
     "data": {
      "text/plain": [
       "(2050, 76)"
      ]
     },
     "execution_count": 41,
     "metadata": {},
     "output_type": "execute_result"
    }
   ],
   "source": [
    "ames_train[(ames_train['garage_yr_blt']<2022) | ames_train['garage_yr_blt'].isnull()].shape\n"
   ]
  },
  {
   "cell_type": "code",
   "execution_count": 42,
   "id": "59454f08-9516-4bbf-8263-3fbf13687213",
   "metadata": {},
   "outputs": [],
   "source": [
    "ames_train = ames_train[(ames_train['garage_yr_blt']<2022) | ames_train['garage_yr_blt'].isnull()]"
   ]
  },
  {
   "cell_type": "markdown",
   "id": "1556d088-7a60-4427-8ced-480605045d42",
   "metadata": {},
   "source": [
    "similarly, for pools:"
   ]
  },
  {
   "cell_type": "code",
   "execution_count": 18,
   "id": "8f03e3c1-df16-46c2-92a0-ff1c1d1f053e",
   "metadata": {},
   "outputs": [
    {
     "name": "stderr",
     "output_type": "stream",
     "text": [
      "C:\\ProgramData\\Anaconda3\\lib\\site-packages\\seaborn\\_decorators.py:36: FutureWarning: Pass the following variables as keyword args: x, y. From version 0.12, the only valid positional argument will be `data`, and passing other arguments without an explicit keyword will result in an error or misinterpretation.\n",
      "  warnings.warn(\n"
     ]
    },
    {
     "data": {
      "text/plain": [
       "<AxesSubplot:xlabel='pool_qc', ylabel='pool_area'>"
      ]
     },
     "execution_count": 18,
     "metadata": {},
     "output_type": "execute_result"
    },
    {
     "data": {
      "image/png": "[encoded data removed]",
      "text/plain": [
       "<Figure size 432x288 with 1 Axes>"
      ]
     },
     "metadata": {
      "needs_background": "light"
     },
     "output_type": "display_data"
    }
   ],
   "source": [
    "sns.barplot(ames_train['pool_qc'],ames_train['pool_area'])"
   ]
  },
  {
   "cell_type": "markdown",
   "id": "24eca254-0d4e-444a-a457-09f3e0b004bf",
   "metadata": {},
   "source": [
    "Perhaps surprisingly, pool quality and pool size do not seem to be related- so we'll fill in the information about no pool, and continue from there"
   ]
  },
  {
   "cell_type": "code",
   "execution_count": 62,
   "id": "47f382c3-1365-46f3-865b-68ae0c96c61c",
   "metadata": {},
   "outputs": [
    {
     "name": "stderr",
     "output_type": "stream",
     "text": [
      "C:\\ProgramData\\Anaconda3\\lib\\site-packages\\pandas\\core\\indexing.py:1884: SettingWithCopyWarning: \n",
      "A value is trying to be set on a copy of a slice from a DataFrame.\n",
      "Try using .loc[row_indexer,col_indexer] = value instead\n",
      "\n",
      "See the caveats in the documentation: https://pandas.pydata.org/pandas-docs/stable/user_guide/indexing.html#returning-a-view-versus-a-copy\n",
      "  self._setitem_single_column(loc, val, pi)\n"
     ]
    }
   ],
   "source": [
    "ames_train.loc[:,['pool_qc','misc_feature','alley','fence','fireplace_qu','garage_type','bsmt_exposure',\n",
    "                  'bsmtfin_type_2','bsmtfin_type_1','bsmt_cond','bsmt_qual']]= ames_train.loc[:,['pool_qc','misc_feature','alley','fence','fireplace_qu','garage_type',\n",
    "                                                                                                 'bsmt_exposure','bsmtfin_type_2','bsmtfin_type_1','bsmt_cond','bsmt_qual']].fillna('NA')"
   ]
  },
  {
   "cell_type": "markdown",
   "id": "15fce3e4-7364-4b2b-a31d-ebe7cda3bcf1",
   "metadata": {},
   "source": [
    "'On the primacy of 'Location, location, location''"
   ]
  },
  {
   "cell_type": "code",
   "execution_count": 63,
   "id": "62445f3b-4aff-4be4-9916-e9da9e1c2c61",
   "metadata": {},
   "outputs": [
    {
     "data": {
      "text/plain": [
       "lot_frontage      330\n",
       "garage_yr_blt     114\n",
       "mas_vnr_type       21\n",
       "mas_vnr_area       21\n",
       "bsmt_full_bath      2\n",
       "bsmt_half_bath      2\n",
       "total_bsmt_sf       1\n",
       "bsmt_unf_sf         1\n",
       "bsmtfin_sf_2        1\n",
       "bsmtfin_sf_1        1\n",
       "garage_cars         1\n",
       "garage_area         1\n",
       "dtype: int64"
      ]
     },
     "execution_count": 63,
     "metadata": {},
     "output_type": "execute_result"
    }
   ],
   "source": [
    "ames_train.isnull().sum().sort_values(ascending=False).loc[lambda x: x>0]"
   ]
  },
  {
   "cell_type": "code",
   "execution_count": 64,
   "id": "cdb69228-5f0f-4a29-ad62-00346cc74893",
   "metadata": {},
   "outputs": [],
   "source": [
    "ames_test.loc[:,['pool_qc','misc_feature','alley','fence','fireplace_qu','garage_type','bsmt_exposure',\n",
    "                  'bsmtfin_type_2','bsmtfin_type_1','bsmt_cond','bsmt_qual']]= ames_test.loc[:,['pool_qc','misc_feature','alley','fence','fireplace_qu','garage_type',\n",
    "                                                                                                 'bsmt_exposure','bsmtfin_type_2','bsmtfin_type_1','bsmt_cond','bsmt_qual']].fillna('NA')"
   ]
  },
  {
   "cell_type": "markdown",
   "id": "a23a8d8d-7a58-4f37-ad0e-1b8e5267cca4",
   "metadata": {},
   "source": [
    "You might have to reconsider this way of doing things"
   ]
  },
  {
   "cell_type": "code",
   "execution_count": 67,
   "id": "95947616-9427-4f03-ac2c-b07522ab2204",
   "metadata": {},
   "outputs": [
    {
     "name": "stderr",
     "output_type": "stream",
     "text": [
      "C:\\ProgramData\\Anaconda3\\lib\\site-packages\\pandas\\core\\generic.py:6392: SettingWithCopyWarning: \n",
      "A value is trying to be set on a copy of a slice from a DataFrame\n",
      "\n",
      "See the caveats in the documentation: https://pandas.pydata.org/pandas-docs/stable/user_guide/indexing.html#returning-a-view-versus-a-copy\n",
      "  return self._update_inplace(result)\n"
     ]
    }
   ],
   "source": [
    "ames_train['garage_yr_blt'].fillna(0,inplace=True)\n",
    "ames_test['garage_yr_blt'].fillna(0,inplace=True)"
   ]
  },
  {
   "cell_type": "code",
   "execution_count": 68,
   "id": "456f0a70-c46e-49d9-8d8a-1064ef3ba1f3",
   "metadata": {},
   "outputs": [
    {
     "data": {
      "text/plain": [
       "lot_frontage      330\n",
       "mas_vnr_type       21\n",
       "mas_vnr_area       21\n",
       "bsmt_full_bath      2\n",
       "bsmt_half_bath      2\n",
       "total_bsmt_sf       1\n",
       "bsmt_unf_sf         1\n",
       "bsmtfin_sf_2        1\n",
       "bsmtfin_sf_1        1\n",
       "garage_cars         1\n",
       "garage_area         1\n",
       "dtype: int64"
      ]
     },
     "execution_count": 68,
     "metadata": {},
     "output_type": "execute_result"
    }
   ],
   "source": [
    "ames_train.isnull().sum().sort_values(ascending=False).loc[lambda x: x>0]"
   ]
  },
  {
   "cell_type": "code",
   "execution_count": 69,
   "id": "a0e86b7e-86e8-40f1-b6c7-8d51f6d9549f",
   "metadata": {},
   "outputs": [],
   "source": [
    "ames_train['mas_vnr_type'].fillna('None',inplace=True)\n",
    "ames_test['mas_vnr_type'].fillna('None',inplace=True)"
   ]
  },
  {
   "cell_type": "code",
   "execution_count": 70,
   "id": "af800a59-1ca1-47f9-a6cf-be57a388a629",
   "metadata": {},
   "outputs": [],
   "source": [
    "ames_train['mas_vnr_area'].fillna(0,inplace=True)\n",
    "ames_test['mas_vnr_area'].fillna(0,inplace=True)"
   ]
  },
  {
   "cell_type": "code",
   "execution_count": null,
   "id": "a3c0e642-caa3-4a91-bd30-92f57faf2066",
   "metadata": {},
   "outputs": [],
   "source": []
  }
 ],
 "metadata": {
  "kernelspec": {
   "display_name": "Python 3 (ipykernel)",
   "language": "python",
   "name": "python3"
  },
  "language_info": {
   "codemirror_mode": {
    "name": "ipython",
    "version": 3
   },
   "file_extension": ".py",
   "mimetype": "text/x-python",
   "name": "python",
   "nbconvert_exporter": "python",
   "pygments_lexer": "ipython3",
   "version": "3.9.7"
  }
 },
 "nbformat": 4,
 "nbformat_minor": 5
}
